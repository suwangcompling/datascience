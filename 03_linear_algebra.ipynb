{
 "cells": [
  {
   "cell_type": "markdown",
   "metadata": {
    "collapsed": true
   },
   "source": [
    "# LINEAR ALGEBRA"
   ]
  },
  {
   "cell_type": "code",
   "execution_count": 35,
   "metadata": {
    "collapsed": true
   },
   "outputs": [],
   "source": [
    "import numpy as np\n",
    "from functools import partial\n",
    "import math"
   ]
  },
  {
   "cell_type": "markdown",
   "metadata": {},
   "source": [
    "### NB: List for vector is terrible for performance."
   ]
  },
  {
   "cell_type": "code",
   "execution_count": 36,
   "metadata": {
    "collapsed": true
   },
   "outputs": [],
   "source": [
    "# BASIC VECTOR OPERATIONS\n",
    "def vector_add(v, w):\n",
    "    return [v_i + w_i for v_i, w_i in zip(v,w)]\n",
    "def vector_subtract(v,w):\n",
    "    return [v_i - w_i for v_i, w_i in zip(v,w)]\n",
    "def vector_sum1(vectors):\n",
    "    result = vectors[0]\n",
    "    for vector in vectors[1:]:\n",
    "        result = vector_add(result, vector)\n",
    "    return result\n",
    "def vector_sum2(vectors):\n",
    "    return reduce(vector_add, vectors)\n",
    "def vector_sum3(vectors):\n",
    "    return partial(reduce, vector_add)\n",
    "def scalar_multiply(c, v):\n",
    "    return [c*v_i for v_i in v]\n",
    "def vector_mean(vectors):\n",
    "    n = len(vectors)\n",
    "    return scalar_multiply(1/n, vector_sum2(vectors))\n",
    "def dot(v, w):\n",
    "    return sum(v_i*w_i for v_i, w_i in zip(v, w))"
   ]
  },
  {
   "cell_type": "code",
   "execution_count": 37,
   "metadata": {
    "collapsed": true
   },
   "outputs": [],
   "source": [
    "# VECTOR SPACE\n",
    "def sum_of_squares(v):\n",
    "    return dot(v,v)\n",
    "def magnitude(v): # length of vector\n",
    "    return math.sqrt(sum_of_squares(v))\n",
    "def squared_distance(v, w):\n",
    "    return sum_of_squares(vector_subtract(v, w))\n",
    "def distance1(v, w):\n",
    "    return math.sqrt(squared_distance(v, w))\n",
    "def distance2(v, w):\n",
    "    return magnitude(vector_subtract(v, w))"
   ]
  },
  {
   "cell_type": "code",
   "execution_count": 38,
   "metadata": {
    "collapsed": true
   },
   "outputs": [],
   "source": [
    "# MATRICES\n",
    "A = [[1,2,3],\n",
    "     [4,5,6]]\n",
    "B = [[1,2],\n",
    "     [3,4],\n",
    "     [5,6]]\n",
    "def shape(A):\n",
    "    numRows = len(A)\n",
    "    numCols = len(A[0]) if A else 0\n",
    "    return numRows, numCols\n",
    "def get_row(A, i):\n",
    "    return A[i]\n",
    "def get_col(A, j):\n",
    "    return [A_i[j] for A_i in A]\n",
    "def make_matrix(numRows, numCols, entry_fn):\n",
    "    return [[entry_fn(i,j) for j in range(numCols)] for i in range(numRows)]\n",
    "def is_diagonal(i, j):\n",
    "    return l if i==j else 0"
   ]
  },
  {
   "cell_type": "markdown",
   "metadata": {},
   "source": [
    "### Numpy\n",
    "**for more, see: https://docs.scipy.org/doc/numpy-dev/user/quickstart.html**"
   ]
  },
  {
   "cell_type": "code",
   "execution_count": 39,
   "metadata": {
    "collapsed": true
   },
   "outputs": [],
   "source": [
    "import numpy as np"
   ]
  },
  {
   "cell_type": "code",
   "execution_count": 40,
   "metadata": {
    "collapsed": false
   },
   "outputs": [
    {
     "name": "stdout",
     "output_type": "stream",
     "text": [
      "(3, 5)\n",
      "2\n",
      "int64\n",
      "8\n",
      "15\n",
      "<type 'numpy.ndarray'>\n"
     ]
    }
   ],
   "source": [
    "# BASIC OPERATIONS\n",
    "A = np.arange(15).reshape(3,5)\n",
    "    # array([[ 0,  1,  2,  3,  4],\n",
    "    #        [ 5,  6,  7,  8,  9],\n",
    "    #        [10, 11, 12, 13, 14]])\n",
    "print A.shape # row, col\n",
    "print A.ndim # dimension of matrix\n",
    "print A.dtype # dtype('int64')\n",
    "print A.itemsize # length of one array element in bytes.\n",
    "print A.size # number of cells\n",
    "print type(A) # numpy.ndarray"
   ]
  },
  {
   "cell_type": "code",
   "execution_count": 41,
   "metadata": {
    "collapsed": false
   },
   "outputs": [
    {
     "data": {
      "text/plain": [
       "array([[ 1.+0.j,  2.+0.j],\n",
       "       [ 3.+0.j,  4.+0.j]])"
      ]
     },
     "execution_count": 41,
     "metadata": {},
     "output_type": "execute_result"
    }
   ],
   "source": [
    "# TYPE SPECIFIED\n",
    "np.array([[1,2],[3,4]], dtype=complex)"
   ]
  },
  {
   "cell_type": "code",
   "execution_count": 42,
   "metadata": {
    "collapsed": false
   },
   "outputs": [
    {
     "name": "stdout",
     "output_type": "stream",
     "text": [
      "[  0   1   8  27  64 125 216 343 512 729]\n",
      "[1000    1 1000   27 1000  125  216  343  512  729]\n",
      "[ 729  512  343  216  125 1000   27 1000    1 1000]\n"
     ]
    }
   ],
   "source": [
    "# SET, REVERSE\n",
    "A = np.arange(10)**3\n",
    "print A\n",
    "A[:6:2] = 1000 # equivalent to A[0:6:2], from 0 to 6 position, exclusive, set every 2nd element to -1000\n",
    "print A\n",
    "print A[::-1] # reverse A"
   ]
  },
  {
   "cell_type": "code",
   "execution_count": 43,
   "metadata": {
    "collapsed": false
   },
   "outputs": [
    {
     "name": "stdout",
     "output_type": "stream",
     "text": [
      "[[ 3.  1.  1.  3.]\n",
      " [ 1.  6.  6.  4.]\n",
      " [ 5.  1.  7.  9.]]\n",
      "[ 3.  1.  1.  3.  1.  6.  6.  4.  5.  1.  7.  9.]\n"
     ]
    }
   ],
   "source": [
    "# FLATTEN\n",
    "A = np.floor(10*np.random.random((3,4)))\n",
    "print A\n",
    "print A.ravel()"
   ]
  },
  {
   "cell_type": "code",
   "execution_count": 44,
   "metadata": {
    "collapsed": false
   },
   "outputs": [
    {
     "name": "stdout",
     "output_type": "stream",
     "text": [
      "[[ 6.  5.  8.  4.]\n",
      " [ 9.  7.  3.  8.]\n",
      " [ 6.  9.  3.  0.]]\n",
      "[[ 6.  5.  8.]\n",
      " [ 4.  9.  7.]\n",
      " [ 3.  8.  6.]\n",
      " [ 9.  3.  0.]]\n",
      "[[ 6.  5.  8.]\n",
      " [ 4.  9.  7.]\n",
      " [ 3.  8.  6.]\n",
      " [ 9.  3.  0.]]\n"
     ]
    }
   ],
   "source": [
    "# RESHAPING\n",
    "A = np.floor(10*np.random.random((3,4)))\n",
    "print A\n",
    "A.resize((4,3))\n",
    "print A\n",
    "A.reshape((2,-1)) # 2 row, col automatically calculated.\n",
    "print A"
   ]
  },
  {
   "cell_type": "code",
   "execution_count": 45,
   "metadata": {
    "collapsed": false
   },
   "outputs": [
    {
     "name": "stdout",
     "output_type": "stream",
     "text": [
      "[[ 5.  5.  6.  2.  8.  7.  9.  2.  3.  3.  0.  7.]\n",
      " [ 8.  5.  9.  2.  6.  6.  0.  4.  8.  4.  4.  8.]]\n",
      "[array([[ 5.,  5.,  6.,  2.],\n",
      "       [ 8.,  5.,  9.,  2.]]), array([[ 8.,  7.,  9.,  2.],\n",
      "       [ 6.,  6.,  0.,  4.]]), array([[ 3.,  3.,  0.,  7.],\n",
      "       [ 8.,  4.,  4.,  8.]])]\n",
      "[array([[ 5.,  5.,  6.,  2.,  8.,  7.,  9.,  2.,  3.,  3.,  0.,  7.]]), array([[ 8.,  5.,  9.,  2.,  6.,  6.,  0.,  4.,  8.,  4.,  4.,  8.]])]\n",
      "[array([[ 5.,  5.,  6.],\n",
      "       [ 8.,  5.,  9.]]), array([[ 2.],\n",
      "       [ 2.]]), array([[ 8.,  7.,  9.,  2.,  3.,  3.,  0.,  7.],\n",
      "       [ 6.,  6.,  0.,  4.,  8.,  4.,  4.,  8.]])]\n"
     ]
    }
   ],
   "source": [
    "# ADVANCED SLICING\n",
    "A = np.floor(10*np.random.random((2,12)))\n",
    "print A\n",
    "print np.hsplit(A,3) # split A into 3 parts, horizontally.\n",
    "print np.vsplit(A,2) # split A into 2 parts, vertically.\n",
    "print np.hsplit(A, (3,4)) # split after 3rd and 4th col."
   ]
  },
  {
   "cell_type": "code",
   "execution_count": null,
   "metadata": {
    "collapsed": true
   },
   "outputs": [],
   "source": []
  },
  {
   "cell_type": "code",
   "execution_count": null,
   "metadata": {
    "collapsed": true
   },
   "outputs": [],
   "source": []
  },
  {
   "cell_type": "code",
   "execution_count": null,
   "metadata": {
    "collapsed": true
   },
   "outputs": [],
   "source": []
  },
  {
   "cell_type": "code",
   "execution_count": null,
   "metadata": {
    "collapsed": true
   },
   "outputs": [],
   "source": []
  },
  {
   "cell_type": "code",
   "execution_count": null,
   "metadata": {
    "collapsed": true
   },
   "outputs": [],
   "source": []
  },
  {
   "cell_type": "code",
   "execution_count": null,
   "metadata": {
    "collapsed": true
   },
   "outputs": [],
   "source": []
  },
  {
   "cell_type": "code",
   "execution_count": null,
   "metadata": {
    "collapsed": true
   },
   "outputs": [],
   "source": []
  },
  {
   "cell_type": "code",
   "execution_count": null,
   "metadata": {
    "collapsed": true
   },
   "outputs": [],
   "source": []
  },
  {
   "cell_type": "code",
   "execution_count": null,
   "metadata": {
    "collapsed": true
   },
   "outputs": [],
   "source": []
  },
  {
   "cell_type": "code",
   "execution_count": null,
   "metadata": {
    "collapsed": true
   },
   "outputs": [],
   "source": []
  },
  {
   "cell_type": "code",
   "execution_count": null,
   "metadata": {
    "collapsed": true
   },
   "outputs": [],
   "source": []
  },
  {
   "cell_type": "code",
   "execution_count": null,
   "metadata": {
    "collapsed": true
   },
   "outputs": [],
   "source": []
  },
  {
   "cell_type": "code",
   "execution_count": null,
   "metadata": {
    "collapsed": true
   },
   "outputs": [],
   "source": []
  },
  {
   "cell_type": "code",
   "execution_count": null,
   "metadata": {
    "collapsed": true
   },
   "outputs": [],
   "source": []
  },
  {
   "cell_type": "code",
   "execution_count": null,
   "metadata": {
    "collapsed": true
   },
   "outputs": [],
   "source": []
  },
  {
   "cell_type": "code",
   "execution_count": null,
   "metadata": {
    "collapsed": true
   },
   "outputs": [],
   "source": []
  },
  {
   "cell_type": "code",
   "execution_count": null,
   "metadata": {
    "collapsed": true
   },
   "outputs": [],
   "source": []
  },
  {
   "cell_type": "code",
   "execution_count": null,
   "metadata": {
    "collapsed": true
   },
   "outputs": [],
   "source": []
  },
  {
   "cell_type": "code",
   "execution_count": null,
   "metadata": {
    "collapsed": true
   },
   "outputs": [],
   "source": []
  }
 ],
 "metadata": {
  "kernelspec": {
   "display_name": "Python 2",
   "language": "python",
   "name": "python2"
  },
  "language_info": {
   "codemirror_mode": {
    "name": "ipython",
    "version": 2
   },
   "file_extension": ".py",
   "mimetype": "text/x-python",
   "name": "python",
   "nbconvert_exporter": "python",
   "pygments_lexer": "ipython2",
   "version": "2.7.11"
  }
 },
 "nbformat": 4,
 "nbformat_minor": 0
}

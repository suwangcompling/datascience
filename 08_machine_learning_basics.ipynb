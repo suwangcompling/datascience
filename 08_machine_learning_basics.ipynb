{
 "cells": [
  {
   "cell_type": "markdown",
   "metadata": {},
   "source": [
    "### CONTENT:\n",
    "* STOCHASTIC TRAIN-TEST SPLIT\n",
    "* KNN\n",
    "* NAIVE BAYES\n",
    "* LINEAR REGRESSION (SIMPLE & MULTIPLE)"
   ]
  },
  {
   "cell_type": "markdown",
   "metadata": {
    "collapsed": true
   },
   "source": [
    "## STOCHASTIC TRAIN-TEST SPLIT"
   ]
  },
  {
   "cell_type": "code",
   "execution_count": 2,
   "metadata": {
    "collapsed": false
   },
   "outputs": [
    {
     "name": "stdout",
     "output_type": "stream",
     "text": [
      "IMPORT DONE\n"
     ]
    }
   ],
   "source": [
    "import sys, os\n",
    "# sys.path.append('/Users/jacobsw/anaconda2/lib/python2.7/site-packages')\n",
    "import random\n",
    "import numpy as np\n",
    "import pandas as pd\n",
    "# EVALUATION REPORT\n",
    "from sklearn.metrics import precision_recall_curve\n",
    "from sklearn.metrics import classification_report\n",
    "from sklearn.metrics import roc_auc_score\n",
    "import matplotlib.pyplot as plt\n",
    "%matplotlib inline\n",
    "# EXTRA CODE\n",
    "import sys\n",
    "# sys.path.append('/Users/jacobsw/Desktop/IMPLEMENTATION_CAMP/CODE/BASIC_TOPICS/DATA_SCIENCE/CODE_REPOSITORY')\n",
    "    # NB: appending once is enough!\n",
    "from linear_algebra import *\n",
    "from gradient_descent import *\n",
    "    # gradient_descent.py uses some functions in linear_algebra, thus it includes:\n",
    "    # os.system('python /Users/jacobsw/Desktop/IMPLEMENTATION_CAMP/CODE/BASIC_TOPICS/DATA_SCIENCE/CODE_REPOSITORY/linear_algebra.py')\n",
    "    # to make sure everything in linear_algebra is run.\n",
    "# MODEL 1: KNN\n",
    "from collections import Counter\n",
    "from sklearn import preprocessing\n",
    "print 'IMPORT DONE'"
   ]
  },
  {
   "cell_type": "code",
   "execution_count": 20,
   "metadata": {
    "collapsed": true
   },
   "outputs": [],
   "source": [
    "from IPython.display import Image"
   ]
  },
  {
   "cell_type": "code",
   "execution_count": 21,
   "metadata": {
    "collapsed": true
   },
   "outputs": [],
   "source": [
    "from scipy.stats.stats import pearsonr"
   ]
  },
  {
   "cell_type": "code",
   "execution_count": 22,
   "metadata": {
    "collapsed": false
   },
   "outputs": [],
   "source": [
    "# TRAIN-TEST SPLIT\n",
    "def split_data(data, prob):\n",
    "    # split data into fractions [prob, 1-prob]\n",
    "    results = [], [] # results = ([], [])\n",
    "    for i in range(data.shape[0]):\n",
    "        # for row in data (assuming data is a pd.DataFrame).\n",
    "        results[0 if random.random() < prob else 1].append(data.loc[i])\n",
    "    return pd.DataFrame(results[0]), pd.DataFrame(results[1])\n",
    "def train_test_split(X, y, testPct): # assuming X and y are both pd.DataFrame.\n",
    "    data = pd.DataFrame(np.hstack((X,y))) # [X, y]\n",
    "    train, test = split_data(data, 1-testPct)\n",
    "    idxLastCol = data.shape[1]-1\n",
    "    X_train, y_train = train.ix[:,0:idxLastCol-1], train.ix[:,idxLastCol]\n",
    "    X_test, y_test = test.ix[:,0:idxLastCol-1], test.ix[:,idxLastCol]\n",
    "    return X_train, X_test, y_train, y_test"
   ]
  },
  {
   "cell_type": "code",
   "execution_count": 25,
   "metadata": {
    "collapsed": false
   },
   "outputs": [
    {
     "name": "stdout",
     "output_type": "stream",
     "text": [
      "    0   1   2\n",
      "0   1   2   3\n",
      "2   7   8   9\n",
      "4  13  14  15 (3, 3)\n",
      "    0   1   2\n",
      "1   4   5   6\n",
      "3  10  11  12 (2, 3)\n",
      "0    1\n",
      "2    1\n",
      "4    1\n",
      "Name: 3, dtype: int64 (3,)\n",
      "1    1\n",
      "3    1\n",
      "Name: 3, dtype: int64 (2,)\n"
     ]
    }
   ],
   "source": [
    "# DEMO\n",
    "X = pd.DataFrame(np.array(range(1,16)).reshape(5,3)) # int64\n",
    "y = pd.DataFrame([1,1,1,1,1])\n",
    "X_train, X_test, y_train, y_test = train_test_split(X, y, .2)\n",
    "print X_train, X_train.shape\n",
    "print X_test, X_test.shape\n",
    "print y_train, y_train.shape\n",
    "print y_test, y_test.shape"
   ]
  },
  {
   "cell_type": "code",
   "execution_count": 26,
   "metadata": {
    "collapsed": false
   },
   "outputs": [
    {
     "name": "stdout",
     "output_type": "stream",
     "text": [
      "prec:  0.014\n",
      "rec:  0\n",
      "f1:  0.0\n"
     ]
    }
   ],
   "source": [
    "# BASIC EVALUATORS\n",
    "'''\n",
    "   Y  N\n",
    "Y  tp fp\n",
    "N  fn tn\n",
    "'''\n",
    "luk = [70, 4930, 13930, 981070]\n",
    "def accuracy(tp, fp, fn, tn): \n",
    "    correct = tp + tn\n",
    "    total = tp + fp + fn + tn\n",
    "    return float(correct) / total\n",
    "def precision(tp, fp, fn, tn):\n",
    "    return float(tp) / (tp + fp)\n",
    "def recall(tp, fp, fn, tn):\n",
    "    return tp / (tp + fn)\n",
    "def f1_score(tp, fp, fn, tn):\n",
    "    p = precision(tp, fp, fn, tn)\n",
    "    r = recall(tp, fp, fn, tn)\n",
    "    return 2 * p * r / (p + r)\n",
    "print 'prec: ', precision(*luk)\n",
    "print 'rec: ', recall(*luk)\n",
    "print 'f1: ', f1_score(*luk)"
   ]
  },
  {
   "cell_type": "code",
   "execution_count": 27,
   "metadata": {
    "collapsed": false
   },
   "outputs": [
    {
     "name": "stdout",
     "output_type": "stream",
     "text": [
      "             precision    recall  f1-score   support\n",
      "\n",
      "          0       0.67      0.67      0.67         3\n",
      "          1       0.67      0.67      0.67         3\n",
      "\n",
      "avg / total       0.67      0.67      0.67         6\n",
      "\n",
      "AUC:  0.666666666667\n"
     ]
    },
    {
     "data": {
      "text/plain": [
       "[<matplotlib.lines.Line2D at 0x11c60ce50>]"
      ]
     },
     "execution_count": 27,
     "metadata": {},
     "output_type": "execute_result"
    },
    {
     "data": {
      "image/png": "[encoded data removed]",
      "text/plain": [
       "<matplotlib.figure.Figure at 0x119499e90>"
      ]
     },
     "metadata": {},
     "output_type": "display_data"
    }
   ],
   "source": [
    "# EVALUATION REPORT FORMATTED\n",
    "y = [1,1,1,0,0,0]\n",
    "y_hat = [1,1,0,0,1,0]\n",
    "''' facilities\n",
    "from sklearn.metrics import precision_recall_curve\n",
    "from sklearn.metrics import classification_report\n",
    "from sklearn.metrics import roc_auc_score\n",
    "'''\n",
    "print classification_report(y,y_hat)\n",
    "prec, rec, thr = precision_recall_curve(y,y_hat)\n",
    "print 'AUC: ', roc_auc_score(y,y_hat)\n",
    "plt.plot(prec,rec)"
   ]
  },
  {
   "cell_type": "markdown",
   "metadata": {},
   "source": [
    "## MODEL 1: KNN"
   ]
  },
  {
   "cell_type": "code",
   "execution_count": 28,
   "metadata": {
    "collapsed": true
   },
   "outputs": [],
   "source": [
    "import numpy as np\n",
    "from scipy.spatial.distance import cdist"
   ]
  },
  {
   "cell_type": "code",
   "execution_count": 29,
   "metadata": {
    "collapsed": false
   },
   "outputs": [],
   "source": [
    "# VOTE\n",
    "#   idea: each data point x has k nearest neighbors,\n",
    "#     each of the neighbors (labeled with class tags, but not x) \n",
    "#     is entitled to vote for deciding x's class tag (neighbor-similarity assumption).\n",
    "#     the power of their vote depends on their distance from x.\n",
    "# CAVEAT\n",
    "#   when dimension p increase, the data get more sparse (in terms of distance),\n",
    "#     and it gets harder and harder to find close neighbors.\n",
    "#     one solution to this is to do some dimension reduction before KNN.\n",
    "def distance(v, w):\n",
    "    return cdist(v, w)[0][0]\n",
    "def normalize_vector(v): # helper function to interface cdist and KNN here.\n",
    "    return [[i for i in v]]\n",
    "def majority_vote(labels):\n",
    "    # labels are assumed to be ordered nearest to farthest.\n",
    "    voteCounts = Counter(labels)\n",
    "    winner, winnerCount = voteCounts.most_common(1)[0] # the most frequent class voted.\n",
    "    numWinners = len([count for count in voteCounts.values() if count == winnerCount])\n",
    "        # find equally frequently voted classes (alongside the most frequent).\n",
    "    if numWinners == 1: return winner # we have a unique winner class (by count), take it!\n",
    "    else: return majority_vote(labels[:-1]) # we don't have a unique winner, try again w/o the farthest neighbor!\n",
    "def knn_classify(k, labeledPoints, newPoint): # newPoint: [.., .., ..]\n",
    "    # each labeled point is a pair (point, label).\n",
    "    byDistance = sorted(labeledPoints, key=lambda (point, _): distance(normalize_vector(point), [newPoint]))\n",
    "        # order all the labels by their distance from current point: newPoint.\n",
    "    kNNLabels = [label for _, label in byDistance[:k]]\n",
    "    return majority_vote(kNNLabels)"
   ]
  },
  {
   "cell_type": "code",
   "execution_count": 30,
   "metadata": {
    "collapsed": false
   },
   "outputs": [
    {
     "data": {
      "text/plain": [
       "[(0    5.9\n",
       "  1    3.0\n",
       "  2    5.1\n",
       "  3    1.8\n",
       "  Name: 149, dtype: float64, 2.0)]"
      ]
     },
     "execution_count": 30,
     "metadata": {},
     "output_type": "execute_result"
    }
   ],
   "source": [
    "# IRIS DATA DEMO\n",
    "from sklearn.datasets import load_iris\n",
    "iris = load_iris()\n",
    "# data = pd.DataFrame(np.hstack((iris.data,iris.target)))\n",
    "X = pd.DataFrame(iris.data)\n",
    "y = pd.DataFrame(iris.target)\n",
    "data = pd.concat([X, y], axis=1)\n",
    "data.columns = [0,1,2,3,4]\n",
    "# X_train, X_test, y_train, y_test = train_test_split(X, y, .2)\n",
    "nrow, ncol = data.shape\n",
    "labeled_points = [(row[1][:4],row[1][4]) for row in data.iterrows()]\n",
    "# for i in range(nrow):\n",
    "#     labeled_points.append((data.loc[i][:4],data.loc[i][-1]))\n",
    "labeled_points[-1:]"
   ]
  },
  {
   "cell_type": "code",
   "execution_count": 31,
   "metadata": {
    "collapsed": false
   },
   "outputs": [
    {
     "data": {
      "text/plain": [
       "2.0"
      ]
     },
     "execution_count": 31,
     "metadata": {},
     "output_type": "execute_result"
    }
   ],
   "source": [
    "newPoint = [5.9,3.0,5.1,1.8]\n",
    "knn_classify(3, labeled_points, newPoint)"
   ]
  },
  {
   "cell_type": "markdown",
   "metadata": {},
   "source": [
    "## MODEL 2: NAIVE BAYES"
   ]
  },
  {
   "cell_type": "markdown",
   "metadata": {
    "collapsed": true
   },
   "source": [
    "$ \\textbf{INTRO: SPAM FILTER EXAMPLE} $\n",
    "\n",
    "$ S: \\text{Spam}; X = w: \\text{Containing a certain word w.} $ \n",
    "\n",
    "$ \\text{Probability of Spam give a message containing word w: } P(S|X=w) = \\frac{P(S,X=w)}{P(X=w)} = \\frac{P(X=w|S)P(S)}{P(X=w|S)P(S) + P(X=w|\\neg S)P(\\neg S)} = \\frac{P(X=w|S)}{P(X=w|S) + P(X=w|\\neg S)}$\n",
    "\n",
    "$ \\text{k Smoothing (pseudocount): } P(X=w|S) = \\frac{k + \\#\\_of\\_spams\\_containing\\_w}{2k + \\#\\_of\\_spams} $\n"
   ]
  },
  {
   "cell_type": "code",
   "execution_count": 32,
   "metadata": {
    "collapsed": true
   },
   "outputs": [],
   "source": [
    "import re, math\n",
    "from collections import defaultdict\n",
    "import pandas as pd"
   ]
  },
  {
   "cell_type": "code",
   "execution_count": 33,
   "metadata": {
    "collapsed": false
   },
   "outputs": [
    {
     "name": "stdout",
     "output_type": "stream",
     "text": [
      "set(['a', 'good', 'this', 'is', 'at', 'day', \"macy's\"])\n"
     ]
    }
   ],
   "source": [
    "# TOKENIZATION\n",
    "def tokenize(message):\n",
    "    message = message.lower()\n",
    "    allWords = re.findall(\"[a-z0-9']+\", message)\n",
    "    return set(allWords)\n",
    "message = \"this is a good day at Macy's.\"\n",
    "print tokenize(message)"
   ]
  },
  {
   "cell_type": "code",
   "execution_count": 34,
   "metadata": {
    "collapsed": false
   },
   "outputs": [
    {
     "name": "stdout",
     "output_type": "stream",
     "text": [
      "defaultdict(<function <lambda> at 0x11c0c4b18>, {'how': [1, 0], 'this': [1, 1], 'is': [1, 1], 'welcome': [1, 0], 'hey': [0, 1], 'linkedin': [1, 0], 'bestbuy': [1, 0], 'to': [1, 0], 'are': [1, 0], 'you': [1, 0], 'pam': [0, 1]})\n"
     ]
    }
   ],
   "source": [
    "# SPAM/~SPAM COUNT DICTIONARY\n",
    "def count_words(training):\n",
    "    # return {word: [spamCount, nonSpamCount]}.\n",
    "    # training: a 2-tuple (message, isSpam).\n",
    "    counts = defaultdict(lambda: [0, 0])\n",
    "    for message, isSpam in training:\n",
    "        for word in tokenize(message):\n",
    "            counts[word][0 if isSpam else 1] += 1\n",
    "    return counts\n",
    "toyTraining = [('welcome to linkedin!', 1), ('hey, this is Pam.', 0), ('how are you, this is Bestbuy.', 1)]\n",
    "print count_words(toyTraining)"
   ]
  },
  {
   "cell_type": "code",
   "execution_count": 35,
   "metadata": {
    "collapsed": false
   },
   "outputs": [
    {
     "name": "stdout",
     "output_type": "stream",
     "text": [
      "# of Spams: 2; # of Non-Spams: 1\n"
     ]
    }
   ],
   "source": [
    "# TOTAL SPAM/NONSPAM COUNT\n",
    "def spam_nonspam_count(training):\n",
    "    # training: a 2-tuple (message, isSpam).\n",
    "    # return: spam, nonspam.\n",
    "    numSpams = reduce(lambda x,y: x+y, [n for (_, n) in training])\n",
    "    return numSpams, len(training)-numSpams\n",
    "toyTraining = [('welcome to linkedin!', 1), ('hey, this is Pam.', 0), ('how are you, this is Bestbuy.', 1)]\n",
    "numSpams, numNonSpams = spam_nonspam_count(toyTraining)\n",
    "print '# of Spams: ' + str(numSpams) + '; # of Non-Spams: ' + str(numNonSpams)"
   ]
  },
  {
   "cell_type": "code",
   "execution_count": 36,
   "metadata": {
    "collapsed": false
   },
   "outputs": [
    {
     "name": "stdout",
     "output_type": "stream",
     "text": [
      "[('how', 0.5, 0.25), ('this', 0.5, 0.75), ('is', 0.5, 0.75), ('welcome', 0.5, 0.25), ('hey', 0.16666666666666666, 0.75), ('linkedin', 0.5, 0.25), ('bestbuy', 0.5, 0.25), ('to', 0.5, 0.25), ('are', 0.5, 0.25), ('you', 0.5, 0.25), ('pam', 0.16666666666666666, 0.75)]\n"
     ]
    }
   ],
   "source": [
    "# WORD PROBS: PR(WORD=SPAM), PR(WORD=NONSPAM)\n",
    "def word_probabilities(counts, totalSpams, totalNonSpams, k=0.5):\n",
    "    # w, #spam, #nonspam -> w, Pr(w|spam), Pr(w|~spam).\n",
    "    return [(w, float(spam+k)/(totalSpams+2*k), float(nonspam+k)/(totalNonSpams+2*k)) \n",
    "            for w, (spam,nonspam) in counts.iteritems()]\n",
    "toyTraining = [('welcome to linkedin!', 1), ('hey, this is Pam.', 0), ('how are you, this is Bestbuy.', 1)]\n",
    "counts = count_words(toyTraining)\n",
    "totalSpams, totalNonSpams = spam_nonspam_count(toyTraining)\n",
    "print word_probabilities(counts, totalSpams, totalNonSpams)"
   ]
  },
  {
   "cell_type": "code",
   "execution_count": 37,
   "metadata": {
    "collapsed": false
   },
   "outputs": [
    {
     "name": "stdout",
     "output_type": "stream",
     "text": [
      "0.95903497106\n"
     ]
    }
   ],
   "source": [
    "# SPAM PROBS\n",
    "def spam_probability(wordProbs, message):\n",
    "    messageWords = tokenize(message)\n",
    "    logProbSpam = logProbNonSpam = 0.0\n",
    "    for word, probSpam, probNonSpam in wordProbs:\n",
    "        if word in messageWords: # if word exists, add log-prob of seeing.\n",
    "            logProbSpam += math.log(probSpam)\n",
    "            logProbNonSpam += math.log(probNonSpam)\n",
    "        else: # if word doesn't appear, add log-prob of not seeing.\n",
    "            logProbSpam += math.log(1.0 - probSpam)\n",
    "            logProbNonSpam += math.log(1.0 - probNonSpam)\n",
    "    probSpam = math.exp(logProbSpam)\n",
    "    probNonSpam = math.exp(logProbNonSpam)\n",
    "        # exp(log(p1) + ... + log(pn)) = p1 * ... * pn\n",
    "    return probSpam / (probSpam + probNonSpam)\n",
    "toyTraining = [('welcome to linkedin!', 1), ('hey, this is Pam.', 0), ('how are you, this is Bestbuy.', 1)]\n",
    "counts = count_words(toyTraining)\n",
    "totalSpams, totalNonSpams = spam_nonspam_count(toyTraining)\n",
    "wordProbs = word_probabilities(counts, totalSpams, totalNonSpams)\n",
    "print spam_probability(wordProbs, 'say hi to linkedin')"
   ]
  },
  {
   "cell_type": "code",
   "execution_count": 38,
   "metadata": {
    "collapsed": true
   },
   "outputs": [],
   "source": [
    "# COMPACT REPRESENTATION\n",
    "#  (NB: assuming all previous functions are included)\n",
    "class NaiveBayesClassifier:\n",
    "    \n",
    "    def __init__(self, k=.5):\n",
    "        self.k = k\n",
    "        self.wordProbs = []\n",
    "    \n",
    "    def train(self, trainingSet):\n",
    "        numSpams = len([isSpam for message,isSpam in trainingSet if isSpam])\n",
    "        numNonSpams = len(trainingSet) - numSpams\n",
    "        wordCounts = count_words(trainingSet)\n",
    "        self.wordProbs = word_probabilities(wordCounts, numNonSpams, numNonSpams, self.k)\n",
    "    \n",
    "    def classify(self, message):\n",
    "        return spam_probability(self.wordProbs, message)"
   ]
  },
  {
   "cell_type": "markdown",
   "metadata": {},
   "source": [
    "### SMSSpamCollection DEMO"
   ]
  },
  {
   "cell_type": "code",
   "execution_count": 39,
   "metadata": {
    "collapsed": false
   },
   "outputs": [
    {
     "data": {
      "text/html": [
       "<div>\n",
       "<table border=\"1\" class=\"dataframe\">\n",
       "  <thead>\n",
       "    <tr style=\"text-align: right;\">\n",
       "      <th></th>\n",
       "      <th>0</th>\n",
       "      <th>1</th>\n",
       "    </tr>\n",
       "  </thead>\n",
       "  <tbody>\n",
       "    <tr>\n",
       "      <th>0</th>\n",
       "      <td>ham</td>\n",
       "      <td>Go until jurong point, crazy.. Available only ...</td>\n",
       "    </tr>\n",
       "    <tr>\n",
       "      <th>1</th>\n",
       "      <td>ham</td>\n",
       "      <td>Ok lar... Joking wif u oni...</td>\n",
       "    </tr>\n",
       "    <tr>\n",
       "      <th>2</th>\n",
       "      <td>spam</td>\n",
       "      <td>Free entry in 2 a wkly comp to win FA Cup fina...</td>\n",
       "    </tr>\n",
       "    <tr>\n",
       "      <th>3</th>\n",
       "      <td>ham</td>\n",
       "      <td>U dun say so early hor... U c already then say...</td>\n",
       "    </tr>\n",
       "    <tr>\n",
       "      <th>4</th>\n",
       "      <td>ham</td>\n",
       "      <td>Nah I don't think he goes to usf, he lives aro...</td>\n",
       "    </tr>\n",
       "  </tbody>\n",
       "</table>\n",
       "</div>"
      ],
      "text/plain": [
       "      0                                                  1\n",
       "0   ham  Go until jurong point, crazy.. Available only ...\n",
       "1   ham                      Ok lar... Joking wif u oni...\n",
       "2  spam  Free entry in 2 a wkly comp to win FA Cup fina...\n",
       "3   ham  U dun say so early hor... U c already then say...\n",
       "4   ham  Nah I don't think he goes to usf, he lives aro..."
      ]
     },
     "execution_count": 39,
     "metadata": {},
     "output_type": "execute_result"
    }
   ],
   "source": [
    "# IMPORT DATA\n",
    "os.chdir('/Users/jacobsw/Desktop/IMPLEMENTATION_CAMP/CODE/BASIC_TOPICS/DATA_SCIENCE/DATA')\n",
    "df = pd.read_csv('SMSSpamCollection',delimiter='\\t',header=None)\n",
    "# num_spam = df[df[0]=='spam'][0].count() # 747\n",
    "# num_ham = df[df[0]=='ham'][0].count() # 4825\n",
    "df.head()"
   ]
  },
  {
   "cell_type": "code",
   "execution_count": 40,
   "metadata": {
    "collapsed": false
   },
   "outputs": [
    {
     "name": "stdout",
     "output_type": "stream",
     "text": [
      "CPU times: user 328 ms, sys: 23.5 ms, total: 352 ms\n",
      "Wall time: 334 ms\n"
     ]
    }
   ],
   "source": [
    "%%time\n",
    "# WHIP DATA INTO CORRECT FORMAT\n",
    "data = [(msg, 1 if tag=='spam' else 0) for _,(tag,msg) in df.iterrows()]\n",
    "    # df.iterrows() gives: arg1=entire_object, arg2=(col0, col1).\n",
    "cutOff = int(np.floor(len(data) * .9))\n",
    "train, test = data[:cutOff], data[cutOff:]"
   ]
  },
  {
   "cell_type": "code",
   "execution_count": 41,
   "metadata": {
    "collapsed": false
   },
   "outputs": [
    {
     "name": "stdout",
     "output_type": "stream",
     "text": [
      "CPU times: user 113 ms, sys: 15.5 ms, total: 128 ms\n",
      "Wall time: 119 ms\n"
     ]
    }
   ],
   "source": [
    "%%time\n",
    "# TRAINING\n",
    "classifier = NaiveBayesClassifier()\n",
    "classifier.train(train)"
   ]
  },
  {
   "cell_type": "code",
   "execution_count": 42,
   "metadata": {
    "collapsed": false
   },
   "outputs": [
    {
     "name": "stdout",
     "output_type": "stream",
     "text": [
      "Accuracy: 0.912186\n",
      "CPU times: user 2.55 s, sys: 24.7 ms, total: 2.58 s\n",
      "Wall time: 2.56 s\n"
     ]
    }
   ],
   "source": [
    "%%time\n",
    "# EVALUATION\n",
    "from sklearn.metrics import accuracy_score\n",
    "X_test, y_test = [msg.lower() for msg,tag in test], [tag for msg,tag in test]\n",
    "y_hat = [ 1 if classifier.classify(msg)>.5 else 0 for msg in X_test]\n",
    "print 'Accuracy: %6f' % accuracy_score(y_test, y_hat)"
   ]
  },
  {
   "cell_type": "markdown",
   "metadata": {
    "collapsed": true
   },
   "source": [
    "## MODEL 3A: SIMPLE LINEAR REGRESSION"
   ]
  },
  {
   "cell_type": "code",
   "execution_count": 324,
   "metadata": {
    "collapsed": true
   },
   "outputs": [],
   "source": [
    "# SIMPLE LINEAR MODEL\n",
    "#  y_i = alpha + beta*x_i + (err)\n",
    "#  alpha=intercept, beta=coef of predictor, err=maybe gaussian."
   ]
  },
  {
   "cell_type": "markdown",
   "metadata": {},
   "source": [
    "### SOL 1: ANALYTICAL (matrix positive semidefinite)"
   ]
  },
  {
   "cell_type": "code",
   "execution_count": 325,
   "metadata": {
    "collapsed": true
   },
   "outputs": [],
   "source": [
    "# PREDICTION\n",
    "def predict_simple(alpha, beta, x_i):\n",
    "    # y_hat.\n",
    "    return alpha + beta*x_i"
   ]
  },
  {
   "cell_type": "code",
   "execution_count": 326,
   "metadata": {
    "collapsed": true
   },
   "outputs": [],
   "source": [
    "# ERROR\n",
    "def error_simple(alpha, beta, x_i, y_i):\n",
    "    # diff. between y_true and y_hat.\n",
    "    return y_i - predict_simple(alpha, beta, x_i)\n",
    "def sum_of_squared_errors(alpha, beta, x, y):\n",
    "    # overall error, squared to avoid +/- errors cancelling out.\n",
    "    return sum(error_simple(alpha, beta, x_i, y_i)**2 for x_i,y_i in zip(x,y))"
   ]
  },
  {
   "cell_type": "code",
   "execution_count": 327,
   "metadata": {
    "collapsed": false
   },
   "outputs": [
    {
     "data": {
      "image/png": "[encoded data removed]",
      "text/plain": [
       "<IPython.core.display.Image object>"
      ]
     },
     "execution_count": 327,
     "metadata": {
      "image/png": {
       "width": "20%"
      }
     },
     "output_type": "execute_result"
    }
   ],
   "source": [
    "# LEAST SQUARES FIT\n",
    "#  beta_hat = argmax_beta(sum_of_squared_errors(..beta..)).\n",
    "Image(filename='least_squares_fit.png', width=\"20%\")"
   ]
  },
  {
   "cell_type": "code",
   "execution_count": 334,
   "metadata": {
    "collapsed": false
   },
   "outputs": [],
   "source": [
    "# LEAST-SQUARES FIT\n",
    "def least_squares_fit(x, y):\n",
    "    # return argmax_{alpha, beta}(sum_of_squared_errors(alpha,beta)).\n",
    "    beta = pearsonr(x, y)[0] * np.std(y) / np.std(x)\n",
    "        # pearsonr returns (correlation, p-value).\n",
    "    alpha = np.mean(y) - beta * np.mean(x)\n",
    "    return alpha, beta"
   ]
  },
  {
   "cell_type": "code",
   "execution_count": 336,
   "metadata": {
    "collapsed": true
   },
   "outputs": [],
   "source": [
    "# DATA NORMALIZATION\n",
    "def normalize(y):\n",
    "    y_mean = np.mean(y)\n",
    "    y_std = np.std(y)\n",
    "    return [(y_i-y_mean)/y_std for y_i in y]"
   ]
  },
  {
   "cell_type": "code",
   "execution_count": 350,
   "metadata": {
    "collapsed": false
   },
   "outputs": [
    {
     "name": "stdout",
     "output_type": "stream",
     "text": [
      "Intercept: -2.13862712103e-16; Beta: 0.95394003817\n"
     ]
    }
   ],
   "source": [
    "# DEMO TOY DATA\n",
    "d = {'diameter': [6., 8., 10., 14., 18.], \\\n",
    "     'price': [7., 9., 13., 17.5, 18.]}\n",
    "data = pd.DataFrame(d)\n",
    "x, y = normalize(data['diameter']), normalize(data['price'])\n",
    "print \"Intercept: %s; Beta: %s\" % least_squares_fit(x, y)"
   ]
  },
  {
   "cell_type": "code",
   "execution_count": 351,
   "metadata": {
    "collapsed": false
   },
   "outputs": [
    {
     "data": {
      "text/plain": [
       "[<matplotlib.lines.Line2D at 0x11e54a990>]"
      ]
     },
     "execution_count": 351,
     "metadata": {},
     "output_type": "execute_result"
    },
    {
     "data": {
      "image/png": "[encoded data removed]",
      "text/plain": [
       "<matplotlib.figure.Figure at 0x11e54aad0>"
      ]
     },
     "metadata": {},
     "output_type": "display_data"
    }
   ],
   "source": [
    "# PLOT REGRESSION\n",
    "plt.plot(x, y, 'r.')\n",
    "plt.plot(x, [predict_simple(0, 0.95394003817, x_i) for x_i in x], '.-')\n",
    "    # red dot: true values; blue dot: predicted value; blue line: regression line."
   ]
  },
  {
   "cell_type": "code",
   "execution_count": 353,
   "metadata": {
    "collapsed": false
   },
   "outputs": [
    {
     "name": "stdout",
     "output_type": "stream",
     "text": [
      "R-squared: 0.910001596424\n"
     ]
    }
   ],
   "source": [
    "# EVALUATION: R-SQUARED\n",
    "#  proportion of variation in the dep. var. captured by model.\n",
    "def total_sum_of_squares(y):\n",
    "    # total var. in y.\n",
    "    return sum(v**2 for v in y)\n",
    "def r_squared(alpha, beta, x, y):\n",
    "    # var. captured = 1 - var. not captured.\n",
    "    return 1.0 - (sum_of_squared_errors(alpha, beta, x, y) / total_sum_of_squares(y))\n",
    "print \"R-squared: %s\" % r_squared(0, 0.95394003817, x, y)"
   ]
  },
  {
   "cell_type": "markdown",
   "metadata": {},
   "source": [
    "### SOL 2: GRADIENT DESCENT (matrix NOT pos-semidef)"
   ]
  },
  {
   "cell_type": "code",
   "execution_count": 354,
   "metadata": {
    "collapsed": true
   },
   "outputs": [],
   "source": [
    "# COMPUTE GRADIENT\n",
    "def squared_error_simple(x_i, y_i, theta):\n",
    "    # theta = [alpha, beta].\n",
    "    alpha, beta = theta\n",
    "    return error_simple(alpha, beta, x_i, y_i) ** 2\n",
    "def squared_error_gradient_simple(x_i, y_i, theta):\n",
    "    alpha, beta = theta\n",
    "    alphaGrd = -2 * error_simple(alpha, beta, x_i, y_i) # alpha partial deriv.\n",
    "    betaGrd = -2 * error_simple(alpha, beta, x_i, y_i) * x_i # beta partial deriv.\n",
    "    return alphaGrd, betaGrd"
   ]
  },
  {
   "cell_type": "code",
   "execution_count": 355,
   "metadata": {
    "collapsed": false
   },
   "outputs": [
    {
     "name": "stdout",
     "output_type": "stream",
     "text": [
      "Intercept: 0.000002; Beta: 0.953919\n"
     ]
    }
   ],
   "source": [
    "# DEMO TOY DATA\n",
    "'''\n",
    "d = {'diameter': [6., 8., 10., 14., 18.], \\\n",
    "     'price': [7., 9., 13., 17.5, 18.]}\n",
    "data = pd.DataFrame(d)\n",
    "'''\n",
    "x, y = normalize(data['diameter']), normalize(data['price'])\n",
    "random.seed(0)\n",
    "theta = [random.random(), random.random()]\n",
    "alpha, beta = minimize_stochastic(squared_error_simple, squared_error_gradient_simple, x, y, theta, .0001)\n",
    "print \"Intercept: %6f; Beta: %6f\" % (alpha, beta)"
   ]
  },
  {
   "cell_type": "code",
   "execution_count": 356,
   "metadata": {
    "collapsed": false
   },
   "outputs": [
    {
     "name": "stdout",
     "output_type": "stream",
     "text": [
      "R-squared: 0.910001595977\n"
     ]
    },
    {
     "data": {
      "image/png": "[encoded data removed]",
      "text/plain": [
       "<matplotlib.figure.Figure at 0x11e6d3ad0>"
      ]
     },
     "metadata": {},
     "output_type": "display_data"
    }
   ],
   "source": [
    "# PLOT REGRESSION & EVALUATION\n",
    "plt.plot(x, y, 'r.')\n",
    "plt.plot(x, [predict_simple(alpha, beta, x_i) for x_i in x], '.-')\n",
    "    # red dot: true values; blue dot: predicted value; blue line: regression line.\n",
    "print \"R-squared: %s\" % r_squared(0.000002, 0.953919, x, y)"
   ]
  },
  {
   "cell_type": "markdown",
   "metadata": {
    "collapsed": true
   },
   "source": [
    "## MODEL 3B: MULTIPLE REGRESSION"
   ]
  },
  {
   "cell_type": "code",
   "execution_count": 344,
   "metadata": {
    "collapsed": true
   },
   "outputs": [],
   "source": [
    "# MULTIPLE LINEAR MODEL\n",
    "#  y_i = alpha + beta_1*x_i1 + ... + beta_k*x_ik + (err)\n",
    "#  alpha=intercept, beta=coefs of predictors, err=maybe gaussian.\n",
    "#  beta = [alpha, beta_1, ..., beta_k]\n",
    "#  x_i = [1, x_i1, ..., x_ik]"
   ]
  },
  {
   "cell_type": "markdown",
   "metadata": {},
   "source": [
    "### SOL 1: GRADIENT DESCENT (faster, avoid matrix inversion)"
   ]
  },
  {
   "cell_type": "code",
   "execution_count": 362,
   "metadata": {
    "collapsed": true
   },
   "outputs": [],
   "source": [
    "# PREDICTION\n",
    "def predict_mult(x_i, beta):\n",
    "    # assuming beta = [1, beta_1, ..., beta_k].\n",
    "    return dot(x_i, beta)"
   ]
  },
  {
   "cell_type": "code",
   "execution_count": 363,
   "metadata": {
    "collapsed": true
   },
   "outputs": [],
   "source": [
    "# ERROR\n",
    "def error_mult(x_i, y_i, beta):\n",
    "    return y_i - predict_mult(x_i, beta)\n",
    "def squared_error_mult(x_i, y_i, beta):\n",
    "    return error_mult(x_i, y_i, beta) ** 2"
   ]
  },
  {
   "cell_type": "code",
   "execution_count": 364,
   "metadata": {
    "collapsed": true
   },
   "outputs": [],
   "source": [
    "# COMPUTE GRADIENT\n",
    "def squared_error_gradient_mult(x_i, y_i, beta):\n",
    "    return [-2 * error_mult(x_i, y_i, beta) for x_ij in x_i]\n",
    "def estimate_beta(x, y):\n",
    "    betaInit = [random.random() for x_i in x[0]]\n",
    "    return minimize_stochastic(squared_error_mult, squared_error_gradient_mult, x, y, betaInit, .001)"
   ]
  },
  {
   "cell_type": "code",
   "execution_count": 365,
   "metadata": {
    "collapsed": false
   },
   "outputs": [
    {
     "data": {
      "text/plain": [
       "' Results in R\\nCoefficients:\\n             Estimate Std. Error t value Pr(>|t|)    \\n(Intercept)  2.938889   0.311908   9.422   <2e-16 ***\\nTV           0.045765   0.001395  32.809   <2e-16 ***\\nRadio        0.188530   0.008611  21.893   <2e-16 ***\\nNewspaper   -0.001037   0.005871  -0.177     0.86   \\ni.e.\\n (Intercept)           TV        Radio    Newspaper \\n 2.938889369  0.045764645  0.188530017 -0.001037493\\n'"
      ]
     },
     "execution_count": 365,
     "metadata": {},
     "output_type": "execute_result"
    }
   ],
   "source": [
    "# DEMO ON 'Advertising.csv'\n",
    "''' Results in R\n",
    "Coefficients:\n",
    "             Estimate Std. Error t value Pr(>|t|)    \n",
    "(Intercept)  2.938889   0.311908   9.422   <2e-16 ***\n",
    "TV           0.045765   0.001395  32.809   <2e-16 ***\n",
    "Radio        0.188530   0.008611  21.893   <2e-16 ***\n",
    "Newspaper   -0.001037   0.005871  -0.177     0.86   \n",
    "i.e.\n",
    " (Intercept)           TV        Radio    Newspaper \n",
    " 2.938889369  0.045764645  0.188530017 -0.001037493\n",
    "'''"
   ]
  },
  {
   "cell_type": "code",
   "execution_count": 429,
   "metadata": {
    "collapsed": false
   },
   "outputs": [
    {
     "data": {
      "text/html": [
       "<div>\n",
       "<table border=\"1\" class=\"dataframe\">\n",
       "  <thead>\n",
       "    <tr style=\"text-align: right;\">\n",
       "      <th></th>\n",
       "      <th>TV</th>\n",
       "      <th>Radio</th>\n",
       "      <th>Newspaper</th>\n",
       "      <th>Sales</th>\n",
       "    </tr>\n",
       "  </thead>\n",
       "  <tbody>\n",
       "    <tr>\n",
       "      <th>1</th>\n",
       "      <td>44.5</td>\n",
       "      <td>39.3</td>\n",
       "      <td>45.1</td>\n",
       "      <td>10.4</td>\n",
       "    </tr>\n",
       "    <tr>\n",
       "      <th>2</th>\n",
       "      <td>17.2</td>\n",
       "      <td>45.9</td>\n",
       "      <td>69.3</td>\n",
       "      <td>9.3</td>\n",
       "    </tr>\n",
       "    <tr>\n",
       "      <th>3</th>\n",
       "      <td>151.5</td>\n",
       "      <td>41.3</td>\n",
       "      <td>58.5</td>\n",
       "      <td>18.5</td>\n",
       "    </tr>\n",
       "    <tr>\n",
       "      <th>4</th>\n",
       "      <td>180.8</td>\n",
       "      <td>10.8</td>\n",
       "      <td>58.4</td>\n",
       "      <td>12.9</td>\n",
       "    </tr>\n",
       "    <tr>\n",
       "      <th>5</th>\n",
       "      <td>8.7</td>\n",
       "      <td>48.9</td>\n",
       "      <td>75.0</td>\n",
       "      <td>7.2</td>\n",
       "    </tr>\n",
       "  </tbody>\n",
       "</table>\n",
       "</div>"
      ],
      "text/plain": [
       "      TV  Radio  Newspaper  Sales\n",
       "1   44.5   39.3       45.1   10.4\n",
       "2   17.2   45.9       69.3    9.3\n",
       "3  151.5   41.3       58.5   18.5\n",
       "4  180.8   10.8       58.4   12.9\n",
       "5    8.7   48.9       75.0    7.2"
      ]
     },
     "execution_count": 429,
     "metadata": {},
     "output_type": "execute_result"
    }
   ],
   "source": [
    "# LOAD DATA\n",
    "data = pd.read_csv('Advertising.csv')\n",
    "data = data.ix[:,1:]\n",
    "data = data.ix[1:,:]\n",
    "data.head()"
   ]
  },
  {
   "cell_type": "code",
   "execution_count": 430,
   "metadata": {
    "collapsed": false
   },
   "outputs": [
    {
     "name": "stdout",
     "output_type": "stream",
     "text": [
      "[[  44.5   39.3   45.1]\n",
      " [  17.2   45.9   69.3]\n",
      " [ 151.5   41.3   58.5]\n",
      " [ 180.8   10.8   58.4]\n",
      " [   8.7   48.9   75. ]]\n",
      "[ 10.4   9.3  18.5  12.9   7.2]\n"
     ]
    }
   ],
   "source": [
    "X, y = data.ix[:,0:3].as_matrix(), data.ix[:,3].as_matrix()\n",
    "print X[:5]\n",
    "print y[:5]"
   ]
  },
  {
   "cell_type": "code",
   "execution_count": 431,
   "metadata": {
    "collapsed": false
   },
   "outputs": [
    {
     "name": "stdout",
     "output_type": "stream",
     "text": [
      "[[-1.19233886  1.08765326  0.68226646]\n",
      " [-1.51107385  1.53327319  1.80239015]\n",
      " [ 0.0569155   1.2226896   1.30250024]\n",
      " [ 0.39900103 -0.8366146   1.29787163]\n",
      " [-1.61031368  1.7358277   2.06622094]]\n",
      "[-0.69071732564964461, -0.90283576361921147, 0.8712457175808026, -0.20862996662790162, -1.3077891451974757]\n"
     ]
    }
   ],
   "source": [
    "# NORMALIZATION\n",
    "for i in range(X.shape[1]):\n",
    "    X[:,i] = normalize(X[:,i])\n",
    "y = normalize(y)\n",
    "print X[:5]\n",
    "print y[:5]"
   ]
  },
  {
   "cell_type": "code",
   "execution_count": 432,
   "metadata": {
    "collapsed": false
   },
   "outputs": [
    {
     "data": {
      "text/plain": [
       "array([[ 0.        , -1.19233886,  1.08765326,  0.68226646],\n",
       "       [ 0.        , -1.51107385,  1.53327319,  1.80239015],\n",
       "       [ 0.        ,  0.0569155 ,  1.2226896 ,  1.30250024],\n",
       "       [ 0.        ,  0.39900103, -0.8366146 ,  1.29787163],\n",
       "       [ 0.        , -1.61031368,  1.7358277 ,  2.06622094]])"
      ]
     },
     "execution_count": 432,
     "metadata": {},
     "output_type": "execute_result"
    }
   ],
   "source": [
    "# ADD INTERCEPT/BIAS\n",
    "X = np.hstack((np.zeros((199,1)), X))\n",
    "X[:5]"
   ]
  },
  {
   "cell_type": "code",
   "execution_count": 433,
   "metadata": {
    "collapsed": false
   },
   "outputs": [
    {
     "name": "stdout",
     "output_type": "stream",
     "text": [
      "Intercept: 0.103460; Betas: 0.426374, 0.352397, 0.694222\n",
      "CPU times: user 438 ms, sys: 7.76 ms, total: 445 ms\n",
      "Wall time: 440 ms\n"
     ]
    }
   ],
   "source": [
    "%%time\n",
    "print 'Intercept: %6f; Betas: %6f, %6f, %6f' % tuple(estimate_beta(X,y))"
   ]
  },
  {
   "cell_type": "code",
   "execution_count": 404,
   "metadata": {
    "collapsed": false
   },
   "outputs": [
    {
     "name": "stdout",
     "output_type": "stream",
     "text": [
      "0.756785058622\n"
     ]
    }
   ],
   "source": [
    "# EVALUATION\n",
    "def multiple_r_squared(x, y, beta):\n",
    "    SSErrs = sum(error_mult(x_i, y_i, beta)**2 for x_i,y_i in zip(x,y))\n",
    "    return 1.0 - SSErrs / total_sum_of_squares(y)\n",
    "betaGD = estimate_beta(X,y)\n",
    "# betaOpt = [2.965592, 0.045684, 0.188329, -0.001633] # unnormalized\n",
    "print multiple_r_squared(X,y,betaGD)\n",
    "# print multiple_r_squared(X,y,betaOpt) # unnormalized"
   ]
  },
  {
   "cell_type": "code",
   "execution_count": 389,
   "metadata": {
    "collapsed": false
   },
   "outputs": [],
   "source": [
    "## NB: either NORMALIZE ALL, or all variables/response are measured in the same unit!!"
   ]
  },
  {
   "cell_type": "markdown",
   "metadata": {
    "collapsed": true
   },
   "source": [
    "### SOL 2: ANALYTICAL"
   ]
  },
  {
   "cell_type": "code",
   "execution_count": 390,
   "metadata": {
    "collapsed": false
   },
   "outputs": [
    {
     "data": {
      "image/png": "[encoded data removed]",
      "text/plain": [
       "<IPython.core.display.Image object>"
      ]
     },
     "execution_count": 390,
     "metadata": {
      "image/png": {
       "width": "20%"
      }
     },
     "output_type": "execute_result"
    }
   ],
   "source": [
    "Image(filename='analytical_mult_reg.png', width=\"20%\")"
   ]
  },
  {
   "cell_type": "code",
   "execution_count": 394,
   "metadata": {
    "collapsed": false
   },
   "outputs": [
    {
     "data": {
      "text/html": [
       "<div>\n",
       "<table border=\"1\" class=\"dataframe\">\n",
       "  <thead>\n",
       "    <tr style=\"text-align: right;\">\n",
       "      <th></th>\n",
       "      <th>TV</th>\n",
       "      <th>Radio</th>\n",
       "      <th>Newspaper</th>\n",
       "      <th>Sales</th>\n",
       "    </tr>\n",
       "  </thead>\n",
       "  <tbody>\n",
       "    <tr>\n",
       "      <th>1</th>\n",
       "      <td>44.5</td>\n",
       "      <td>39.3</td>\n",
       "      <td>45.1</td>\n",
       "      <td>10.4</td>\n",
       "    </tr>\n",
       "    <tr>\n",
       "      <th>2</th>\n",
       "      <td>17.2</td>\n",
       "      <td>45.9</td>\n",
       "      <td>69.3</td>\n",
       "      <td>9.3</td>\n",
       "    </tr>\n",
       "    <tr>\n",
       "      <th>3</th>\n",
       "      <td>151.5</td>\n",
       "      <td>41.3</td>\n",
       "      <td>58.5</td>\n",
       "      <td>18.5</td>\n",
       "    </tr>\n",
       "    <tr>\n",
       "      <th>4</th>\n",
       "      <td>180.8</td>\n",
       "      <td>10.8</td>\n",
       "      <td>58.4</td>\n",
       "      <td>12.9</td>\n",
       "    </tr>\n",
       "    <tr>\n",
       "      <th>5</th>\n",
       "      <td>8.7</td>\n",
       "      <td>48.9</td>\n",
       "      <td>75.0</td>\n",
       "      <td>7.2</td>\n",
       "    </tr>\n",
       "  </tbody>\n",
       "</table>\n",
       "</div>"
      ],
      "text/plain": [
       "      TV  Radio  Newspaper  Sales\n",
       "1   44.5   39.3       45.1   10.4\n",
       "2   17.2   45.9       69.3    9.3\n",
       "3  151.5   41.3       58.5   18.5\n",
       "4  180.8   10.8       58.4   12.9\n",
       "5    8.7   48.9       75.0    7.2"
      ]
     },
     "execution_count": 394,
     "metadata": {},
     "output_type": "execute_result"
    }
   ],
   "source": [
    "# LOAD DATA\n",
    "data = pd.read_csv('Advertising.csv')\n",
    "data = data.ix[:,1:]\n",
    "data = data.ix[1:,:]\n",
    "data.head()"
   ]
  },
  {
   "cell_type": "code",
   "execution_count": 395,
   "metadata": {
    "collapsed": false
   },
   "outputs": [
    {
     "name": "stdout",
     "output_type": "stream",
     "text": [
      "[[   1.    44.5   39.3   45.1]\n",
      " [   1.    17.2   45.9   69.3]\n",
      " [   1.   151.5   41.3   58.5]\n",
      " [   1.   180.8   10.8   58.4]\n",
      " [   1.     8.7   48.9   75. ]]\n",
      "[ 10.4   9.3  18.5  12.9   7.2]\n"
     ]
    }
   ],
   "source": [
    "X, y = np.hstack((np.ones((data.shape[0],1)),data.ix[:,0:3].as_matrix())), data.ix[:,3].as_matrix()\n",
    "print X[:5]\n",
    "print y[:5]"
   ]
  },
  {
   "cell_type": "code",
   "execution_count": 399,
   "metadata": {
    "collapsed": false
   },
   "outputs": [
    {
     "name": "stdout",
     "output_type": "stream",
     "text": [
      "Intercept: 2.965592; Betas: 0.045684, 0.188329, -0.001633\n"
     ]
    }
   ],
   "source": [
    "# OPITMAL SOLUTION\n",
    "#  NB: do it only with non-normalized data!!\n",
    "print 'Intercept: %6f; Betas: %6f, %6f, %6f' % tuple(np.dot(np.dot(np.linalg.inv(np.dot(X.T,X)),X.T),y))"
   ]
  },
  {
   "cell_type": "code",
   "execution_count": 400,
   "metadata": {
    "collapsed": false
   },
   "outputs": [
    {
     "name": "stdout",
     "output_type": "stream",
     "text": [
      "R-squared: 0.987475\n"
     ]
    }
   ],
   "source": [
    "# EVALUATION\n",
    "beta = np.dot(np.dot(np.linalg.inv(np.dot(X.T,X)),X.T),y)\n",
    "print 'R-squared: %6f' % multiple_r_squared(X,y,beta)"
   ]
  },
  {
   "cell_type": "markdown",
   "metadata": {},
   "source": [
    "## BOOTSTRAP"
   ]
  },
  {
   "cell_type": "code",
   "execution_count": null,
   "metadata": {
    "collapsed": true
   },
   "outputs": [],
   "source": [
    "# IDEA\n",
    "#  repeated and randomly sample (w/ replacement) from a sample, \n",
    "#  and estimate a chosen central tendency (e.g. mean)\n",
    "#  by looking at the distribution of the means of the samples."
   ]
  },
  {
   "cell_type": "code",
   "execution_count": 436,
   "metadata": {
    "collapsed": false
   },
   "outputs": [
    {
     "data": {
      "text/html": [
       "<div>\n",
       "<table border=\"1\" class=\"dataframe\">\n",
       "  <thead>\n",
       "    <tr style=\"text-align: right;\">\n",
       "      <th></th>\n",
       "      <th>mpg</th>\n",
       "      <th>cylinders</th>\n",
       "      <th>displacement</th>\n",
       "      <th>horsepower</th>\n",
       "      <th>weight</th>\n",
       "      <th>acceleration</th>\n",
       "      <th>model_year</th>\n",
       "      <th>origin</th>\n",
       "      <th>car_name</th>\n",
       "    </tr>\n",
       "  </thead>\n",
       "  <tbody>\n",
       "    <tr>\n",
       "      <th>0</th>\n",
       "      <td>18.0</td>\n",
       "      <td>8</td>\n",
       "      <td>307.0</td>\n",
       "      <td>130.0</td>\n",
       "      <td>3504.0</td>\n",
       "      <td>12.0</td>\n",
       "      <td>70</td>\n",
       "      <td>1</td>\n",
       "      <td>chevrolet chevelle malibu</td>\n",
       "    </tr>\n",
       "    <tr>\n",
       "      <th>1</th>\n",
       "      <td>15.0</td>\n",
       "      <td>8</td>\n",
       "      <td>350.0</td>\n",
       "      <td>165.0</td>\n",
       "      <td>3693.0</td>\n",
       "      <td>11.5</td>\n",
       "      <td>70</td>\n",
       "      <td>1</td>\n",
       "      <td>buick skylark 320</td>\n",
       "    </tr>\n",
       "    <tr>\n",
       "      <th>2</th>\n",
       "      <td>18.0</td>\n",
       "      <td>8</td>\n",
       "      <td>318.0</td>\n",
       "      <td>150.0</td>\n",
       "      <td>3436.0</td>\n",
       "      <td>11.0</td>\n",
       "      <td>70</td>\n",
       "      <td>1</td>\n",
       "      <td>plymouth satellite</td>\n",
       "    </tr>\n",
       "    <tr>\n",
       "      <th>3</th>\n",
       "      <td>16.0</td>\n",
       "      <td>8</td>\n",
       "      <td>304.0</td>\n",
       "      <td>150.0</td>\n",
       "      <td>3433.0</td>\n",
       "      <td>12.0</td>\n",
       "      <td>70</td>\n",
       "      <td>1</td>\n",
       "      <td>amc rebel sst</td>\n",
       "    </tr>\n",
       "    <tr>\n",
       "      <th>4</th>\n",
       "      <td>17.0</td>\n",
       "      <td>8</td>\n",
       "      <td>302.0</td>\n",
       "      <td>140.0</td>\n",
       "      <td>3449.0</td>\n",
       "      <td>10.5</td>\n",
       "      <td>70</td>\n",
       "      <td>1</td>\n",
       "      <td>ford torino</td>\n",
       "    </tr>\n",
       "  </tbody>\n",
       "</table>\n",
       "</div>"
      ],
      "text/plain": [
       "    mpg  cylinders  displacement  horsepower  weight  acceleration  \\\n",
       "0  18.0          8         307.0       130.0  3504.0          12.0   \n",
       "1  15.0          8         350.0       165.0  3693.0          11.5   \n",
       "2  18.0          8         318.0       150.0  3436.0          11.0   \n",
       "3  16.0          8         304.0       150.0  3433.0          12.0   \n",
       "4  17.0          8         302.0       140.0  3449.0          10.5   \n",
       "\n",
       "   model_year  origin                   car_name  \n",
       "0          70       1  chevrolet chevelle malibu  \n",
       "1          70       1          buick skylark 320  \n",
       "2          70       1         plymouth satellite  \n",
       "3          70       1              amc rebel sst  \n",
       "4          70       1                ford torino  "
      ]
     },
     "execution_count": 436,
     "metadata": {},
     "output_type": "execute_result"
    },
    {
     "name": "stdout",
     "output_type": "stream",
     "text": [
      "\n"
     ]
    }
   ],
   "source": [
    "# DATA carmpg.txt\n",
    "'''\n",
    "1. mpg: continuous \n",
    "2. cylinders: multi-valued discrete \n",
    "3. displacement: continuous \n",
    "4. horsepower: continuous \n",
    "5. weight: continuous \n",
    "6. acceleration: continuous \n",
    "7. model year: multi-valued discrete \n",
    "8. origin: multi-valued discrete \n",
    "9. car name: string (unique for each instance)\n",
    "'''\n",
    "data = pd.read_csv('carmpg.txt', sep='\\s+', \n",
    "                   names=['mpg','cylinders','displacement','horsepower',\n",
    "                          'weight','acceleration','model_year','origin','car_name'])\n",
    "data.head()"
   ]
  },
  {
   "cell_type": "code",
   "execution_count": 437,
   "metadata": {
    "collapsed": false
   },
   "outputs": [
    {
     "data": {
      "text/plain": [
       "0    18.0\n",
       "1    15.0\n",
       "2    18.0\n",
       "3    16.0\n",
       "4    17.0\n",
       "Name: mpg, dtype: float64"
      ]
     },
     "execution_count": 437,
     "metadata": {},
     "output_type": "execute_result"
    }
   ],
   "source": [
    "# EXAMPLE: MPG\n",
    "mpg = data['mpg']\n",
    "mpg.head()"
   ]
  },
  {
   "cell_type": "code",
   "execution_count": 438,
   "metadata": {
    "collapsed": false
   },
   "outputs": [],
   "source": [
    "# BOOTSTRAP FUNCTIONS\n",
    "def bootstrap_sample(data):\n",
    "    # randomly sample len(data) elements w/ replacement.\n",
    "    # NB: works with both pd.DataFrame and np.ndarray.\n",
    "    return [random.choice(data) for _ in data]\n",
    "def bootstrap_statistic(data, stats_fn, numSamples):\n",
    "    # evaluate statistic on numSamples bootstrap samples from data.\n",
    "    return [stats_fn(bootstrap_sample(data)) for _ in range(numSamples)]"
   ]
  },
  {
   "cell_type": "code",
   "execution_count": 439,
   "metadata": {
    "collapsed": false
   },
   "outputs": [
    {
     "name": "stdout",
     "output_type": "stream",
     "text": [
      "True mean:  23.5145728643\n",
      "Estimated means:  [22.606783919597984, 23.468341708542713, 23.537939698492462, 23.467085427135679, 23.300502512562819, 23.767587939698494, 23.380402010050251, 23.174120603015073, 23.282663316582916, 23.207035175879398]\n",
      "Mean of estimated means:  23.6186432161\n"
     ]
    }
   ],
   "source": [
    "# DEMO: MEAN\n",
    "print 'True mean: ', np.mean(data['mpg'])\n",
    "print 'Estimated means: ', bootstrap_statistic(mpg, np.mean, 10)\n",
    "print 'Mean of estimated means: ', np.mean(bootstrap_statistic(mpg, np.mean, 10))"
   ]
  },
  {
   "cell_type": "code",
   "execution_count": 440,
   "metadata": {
    "collapsed": true
   },
   "outputs": [],
   "source": [
    "# REAL DATA: Advertising.csv\n",
    "#  GD of this data performed horribly, we are trying to confirm this\n",
    "#  by measuring the standard error on 10 bootstrap samples (400ms per run).\n",
    "data = pd.read_csv('Advertising.csv')\n",
    "data = data.ix[:,1:]\n",
    "data = data.ix[1:,:]\n",
    "X, y = data.ix[:,0:3].as_matrix(), data.ix[:,3].as_matrix()\n",
    "for i in range(X.shape[1]):\n",
    "   X[:,i] = normalize(X[:,i])\n",
    "y = normalize(y)\n",
    "X = np.hstack((np.zeros((199,1)), X))"
   ]
  },
  {
   "cell_type": "code",
   "execution_count": 449,
   "metadata": {
    "collapsed": false
   },
   "outputs": [
    {
     "name": "stdout",
     "output_type": "stream",
     "text": [
      "[0.023578763689845683, 0.19234905686207782, 0.24933285850933962, 0.88334978740627734, 0.73303982125205513, -0.013653163882533903, 0.6473409796668419, 0.68747679228419134, -0.20047933133933404, 0.64845413241794558]\n",
      "CPU times: user 4.24 s, sys: 9.32 ms, total: 4.25 s\n",
      "Wall time: 4.24 s\n"
     ]
    }
   ],
   "source": [
    "%%time\n",
    "# ESTIMATE BETA\n",
    "def estimate_sample_beta(sample):\n",
    "    # sample is a list of pairs (x_i, y_i).\n",
    "    xSample, ySample = zip(*sample)\n",
    "    return estimate_beta(xSample, ySample)\n",
    "random.seed(1)\n",
    "bootstrap_betas = bootstrap_statistic(zip(X,y), estimate_sample_beta, 10)\n",
    "multRSQs = [multiple_r_squared(X,y,beta) for beta in bootstrap_betas]\n",
    "print multRSQs\n",
    "    # apparently the RQ values vary a great deal!!"
   ]
  },
  {
   "cell_type": "markdown",
   "metadata": {},
   "source": [
    "### USING BOOTSTRAP TO ESTIMATE P-VALUE"
   ]
  },
  {
   "cell_type": "code",
   "execution_count": 456,
   "metadata": {
    "collapsed": false
   },
   "outputs": [
    {
     "name": "stdout",
     "output_type": "stream",
     "text": [
      "p-value (beta0):  1.16873586965\n",
      "p-value (beta1):  0.000125585667108\n",
      "p-value (beta2):  0.0\n",
      "p-value (beta3):  8.12683254026e-14\n"
     ]
    }
   ],
   "source": [
    "# P-VALUE ON EACH BETA\n",
    "#  On a particular run, we get:\n",
    "#   Intercept: 0.103460; Betas: 0.426374, 0.352397, 0.694222\n",
    "#   we'd like to know if we should reject each beta.\n",
    "#  First we use bootstrap to get a list of estimated betas to get an estimate\n",
    "#   of betas' distributions (thus we have mean and std).\n",
    "#  Then we employ p-value to evaluation: the probabilities that each\n",
    "#   beta should be rejected.\n",
    "#  Not knowing the exact t-distribution, we use guassian as an approximation.\n",
    "\n",
    "meanBeta0, stdBeta0 = np.mean([betas[0] for betas in bootstrap_betas]), np.std([betas[0] for betas in bootstrap_betas])\n",
    "meanBeta1, stdBeta1 = np.mean([betas[1] for betas in bootstrap_betas]), np.std([betas[1] for betas in bootstrap_betas])\n",
    "meanBeta2, stdBeta2 = np.mean([betas[2] for betas in bootstrap_betas]), np.std([betas[2] for betas in bootstrap_betas])\n",
    "meanBeta3, stdBeta3 = np.mean([betas[3] for betas in bootstrap_betas]), np.std([betas[3] for betas in bootstrap_betas])\n",
    "def p_value(betaHat, betaHatMean, betaHatStd):\n",
    "    import scipy.stats\n",
    "    if betaHat > 0:\n",
    "        # **if the coef is +, we need to compute twice the prob of seeing an even larger value.\n",
    "        return 2 * (1 - scipy.stats.norm(betaHatMean, betaHatStd).cdf(betaHat/betaHatStd))\n",
    "    else:\n",
    "        # **else twice the prob of seeing a smaller value.\n",
    "        return 2 * scipy.stats.norm(betaHatMean, betaHatStd).cdf(betaHat/betaHatStd)\n",
    "print 'p-value (beta0): ', p_value(0.103460, meanBeta0, stdBeta0)\n",
    "print 'p-value (beta1): ', p_value(0.426374, meanBeta1, stdBeta1)\n",
    "print 'p-value (beta2): ', p_value(0.352397, meanBeta2, stdBeta2)\n",
    "print 'p-value (beta3): ', p_value(0.694222, meanBeta3, stdBeta3)"
   ]
  },
  {
   "cell_type": "markdown",
   "metadata": {},
   "source": [
    "## REGULARIZATION"
   ]
  },
  {
   "cell_type": "code",
   "execution_count": 479,
   "metadata": {
    "collapsed": true
   },
   "outputs": [],
   "source": [
    "# RIDGE PENTALTY\n",
    "def ridge_penalty(betas, lmd):\n",
    "    # lmd: regularization hyperparameter.\n",
    "    return lmd * dot(betas[1:], beta[1:])\n",
    "def squared_error_ridge(x_i, y_i, betas, lmd):\n",
    "    # estimate error + ridge penalty on betas.\n",
    "    return error_mult(x_i, y_i, betas)**2 + ridge_penalty(betas, lmd)"
   ]
  },
  {
   "cell_type": "code",
   "execution_count": 480,
   "metadata": {
    "collapsed": true
   },
   "outputs": [],
   "source": [
    "# RIDGE GRADIENT DESCENT\n",
    "def ridge_penalty_gradient(betas, lmd):\n",
    "    # gds of ridge penalty.\n",
    "    # intercept is sustained.\n",
    "    return [0] + [2*lmd*beta_j for beta_j in betas[1:]]\n",
    "def squared_error_ridge_gradient(x_i, y_i, betas, lmd):\n",
    "    # the gd corresponding to the ith squared error term including the ridge penalty.\n",
    "    return vector_add(squared_error_gradient_mult(x_i, y_i, betas), ridge_penalty_gradient(betas, lmd))"
   ]
  },
  {
   "cell_type": "code",
   "execution_count": 481,
   "metadata": {
    "collapsed": true
   },
   "outputs": [],
   "source": [
    "def dot(v, w):\n",
    "    return sum(v_i*w_i for v_i, w_i in zip(v, w))"
   ]
  },
  {
   "cell_type": "code",
   "execution_count": 482,
   "metadata": {
    "collapsed": false
   },
   "outputs": [
    {
     "name": "stdout",
     "output_type": "stream",
     "text": [
      "CPU times: user 4 µs, sys: 1 µs, total: 5 µs\n",
      "Wall time: 6.91 µs\n"
     ]
    }
   ],
   "source": [
    "# BETA ESTIMATE WITH RIDGE\n",
    "def estimate_beta_ridge(x, y, lmd):\n",
    "    betaInit = [random.random() for x_i in x[0]]\n",
    "    return minimize_stochastic(partial(squared_error_ridge, lmd=lmd),\n",
    "                               partial(squared_error_ridge_gradient, lmd=lmd),\n",
    "                               x, y, betaInit, .001)"
   ]
  },
  {
   "cell_type": "code",
   "execution_count": 485,
   "metadata": {
    "collapsed": false
   },
   "outputs": [
    {
     "name": "stdout",
     "output_type": "stream",
     "text": [
      "CPU times: user 801 ms, sys: 13.3 ms, total: 815 ms\n",
      "Wall time: 805 ms\n"
     ]
    }
   ],
   "source": [
    "%%time\n",
    "random.seed(2)\n",
    "betas = estimate_beta_ridge(X, y, lmd=.01)"
   ]
  },
  {
   "cell_type": "code",
   "execution_count": 487,
   "metadata": {
    "collapsed": false
   },
   "outputs": [
    {
     "name": "stdout",
     "output_type": "stream",
     "text": [
      "p-value (beta0):  5.74440051082e-10\n",
      "p-value (beta1):  0.0\n",
      "p-value (beta2):  1.38362320684\n",
      "p-value (beta3):  1.53666581609\n"
     ]
    }
   ],
   "source": [
    "betas\n",
    "print 'p-value (beta0): ', p_value(betas[0], meanBeta0, stdBeta0)\n",
    "print 'p-value (beta1): ', p_value(betas[1], meanBeta1, stdBeta1)\n",
    "print 'p-value (beta2): ', p_value(betas[2], meanBeta2, stdBeta2)\n",
    "print 'p-value (beta3): ', p_value(betas[3], meanBeta3, stdBeta3)"
   ]
  },
  {
   "cell_type": "code",
   "execution_count": null,
   "metadata": {
    "collapsed": true
   },
   "outputs": [],
   "source": []
  },
  {
   "cell_type": "code",
   "execution_count": null,
   "metadata": {
    "collapsed": true
   },
   "outputs": [],
   "source": []
  },
  {
   "cell_type": "code",
   "execution_count": null,
   "metadata": {
    "collapsed": true
   },
   "outputs": [],
   "source": []
  },
  {
   "cell_type": "code",
   "execution_count": null,
   "metadata": {
    "collapsed": true
   },
   "outputs": [],
   "source": []
  },
  {
   "cell_type": "code",
   "execution_count": null,
   "metadata": {
    "collapsed": false
   },
   "outputs": [],
   "source": []
  },
  {
   "cell_type": "code",
   "execution_count": null,
   "metadata": {
    "collapsed": true
   },
   "outputs": [],
   "source": []
  },
  {
   "cell_type": "code",
   "execution_count": null,
   "metadata": {
    "collapsed": true
   },
   "outputs": [],
   "source": []
  },
  {
   "cell_type": "code",
   "execution_count": null,
   "metadata": {
    "collapsed": true
   },
   "outputs": [],
   "source": []
  },
  {
   "cell_type": "code",
   "execution_count": null,
   "metadata": {
    "collapsed": true
   },
   "outputs": [],
   "source": []
  },
  {
   "cell_type": "code",
   "execution_count": null,
   "metadata": {
    "collapsed": true
   },
   "outputs": [],
   "source": []
  }
 ],
 "metadata": {
  "kernelspec": {
   "display_name": "Python 2",
   "language": "python",
   "name": "python2"
  },
  "language_info": {
   "codemirror_mode": {
    "name": "ipython",
    "version": 2
   },
   "file_extension": ".py",
   "mimetype": "text/x-python",
   "name": "python",
   "nbconvert_exporter": "python",
   "pygments_lexer": "ipython2",
   "version": "2.7.11"
  }
 },
 "nbformat": 4,
 "nbformat_minor": 0
}

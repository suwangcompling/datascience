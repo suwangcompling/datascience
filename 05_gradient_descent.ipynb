{
 "cells": [
  {
   "cell_type": "code",
   "execution_count": 39,
   "metadata": {
    "collapsed": true
   },
   "outputs": [],
   "source": [
    "from functools import partial\n",
    "import random\n",
    "import math\n",
    "import matplotlib.pyplot as plt\n",
    "%matplotlib inline"
   ]
  },
  {
   "cell_type": "code",
   "execution_count": 3,
   "metadata": {
    "collapsed": false
   },
   "outputs": [],
   "source": [
    "import sys\n",
    "sys.path.append('/Users/jacobsw/Desktop/IMPLEMENTATION_CAMP/CODE/BASIC_TOPICS/DATA_SCIENCE/CODE_REPOSITORY')"
   ]
  },
  {
   "cell_type": "code",
   "execution_count": 4,
   "metadata": {
    "collapsed": false
   },
   "outputs": [
    {
     "name": "stdout",
     "output_type": "stream",
     "text": [
      "(3, 5)\n",
      "2\n",
      "int64\n",
      "8\n",
      "15\n",
      "<type 'numpy.ndarray'>\n",
      "[  0   1   8  27  64 125 216 343 512 729]\n",
      "[1000    1 1000   27 1000  125  216  343  512  729]\n",
      "[ 729  512  343  216  125 1000   27 1000    1 1000]\n",
      "[[ 9.  3.  1.  3.]\n",
      " [ 7.  0.  3.  8.]\n",
      " [ 8.  2.  9.  4.]]\n",
      "[ 9.  3.  1.  3.  7.  0.  3.  8.  8.  2.  9.  4.]\n",
      "[[ 1.  7.  7.  5.]\n",
      " [ 3.  4.  0.  6.]\n",
      " [ 1.  9.  2.  5.]]\n",
      "[[ 1.  7.  7.]\n",
      " [ 5.  3.  4.]\n",
      " [ 0.  6.  1.]\n",
      " [ 9.  2.  5.]]\n",
      "[[ 1.  7.  7.]\n",
      " [ 5.  3.  4.]\n",
      " [ 0.  6.  1.]\n",
      " [ 9.  2.  5.]]\n",
      "[[ 4.  6.  4.  1.  2.  9.  9.  0.  0.  5.  0.  5.]\n",
      " [ 8.  4.  6.  5.  9.  4.  6.  2.  3.  0.  8.  6.]]\n",
      "[array([[ 4.,  6.,  4.,  1.],\n",
      "       [ 8.,  4.,  6.,  5.]]), array([[ 2.,  9.,  9.,  0.],\n",
      "       [ 9.,  4.,  6.,  2.]]), array([[ 0.,  5.,  0.,  5.],\n",
      "       [ 3.,  0.,  8.,  6.]])]\n",
      "[array([[ 4.,  6.,  4.,  1.,  2.,  9.,  9.,  0.,  0.,  5.,  0.,  5.]]), array([[ 8.,  4.,  6.,  5.,  9.,  4.,  6.,  2.,  3.,  0.,  8.,  6.]])]\n",
      "[array([[ 4.,  6.,  4.],\n",
      "       [ 8.,  4.,  6.]]), array([[ 1.],\n",
      "       [ 5.]]), array([[ 2.,  9.,  9.,  0.,  0.,  5.,  0.,  5.],\n",
      "       [ 9.,  4.,  6.,  2.,  3.,  0.,  8.,  6.]])]\n"
     ]
    }
   ],
   "source": [
    "from linear_algebra import *"
   ]
  },
  {
   "cell_type": "code",
   "execution_count": 40,
   "metadata": {
    "collapsed": false
   },
   "outputs": [
    {
     "data": {
      "image/png": "[encoded data removed]",
      "text/plain": [
       "<matplotlib.figure.Figure at 0x10df01550>"
      ]
     },
     "metadata": {},
     "output_type": "display_data"
    },
    {
     "data": {
      "image/png": "[encoded data removed]",
      "text/plain": [
       "<matplotlib.figure.Figure at 0x10ccaa3d0>"
      ]
     },
     "metadata": {},
     "output_type": "display_data"
    }
   ],
   "source": [
    "# DERIVATIVE, SLOPE\n",
    "def sum_of_squares(v):\n",
    "    return sum(v_i**2 for v_i in v)\n",
    "    # goal: maximizing/minimizing a cost function such as this one.\n",
    "    # method: pick a random starting point, compute the gradient, \n",
    "    #    take a small step in the direction of the gradient, repeat with new starting point.\n",
    "def difference_quotient(f, x, h):\n",
    "    return (f(x+h) - f(x) / h)\n",
    "    # quotient: slope of the non-quite-tangent line.\n",
    "    #    as h reaches 0, the line gets infinitely close to tangent.\n",
    "def square(x): return x*x\n",
    "def derivative(x): return 2*x # derivative of x^2 is 2x. NB: we are dealing with sum of squares, so...\n",
    "derivative_estimate = partial(difference_quotient, square, h=.001)\n",
    "x = range(-10,10)\n",
    "plt.title('Actual Derivatives vs. Estimates (h=.001)')\n",
    "plt.plot(x, map(derivative, x), 'rx', label='Actual') # red x.\n",
    "plt.plot(x, map(derivative_estimate, x), 'b+', label='Estimate') # blue +.\n",
    "plt.legend(loc=9) # top center.\n",
    "plt.show()\n",
    "derivative_estimate = partial(difference_quotient, square, h=.00001)\n",
    "x = range(-10,10)\n",
    "plt.title('Actual Derivatives vs. Estimates (h=.00001)')\n",
    "plt.plot(x, map(derivative, x), 'rx', label='Actual') # red x.\n",
    "plt.plot(x, map(derivative_estimate, x), 'b+', label='Estimate') # blue +.\n",
    "plt.legend(loc=9) # top center.\n",
    "plt.show()\n",
    "## NB: in the second graph, the y distances between actual and estimate are much smaller!"
   ]
  },
  {
   "cell_type": "code",
   "execution_count": 41,
   "metadata": {
    "collapsed": true
   },
   "outputs": [],
   "source": [
    "# PARTIAL DERIVATIVE\n",
    "def partial_difference_quotient(f, v, i, h):\n",
    "    w = [v_j + (h if j==i else 0) for j, v_j in enumerate(v)]\n",
    "    return (f(w)-f(v)) / h\n",
    "    # partial derivative: only wrt. the ith variable.\n",
    "    # input change only happens to the ith variable, while other vars held fixed.\n",
    "def estimate_gradient(f, v, h=.00001):\n",
    "    return [partial_difference_quotient(f, v, i, h) for i, _ in enumerate(v)]"
   ]
  },
  {
   "cell_type": "code",
   "execution_count": 42,
   "metadata": {
    "collapsed": false
   },
   "outputs": [
    {
     "name": "stdout",
     "output_type": "stream",
     "text": [
      "argmin_v sum_of_squares(v) ~  [-1.2031441441677274e-06, -4.8125765766709094e-06, 0.0]\n"
     ]
    }
   ],
   "source": [
    "# FIND THE MINIMUM\n",
    "#    x+ if grad=neg; x- if grad=pos.\n",
    "#    DEMO: smallest 3D vector.\n",
    "def step(v, direction, stepSize): # direction = gradient.\n",
    "    return [v_i + stepSize * direction_i for v_i, direction_i in zip(v, direction)]\n",
    "    # step function returns the x value after movement based on f(x).\n",
    "def sum_of_squares_gradient(v):\n",
    "    return [2 * v_i for v_i in v]\n",
    "v = [random.randint(-10,10) for i in range(3)] # generate random 3D vector (val=[-10,10]).\n",
    "tolerance = .0000001 # if the value change < tolerance, stop.\n",
    "def distance(v, w):\n",
    "    return math.sqrt(sum(v1*v2 for v1,v2 in zip([v_i - w_i for v_i, w_i in zip(v,w)],[v_i - w_i for v_i, w_i in zip(v,w)]) ) )\n",
    "    # substract -> square -> sum -> square root.\n",
    "while True:\n",
    "    gradient = sum_of_squares_gradient(v)\n",
    "    nextV = step(v, gradient, -.01)\n",
    "    if distance(nextV, v) < tolerance:\n",
    "        break\n",
    "    v = nextV\n",
    "print 'argmin_v sum_of_squares(v) ~ ', v"
   ]
  },
  {
   "cell_type": "code",
   "execution_count": 43,
   "metadata": {
    "collapsed": false
   },
   "outputs": [],
   "source": [
    "# FIND OPTIMAL STEPSIZE\n",
    "stepSizes = [100,10,1,.1,.01,.001,.0001,.00001]\n",
    "def safe(f):\n",
    "    def safe_f(*args, **kwargs):\n",
    "        try:\n",
    "            return f(*args, **kwargs)\n",
    "        except:\n",
    "            return float('inf')\n",
    "    return safe_f\n",
    "    # safe function: a function that takes a function f and returns\n",
    "    #    a new function f' which is the same as f except that it outputs\n",
    "    #    infinity whenever f produces an error.\n",
    "    # NB: infinity can never minimize anything!"
   ]
  },
  {
   "cell_type": "markdown",
   "metadata": {},
   "source": [
    "### OPTIMIZATION STRATEGY I: SIMUTANEOUS UPDATE"
   ]
  },
  {
   "cell_type": "code",
   "execution_count": 44,
   "metadata": {
    "collapsed": true
   },
   "outputs": [],
   "source": [
    "# GRADIENT DESCENT FUNCTION (MINIMIZATION)\n",
    "#    hyperparameter selection strategy: try a batch of step sizes, pick the one \n",
    "#        that produces the smallest error (i.e. minimal cost_func(theta) )\n",
    "def minimize_batch(target_fn, gradient_fn, theta_0, tolerance=.000001):\n",
    "    # target_fn: cost function (e.g. sum of squares function).\n",
    "    # gradient_fn: gradient/slope evaluator (e.g. deriv(x)=2*x in sum of squares).\n",
    "    # theta_0: initial theta values.\n",
    "    # tolerance: delta threshold, if smaller than it, stop.\n",
    "    stepSizes = [100,10,1,.1,.01,.001,.0001,.00001]\n",
    "    theta = theta_0 # parameter initialization.\n",
    "    target_fn = safe(target_fn) # make sure target_fn doesn't invoke error.\n",
    "    value = target_fn(theta) # f(x), i.e. the value we are minimizing.\n",
    "    while True:\n",
    "        gradient = gradient_fn(theta)\n",
    "        nextThetas = [ step(theta, gradient, -stepSize) for stepSize in stepSizes ]\n",
    "            # compute: according to each step size, how much does x change.\n",
    "        nextTheta = min(nextThetas, key=target_fn) # next x is the one that minimizes f(x).\n",
    "        nextValue = target_fn(nextTheta) # next f(x).\n",
    "        if abs(value - nextValue) < tolerance:\n",
    "            return theta\n",
    "        else: \n",
    "            theta, value = nextTheta, nextValue"
   ]
  },
  {
   "cell_type": "code",
   "execution_count": 45,
   "metadata": {
    "collapsed": true
   },
   "outputs": [],
   "source": [
    "# GRADIENT ASCENT FUNCTION (MAXIMIZATION)\n",
    "def negate(f):\n",
    "    return lambda *args, **kwargs: -f(*args, **kwargs)\n",
    "def negate_all(f):\n",
    "    return lambda *args, **kwargs: [-y for y in f(*args, **kwargs)]\n",
    "def maximize_batch(target_fn, gradient_fn, theta_0, tolerance=.000001):\n",
    "    return minimize_batch(negate(target_fn), negate_all(gradient_fn), theta_0, tolerance)"
   ]
  },
  {
   "cell_type": "markdown",
   "metadata": {},
   "source": [
    "### OPTIMIZATION STRATEGY II: STOCHASTIC (ONE-BY-ONE UPDATE)"
   ]
  },
  {
   "cell_type": "code",
   "execution_count": 46,
   "metadata": {
    "collapsed": true
   },
   "outputs": [],
   "source": [
    "# RANDOM RETURNER OF ELEMENTS OF DATA\n",
    "def in_random_order(data):\n",
    "    indices = [i for i, _ in enumerate(data)]\n",
    "    random.shuffle(indices)\n",
    "    for i in indices:\n",
    "        yield data[i]"
   ]
  },
  {
   "cell_type": "code",
   "execution_count": 47,
   "metadata": {
    "collapsed": true
   },
   "outputs": [],
   "source": [
    "# STOCHASTIC GRADIENT DESCENT\n",
    "def minimize_stochastic(target_fn, gradient_fn, x, y, theta_0, alpha_0=.01):\n",
    "    data = zip(x,y)\n",
    "    theta = theta_0\n",
    "    alpha = alpha_0\n",
    "    minTheta, minValue = None, float('inf')\n",
    "    iterationWithNoImprovement = 0\n",
    "    while iterationWithNoImprovement < 100:\n",
    "        value = sum(target_fn(x_i,y_i,theta) for x_i,y_i in data)\n",
    "        if value < minValue:\n",
    "            minTheta, minValue = theta, value\n",
    "            iterationWithNoImprovement = 0\n",
    "            alpha = alpha_0\n",
    "        else:\n",
    "            iterationWithNoImprovement += 1\n",
    "            alpha *= .9 # smaller step.\n",
    "        for x_i,y_i in in_random_order(data):\n",
    "            gradient_i = gradient_fn(x_i,y_i,theta)\n",
    "            theta = vector_subtract(theta, scalar_multiply(alpha, gradient_i))\n",
    "    return minTheta"
   ]
  },
  {
   "cell_type": "code",
   "execution_count": 48,
   "metadata": {
    "collapsed": true
   },
   "outputs": [],
   "source": [
    "# STOCHASTIC GRADIENT ASCENT\n",
    "def maximize_stochastic(target_fn, gradient_fn, x, y, theta_0, alpha_0=.01):\n",
    "    return minimize_stochastic(negate(target_fn), negate_all(gradient_fn), x, y, theta_0, alpha_0)"
   ]
  },
  {
   "cell_type": "code",
   "execution_count": null,
   "metadata": {
    "collapsed": true
   },
   "outputs": [],
   "source": [
    ""
   ]
  },
  {
   "cell_type": "code",
   "execution_count": null,
   "metadata": {
    "collapsed": true
   },
   "outputs": [],
   "source": [
    ""
   ]
  },
  {
   "cell_type": "code",
   "execution_count": null,
   "metadata": {
    "collapsed": true
   },
   "outputs": [],
   "source": [
    ""
   ]
  },
  {
   "cell_type": "code",
   "execution_count": null,
   "metadata": {
    "collapsed": true
   },
   "outputs": [],
   "source": [
    ""
   ]
  },
  {
   "cell_type": "code",
   "execution_count": null,
   "metadata": {
    "collapsed": true
   },
   "outputs": [],
   "source": [
    ""
   ]
  },
  {
   "cell_type": "code",
   "execution_count": null,
   "metadata": {
    "collapsed": true
   },
   "outputs": [],
   "source": [
    ""
   ]
  },
  {
   "cell_type": "code",
   "execution_count": null,
   "metadata": {
    "collapsed": true
   },
   "outputs": [],
   "source": [
    ""
   ]
  },
  {
   "cell_type": "code",
   "execution_count": null,
   "metadata": {
    "collapsed": true
   },
   "outputs": [],
   "source": [
    ""
   ]
  },
  {
   "cell_type": "code",
   "execution_count": null,
   "metadata": {
    "collapsed": true
   },
   "outputs": [],
   "source": [
    ""
   ]
  },
  {
   "cell_type": "code",
   "execution_count": null,
   "metadata": {
    "collapsed": true
   },
   "outputs": [],
   "source": [
    ""
   ]
  },
  {
   "cell_type": "code",
   "execution_count": null,
   "metadata": {
    "collapsed": true
   },
   "outputs": [],
   "source": [
    ""
   ]
  },
  {
   "cell_type": "code",
   "execution_count": null,
   "metadata": {
    "collapsed": true
   },
   "outputs": [],
   "source": [
    ""
   ]
  },
  {
   "cell_type": "code",
   "execution_count": null,
   "metadata": {
    "collapsed": true
   },
   "outputs": [],
   "source": [
    ""
   ]
  },
  {
   "cell_type": "code",
   "execution_count": null,
   "metadata": {
    "collapsed": true
   },
   "outputs": [],
   "source": [
    ""
   ]
  },
  {
   "cell_type": "code",
   "execution_count": null,
   "metadata": {
    "collapsed": true
   },
   "outputs": [],
   "source": [
    ""
   ]
  },
  {
   "cell_type": "code",
   "execution_count": null,
   "metadata": {
    "collapsed": true
   },
   "outputs": [],
   "source": [
    ""
   ]
  },
  {
   "cell_type": "code",
   "execution_count": null,
   "metadata": {
    "collapsed": true
   },
   "outputs": [],
   "source": [
    ""
   ]
  },
  {
   "cell_type": "code",
   "execution_count": null,
   "metadata": {
    "collapsed": true
   },
   "outputs": [],
   "source": [
    ""
   ]
  }
 ],
 "metadata": {
  "kernelspec": {
   "display_name": "Python 2",
   "language": "python",
   "name": "python2"
  },
  "language_info": {
   "codemirror_mode": {
    "name": "ipython",
    "version": 2.0
   },
   "file_extension": ".py",
   "mimetype": "text/x-python",
   "name": "python",
   "nbconvert_exporter": "python",
   "pygments_lexer": "ipython2",
   "version": "2.7.11"
  }
 },
 "nbformat": 4,
 "nbformat_minor": 0
}
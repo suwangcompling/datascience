{
 "cells": [
  {
   "cell_type": "code",
   "execution_count": 98,
   "metadata": {
    "collapsed": false
   },
   "outputs": [],
   "source": [
    "# IO\n",
    "import sys, re, csv, os\n",
    "from collections import Counter\n",
    "# WEB-SCRAPPING\n",
    "from bs4 import BeautifulSoup\n",
    "import requests\n",
    "import html5lib\n",
    "from time import sleep\n",
    "import json\n",
    "from dateutil.parser import parse\n",
    "# PLOTTING\n",
    "import matplotlib.pyplot as plt\n",
    "%matplotlib inline\n",
    "# TWITTER\n",
    "from twython import Twython\n",
    "from twython import TwythonStreamer"
   ]
  },
  {
   "cell_type": "markdown",
   "metadata": {},
   "source": [
    "### OFFLINE DATA"
   ]
  },
  {
   "cell_type": "code",
   "execution_count": 4,
   "metadata": {
    "collapsed": false
   },
   "outputs": [
    {
     "name": "stdout",
     "output_type": "stream",
     "text": [
      "0\n",
      "usage: most_common_words.py numWords\n"
     ]
    },
    {
     "ename": "SystemExit",
     "evalue": "1",
     "output_type": "error",
     "traceback": [
      "An exception has occurred, use %tb to see the full traceback.\n",
      "\u001b[0;31mSystemExit\u001b[0m\u001b[0;31m:\u001b[0m 1\n"
     ]
    },
    {
     "name": "stderr",
     "output_type": "stream",
     "text": [
      "To exit: use 'exit', 'quit', or Ctrl-D.\n"
     ]
    }
   ],
   "source": [
    "# INPUT HANDLING\n",
    "\n",
    "#   1. read, filter-write lines that fit regex.\n",
    "regex = sys.argv[1]\n",
    "for line in sys.stdin:\n",
    "    if re.search(regex, line):\n",
    "        sys.stdout.write(line)\n",
    "#   2. count number of lines.\n",
    "count = 0\n",
    "for line in sys.stdin:\n",
    "    count += 1\n",
    "print count\n",
    "# usage (in command line)\n",
    "#   cat input_file.txt | python script.py 'regex'\n",
    "\n",
    "#   3. output n most common words.\n",
    "try:\n",
    "    numWords = int(sys.argv[1])\n",
    "except: \n",
    "    print 'usage: most_common_words.py numWords'\n",
    "    sys.exit(1) # nonzero exit code indicates error.\n",
    "counter = Counter(word.lower() for line in sys.stdin for word in line.strip().split() if word)\n",
    "for word, count in counter.most_common(numWords):\n",
    "    sys.stdout.write(str(count))\n",
    "    sys.stdout.write('\\t')\n",
    "    sys.stdout.write(word)\n",
    "    sys.stdout.write('\\n')\n",
    "# usage\n",
    "#   cat input_file.txt | python script.py numWords"
   ]
  },
  {
   "cell_type": "code",
   "execution_count": 10,
   "metadata": {
    "collapsed": false
   },
   "outputs": [
    {
     "name": "stdout",
     "output_type": "stream",
     "text": [
      "Processing... file2.txt\n",
      "6/20/2014 AAPL 90.91\n",
      "6/20/2014 MSFT 41.68\n",
      "6/20/2014 FB 64.5\n",
      "6/19/2014 AAPL 91.96\n",
      "6/19/2014 MSFT 41.51\n",
      "6/19/2014 FB 64.34\n",
      "Processing... file2.txt\n",
      "6/20/2014 AAPL 90.91\n",
      "6/20/2014 MSFT 41.68    \n",
      "6/20/2014 FB 64.5\n",
      "6/19/2014 AAPL 91.96    \n",
      "6/19/2014 MSFT 41.51    \n",
      "6/19/2014 FB 64.34 \n"
     ]
    }
   ],
   "source": [
    "# FILE IO 1\n",
    "''' file1.txt (headerless)\n",
    "6/20/2014       AAPL    90.91\n",
    "6/20/2014       MSFT    41.68\n",
    "6/20/2014       FB      64.5\n",
    "6/19/2014       AAPL    91.96\n",
    "6/19/2014       MSFT    41.51\n",
    "6/19/2014       FB      64.34\n",
    "'''\n",
    "os.chdir('/Users/su/Desktop/IMPLEMENTATION_CAMP/CODE/BASIC_TOPICS/DATA_SCIENCE/DATA')\n",
    "print 'Processing... file2.txt'\n",
    "with open('file1.txt', 'r') as f:\n",
    "    # r vs. rb: only different in Windows.\n",
    "    # r writes 2 bytes, rb 1 byte.\n",
    "    reader = csv.reader(f, delimiter='\\t')\n",
    "    for row in reader:\n",
    "        date = row[0]\n",
    "        symbol = row[1]\n",
    "        closingPrice = float(row[2])\n",
    "        # process(date, symbol, closingPrice)\n",
    "        print date, symbol, closingPrice\n",
    "''' file2.txt (header)\n",
    "date:symbol:closingPrice\n",
    "6/20/2014:AAPL:90.91\n",
    "6/20/2014:MSFT:41.68    \n",
    "6/20/2014:FB:64.5\n",
    "6/19/2014:AAPL:91.96    \n",
    "6/19/2014:MSFT:41.51    \n",
    "6/19/2014:FB:64.34 \n",
    "'''\n",
    "print 'Processing... file2.txt'\n",
    "with open('file2.txt', 'r') as f: \n",
    "    reader = csv.DictReader(f, delimiter=':')\n",
    "    for row in reader:\n",
    "        date = row['date']\n",
    "        symbol = row['symbol']\n",
    "        closingPrice = row['closingPrice']\n",
    "        # process(date, symbol, closingPrice)\n",
    "        print date, symbol, closingPrice"
   ]
  },
  {
   "cell_type": "code",
   "execution_count": 13,
   "metadata": {
    "collapsed": false
   },
   "outputs": [],
   "source": [
    "# FILE IO 2\n",
    "#   1. write comma separated file 1.\n",
    "todayPrices = {'AAPL':90.91, 'MSFT':41.68, 'FB':64.5}\n",
    "with open('today_prices.txt', 'w') as f:\n",
    "    writer = csv.writer(f, delimiter=',')\n",
    "    for stock, price in todayPrices.items():\n",
    "        writer.writerow([stock, price])\n",
    "''' output: today_prices.txt\n",
    "AAPL,90.91\n",
    "FB,64.5\n",
    "MSFT,41.68\n",
    "'''\n",
    "#   2. write comma separated file 2 \n",
    "#     NB: DON'T do this, let writer do the right thing! Cuz' real file may be messy.\n",
    "results = [['test1','success','Monday'],\n",
    "           ['test2','failure','Tuesday']]\n",
    "with open('test_results.txt', 'w') as f:\n",
    "    for row in results:\n",
    "        f.write(','.join(map(str, row)))\n",
    "        f.write('\\n')"
   ]
  },
  {
   "cell_type": "markdown",
   "metadata": {},
   "source": [
    "### WEBDATA I: HTML"
   ]
  },
  {
   "cell_type": "code",
   "execution_count": null,
   "metadata": {
    "collapsed": true
   },
   "outputs": [],
   "source": [
    "# FACILITIES INSTALLATION\n",
    "#  pip install --upgrade pip\n",
    "#  pip install html5lib\n",
    "#  pip install beautifulsoup4\n",
    "#  pip install requests"
   ]
  },
  {
   "cell_type": "code",
   "execution_count": null,
   "metadata": {
    "collapsed": true
   },
   "outputs": [],
   "source": [
    "# EXAMPLE DATA: OREILLY BOOK PAGE\n",
    "#   http://shop.oreilly.com/category/browse-subjects/data.do?sortby=publicationDate&page=1\n",
    "#   NB: this is the format that requests can handle!\n",
    "#   TODO: what about regular websites like https://www.gutenberg.org/files/11/11-h/11-h.htm?"
   ]
  },
  {
   "cell_type": "code",
   "execution_count": null,
   "metadata": {
    "collapsed": true
   },
   "outputs": [],
   "source": [
    "''' this html looks like this (for each book): \n",
    "<td class=\"thumbtext\">\n",
    " <div class=\"thumbcontainer\">\n",
    "  <div class=\"thumbdiv\">\n",
    "   <a href=\"/product/9781118903407.do\">\n",
    "    <img src=\"...\"/>\n",
    "   <\\a>\n",
    "  <\\div>\n",
    " <\\div> \n",
    "<\\td>\n",
    "'''\n",
    "# NB: there's more info, but this serves as a demo."
   ]
  },
  {
   "cell_type": "code",
   "execution_count": 30,
   "metadata": {
    "collapsed": false
   },
   "outputs": [],
   "source": [
    "# LOAD WEB HTML SOURCE\n",
    "url = 'http://shop.oreilly.com/category/browse-subjects/data.do?sortby=publicationDate&page=1'\n",
    "soup = BeautifulSoup(requests.get(url).text, 'html5lib') # this is a messy html dump, DON'T print!\n",
    "''' book info in thumb view\n",
    "<td class='thumbtext'>\n",
    " ... price, etc.\n",
    "<\\td>\n",
    "'''"
   ]
  },
  {
   "cell_type": "code",
   "execution_count": 34,
   "metadata": {
    "collapsed": false
   },
   "outputs": [
    {
     "name": "stdout",
     "output_type": "stream",
     "text": [
      "There are 30 thumbtexts.\n"
     ]
    }
   ],
   "source": [
    "# FIND THUMBTEXTS\n",
    "tds = soup('td', 'thumbtext')\n",
    "print 'There are %d thumbtexts.' % len(tds)\n",
    "''' soup\n",
    "soup.find(tag class).text\n",
    "           ^    ^     ^\n",
    "           |    |     |\n",
    "         <div class=\"thumbtext\">\n",
    "'''"
   ]
  },
  {
   "cell_type": "code",
   "execution_count": 36,
   "metadata": {
    "collapsed": false
   },
   "outputs": [
    {
     "name": "stdout",
     "output_type": "stream",
     "text": [
      "There are 23 non-video entries.\n"
     ]
    }
   ],
   "source": [
    "# FILTER OUT VIDEOS\n",
    "def is_video(td):\n",
    "    # video has exactly 1 pricelabel, stripped text inside that label starts with 'Video'\n",
    "    pricelabels = td('span', 'pricelabel') # there's a <span class=\"pricelabel\">\n",
    "    return (len(pricelabels)==1 and pricelabels[0].text.strip().startswith('Video'))\n",
    "print 'There are %d non-video entries.' % len([td for td in tds if not is_video(td)])"
   ]
  },
  {
   "cell_type": "code",
   "execution_count": 42,
   "metadata": {
    "collapsed": false
   },
   "outputs": [],
   "source": [
    "# FIND VARIOUS INFO\n",
    "title = td.find('div', 'thumbheader').a.text\n",
    "authorName = td.find('div', 'AuthorName').text\n",
    "authors = [x.strip() for x in re.sub('^By ', '', authorName).split(',')]\n",
    "isbnLink = td.find('div', 'thumbheader').a.get('href')\n",
    "date = td.find('span', 'directorydate').text.strip()"
   ]
  },
  {
   "cell_type": "code",
   "execution_count": 44,
   "metadata": {
    "collapsed": false
   },
   "outputs": [
    {
     "name": "stdout",
     "output_type": "stream",
     "text": [
      "souping page 1 , 0  found so far\n",
      "souping page 2 , 23  found so far\n",
      "souping page 3 , 43  found so far\n",
      "souping page 4 , 67  found so far\n",
      "souping page 5 , 93  found so far\n",
      "souping page 6 , 117  found so far\n",
      "souping page 7 , 139  found so far\n",
      "souping page 8 , 165  found so far\n",
      "souping page 9 , 188  found so far\n",
      "souping page 10 , 210  found so far\n",
      "souping page 11 , 235  found so far\n",
      "souping page 12 , 260  found so far\n",
      "souping page 13 , 286  found so far\n",
      "souping page 14 , 308  found so far\n",
      "souping page 15 , 334  found so far\n",
      "souping page 16 , 357  found so far\n",
      "souping page 17 , 381  found so far\n",
      "souping page 18 , 405  found so far\n",
      "souping page 19 , 430  found so far\n",
      "souping page 20 , 456  found so far\n",
      "souping page 21 , 484  found so far\n",
      "souping page 22 , 511  found so far\n",
      "souping page 23 , 537  found so far\n",
      "souping page 24 , 567  found so far\n",
      "souping page 25 , 595  found so far\n",
      "souping page 26 , 620  found so far\n",
      "souping page 27 , 649  found so far\n",
      "souping page 28 , 678  found so far\n",
      "souping page 29 , 705  found so far\n",
      "souping page 30 , 732  found so far\n",
      "souping page 31 , 758  found so far\n"
     ]
    }
   ],
   "source": [
    "# SCRAPPER DEMO\n",
    "def book_info(td):\n",
    "    # given a BeautifulSoup <td> tag representing a book,\n",
    "    #   extract the book's details and return a dict.\n",
    "    title = td.find('div', 'thumbheader').a.text\n",
    "    byAuthor = td.find('div', 'AuthorName').text\n",
    "    authors = [x.strip() for x in re.sub('^By ', '', authorName).split(',')]\n",
    "    isbnLink = td.find('div', 'thumbheader').a.get('href')\n",
    "    isbn = re.match('/product/(.*)\\.do', isbnLink).groups()[0]\n",
    "    date = td.find('span', 'directorydate').text.strip()\n",
    "    return {\n",
    "        'title': title,\n",
    "        'author': authors,\n",
    "        'isbn': isbn,\n",
    "        'date': date\n",
    "    }\n",
    "baseUrl = 'http://shop.oreilly.com/category/browse-subjects/data.do?sortby=publicationDate&page='\n",
    "books = []\n",
    "NUM_PAGES = 31\n",
    "for pageNum in range(1, NUM_PAGES+1):\n",
    "    print 'souping page', pageNum, ',', len(books), ' found so far'\n",
    "    url = baseUrl + str(pageNum)\n",
    "    soup = BeautifulSoup(requests.get(url).text, 'html5lib')\n",
    "    for td in soup('td', 'thumbtext'):\n",
    "        if not is_video(td):\n",
    "            books.append(book_info(td))\n",
    "        sleep(30)"
   ]
  },
  {
   "cell_type": "code",
   "execution_count": 50,
   "metadata": {
    "collapsed": false
   },
   "outputs": [
    {
     "data": {
      "text/plain": [
       "{'author': [u'Jan L. Harrington'],\n",
       " 'date': u'May 2016',\n",
       " 'isbn': u'0636920047995',\n",
       " 'title': u'Efficient R Programming'}"
      ]
     },
     "execution_count": 50,
     "metadata": {},
     "output_type": "execute_result"
    }
   ],
   "source": [
    "books[0]"
   ]
  },
  {
   "cell_type": "code",
   "execution_count": 56,
   "metadata": {
    "collapsed": false
   },
   "outputs": [
    {
     "data": {
      "image/png": "[encoded data removed]",
      "text/plain": [
       "<matplotlib.figure.Figure at 0x10b5133d0>"
      ]
     },
     "metadata": {},
     "output_type": "display_data"
    }
   ],
   "source": [
    "# USE SCRAPPED DATA: NUM OF BOOK PUBLISHED EACH YEAR\n",
    "def get_year(book):\n",
    "    # book['date'] returns 'Nov 2014', we therefore split on space and take 2nd.\n",
    "    return int(book['date'].split()[1])\n",
    "yearCounts = Counter(get_year(book) for book in books if get_year(book) <= 2016)\n",
    "    # as of May 22, 2016:\n",
    "    # Counter({2011: 26, 2012: 104, 2013: 197, 2014: 158, 2015: 231, 2016: 67})\n",
    "years = sorted(yearCounts)\n",
    "bookCounts = [yearCounts[year] for year in years]\n",
    "plt.plot(years, bookCounts)\n",
    "plt.ylabel('# of data books')\n",
    "plt.title('Data is Big!')\n",
    "plt.show()"
   ]
  },
  {
   "cell_type": "markdown",
   "metadata": {},
   "source": [
    "### WEBDATA II: JSON, XML"
   ]
  },
  {
   "cell_type": "code",
   "execution_count": 64,
   "metadata": {
    "collapsed": false
   },
   "outputs": [
    {
     "data": {
      "text/plain": [
       "{u'author': u'Joel Grus',\n",
       " u'publicationYear': 2014,\n",
       " u'title': u'Data Science Book',\n",
       " u'topics': [u'data', u'science', u'data science']}"
      ]
     },
     "execution_count": 64,
     "metadata": {},
     "output_type": "execute_result"
    }
   ],
   "source": [
    "# JSON: DESERIALIZED TO CREATE A PYTHON DICT\n",
    "serialized = '''\n",
    "    { \"title\": \"Data Science Book\",\n",
    "      \"author\": \"Joel Grus\",\n",
    "      \"publicationYear\": 2014,\n",
    "      \"topics\": [\"data\", \"science\", \"data science\"]\n",
    "    }\n",
    "'''\n",
    "deserialized = json.loads(serialized)\n",
    "deserialized"
   ]
  },
  {
   "cell_type": "code",
   "execution_count": 71,
   "metadata": {
    "collapsed": false
   },
   "outputs": [],
   "source": [
    "endpoint = \"https://api.github.com/users/joelgrus/repos\"\n",
    "repos = json.loads(requests.get(endpoint).text)\n",
    "dates = [ parse(repo['created_at']) for repo in repos ]\n",
    "    # parse target: u'created_at': u'2013-07-05T02:02:28Z'\n",
    "    # parse result: datetime.datetime(2013, 7, 5, 2, 2, 28, tzinfo=tzutc())\n",
    "monthCounts = Counter(date.month for date in dates)\n",
    "weekdayCounts = Counter(date.weekday() for date in dates)"
   ]
  },
  {
   "cell_type": "code",
   "execution_count": null,
   "metadata": {
    "collapsed": true
   },
   "outputs": [],
   "source": [
    "# XML\n",
    "#   similar to HTML, need to know how to use BeautifulSoup to handle processing."
   ]
  },
  {
   "cell_type": "code",
   "execution_count": 78,
   "metadata": {
    "collapsed": false
   },
   "outputs": [
    {
     "data": {
      "text/plain": [
       "[u'PureScript', u'JavaScript', u'HTML', u'PureScript', u'PureScript']"
      ]
     },
     "execution_count": 78,
     "metadata": {},
     "output_type": "execute_result"
    }
   ],
   "source": [
    "last5Repos = sorted(repos, key=lambda r: r['created_at'], reverse=True)[:5]\n",
    "last5Langs = [repo['language'] for repo in last5Repos]"
   ]
  },
  {
   "cell_type": "code",
   "execution_count": 81,
   "metadata": {
    "collapsed": false
   },
   "outputs": [
    {
     "data": {
      "text/plain": [
       "[datetime.datetime(2013, 7, 5, 2, 2, 28, tzinfo=tzutc()),\n",
       " datetime.datetime(2013, 11, 15, 5, 33, 22, tzinfo=tzutc()),\n",
       " datetime.datetime(2012, 9, 18, 4, 20, 23, tzinfo=tzutc()),\n",
       " datetime.datetime(2015, 11, 11, 14, 15, 36, tzinfo=tzutc()),\n",
       " datetime.datetime(2015, 6, 30, 0, 33, 3, tzinfo=tzutc())]"
      ]
     },
     "execution_count": 81,
     "metadata": {},
     "output_type": "execute_result"
    }
   ],
   "source": [
    "dates[:5]"
   ]
  },
  {
   "cell_type": "markdown",
   "metadata": {},
   "source": [
    "### WEBDATE III: API"
   ]
  },
  {
   "cell_type": "code",
   "execution_count": 92,
   "metadata": {
    "collapsed": false
   },
   "outputs": [],
   "source": [
    "# TWITTER\n",
    "#   pip install twython"
   ]
  },
  {
   "cell_type": "code",
   "execution_count": 95,
   "metadata": {
    "collapsed": false
   },
   "outputs": [],
   "source": [
    "# MY TWITTER ACCOUNT (jacobsuwang)\n",
    "KEYS = \\\n",
    "{ \"CONSUMER_KEY\": \"CONFIDENTIAL\",\n",
    "  \"CONSUMER_SECRET\": \"CONFIDENTIAL\",\n",
    "  \"ACCESS_TOKEN\": \"CONFIDENTIAL\",\n",
    "  \"ACCESS_TOKEN_SECRET\": \"CONFIDENTIAL\"\n",
    "}"
   ]
  },
  {
   "cell_type": "code",
   "execution_count": 97,
   "metadata": {
    "collapsed": false
   },
   "outputs": [
    {
     "name": "stdout",
     "output_type": "stream",
     "text": [
      "LoopGM : RT @knoyd_com: #tweet2vec models for #nlp https://t.co/DKsGFSq3kc #machinelearning #datascience\n",
      "\n",
      "ArkangelScrap : RT @EasyAnalytics1: #DataScience Job Roles Across Organizational Levels @bobehayes https://t.co/rfGgljOpWk #data #analytics\n",
      "\n",
      "modernscientist : This is devastating. Please let the Python and data science communities know if we can help. https://t.co/FIQOQeLrzW\n",
      "\n",
      "pinkporridge3 : RT @daveholtz: Speaking at #ODSC today about what data science actually is, because, well, who knows? 🤔\n",
      "\n",
      "dparente : A Linear Method for Non-Linear Work: @microsoft  #DataScience Process\n",
      "\n",
      "https://t.co/ZUIKrJyyhF\n",
      "\n",
      "FmFrancoise : RT @mikegbuck: Top 10 #DataScience Influencers on Twitter #bigdata #IoThttp://buff.ly/1XKKQwX https://t.co/ak0XzvmS7C https://t.co/14UG9WRw…\n",
      "\n",
      "BigDataTweetBot : RT @TjeerdHobma: 5 Ways to Tell if You’re Having a #BigData Problem or Just a ‘Lots of Data’ Problem. https://t.co/PfidSeUBqS https://t.co/…\n",
      "\n",
      "pjgonzalo : RT @jvabad: Why is data science so hot right now? - https://t.co/0jrnvYzuTN #datascience #analytics\n",
      "\n",
      "goomedic : The Field Guide to #DataScience https://t.co/MbauHJS57h\n",
      "\n",
      "georgeherby : RT @TjeerdHobma: 5 Ways to Tell if You’re Having a #BigData Problem or Just a ‘Lots of Data’ Problem. https://t.co/PfidSeUBqS https://t.co/…\n",
      "\n",
      "denmartins : RT @KirkDBorne: Hitchhiker's Guide to #DataScience, #MachineLearning, R, #Python: https://t.co/I1FHdOVlfK #abdsc #BigData by @DataScienceCt…\n",
      "\n",
      "HunaMakia : RT @ParticleData: UC Riverside Adds Data Science Specialization to Online MS... https://t.co/eJxgyxmPRi https://t.co/ifQAgnqp7K\n",
      "\n",
      "HunaMakia : RT @TjeerdHobma: 5 Ways to Tell if You’re Having a #BigData Problem or Just a ‘Lots of Data’ Problem. https://t.co/PfidSeUBqS https://t.co/…\n",
      "\n",
      "thisismetis : Great catching up with Peter Bull of @drivendataorg today @odsc Data Science is Software https://t.co/dfNkGMKTor https://t.co/Z8MQC6D9oi\n",
      "\n",
      "2ushubblebirdZ : RT @KirkDBorne: 10 Signs of #DataScience Maturity: https://t.co/IOTDBphUaB by @BoozAllen https://t.co/ikD6fv5CE0 #ODSC https://t.co/NUWlTCj…\n",
      "\n"
     ]
    }
   ],
   "source": [
    "# (LIMITED) ACCESS DATA BY KEYWORD\n",
    "twitter = Twython(KEYS['CONSUMER_KEY'], KEYS['CONSUMER_SECRET'])\n",
    "for status in twitter.search(q='\"data science\"')[\"statuses\"]:\n",
    "    user = status[\"user\"][\"screen_name\"].encode('utf-8') \n",
    "        # utf-8 encoding is crucial in handling Unicode chars print cannot handle.\n",
    "    text = status[\"text\"].encode('utf-8')\n",
    "    print user, \":\", text\n",
    "    print"
   ]
  },
  {
   "cell_type": "code",
   "execution_count": 102,
   "metadata": {
    "collapsed": false
   },
   "outputs": [
    {
     "name": "stdout",
     "output_type": "stream",
     "text": [
      "received tweet # 1\n",
      "received tweet # 2\n",
      "received tweet # 3\n",
      "received tweet # 4\n",
      "received tweet # 5\n",
      "received tweet # 6\n",
      "received tweet # 7\n",
      "received tweet # 8\n",
      "received tweet # 9\n",
      "received tweet # 10\n",
      "received tweet # 11\n",
      "[('data', 4), ('bluemix', 1), ('lemuel', 1), ('javascript', 1), ('bigdata', 1)]\n"
     ]
    }
   ],
   "source": [
    "# UNLIMITTED ACCESS: STREAMING\n",
    "tweets = []\n",
    "class MyStreamer(TwythonStreamer):\n",
    "    # specifies how to interact with the stream.\n",
    "    \n",
    "    def on_success(self, data):\n",
    "        # on receiving data, data will be a Python dict representing a tweet.\n",
    "        if data['lang'] == 'en':\n",
    "            tweets.append(data)\n",
    "            print \"received tweet #\", len(tweets)\n",
    "        if len(tweets) > 10: # N = 10, max tweet number.\n",
    "            self.disconnect()\n",
    "    \n",
    "    def on_error(self, statusCode, data):\n",
    "        print statusCode, data\n",
    "        self.disconnect()\n",
    "\n",
    "stream = MyStreamer(KEYS['CONSUMER_KEY'], KEYS['CONSUMER_SECRET'],\n",
    "                    KEYS['ACCESS_TOKEN'], KEYS['ACCESS_TOKEN_SECRET'])\n",
    "stream.statuses.filter(track='data') \n",
    "    # start consuming public statuses that contain 'data'.\n",
    "    # if, instead we wanted to start consuming a sample of *all* public statuses.\n",
    "    # stream.statuses.sample()\n",
    "    # this will run until we collect N tweets.\n",
    "topHashtags = Counter(hashtag['text'].lower() for tweet in tweets for hashtag in tweet['entities']['hashtags'])\n",
    "print topHashtags.most_common(5)\n"
   ]
  },
  {
   "cell_type": "code",
   "execution_count": null,
   "metadata": {
    "collapsed": true
   },
   "outputs": [],
   "source": []
  },
  {
   "cell_type": "code",
   "execution_count": null,
   "metadata": {
    "collapsed": true
   },
   "outputs": [],
   "source": []
  },
  {
   "cell_type": "code",
   "execution_count": null,
   "metadata": {
    "collapsed": true
   },
   "outputs": [],
   "source": []
  },
  {
   "cell_type": "code",
   "execution_count": null,
   "metadata": {
    "collapsed": true
   },
   "outputs": [],
   "source": []
  },
  {
   "cell_type": "code",
   "execution_count": null,
   "metadata": {
    "collapsed": true
   },
   "outputs": [],
   "source": []
  },
  {
   "cell_type": "code",
   "execution_count": null,
   "metadata": {
    "collapsed": true
   },
   "outputs": [],
   "source": []
  },
  {
   "cell_type": "code",
   "execution_count": null,
   "metadata": {
    "collapsed": true
   },
   "outputs": [],
   "source": []
  },
  {
   "cell_type": "code",
   "execution_count": null,
   "metadata": {
    "collapsed": true
   },
   "outputs": [],
   "source": []
  },
  {
   "cell_type": "code",
   "execution_count": null,
   "metadata": {
    "collapsed": true
   },
   "outputs": [],
   "source": []
  }
 ],
 "metadata": {
  "kernelspec": {
   "display_name": "Python 2",
   "language": "python",
   "name": "python2"
  },
  "language_info": {
   "codemirror_mode": {
    "name": "ipython",
    "version": 2
   },
   "file_extension": ".py",
   "mimetype": "text/x-python",
   "name": "python",
   "nbconvert_exporter": "python",
   "pygments_lexer": "ipython2",
   "version": "2.7.11"
  }
 },
 "nbformat": 4,
 "nbformat_minor": 0
}

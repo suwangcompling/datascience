{
 "cells": [
  {
   "cell_type": "markdown",
   "metadata": {
    "collapsed": true
   },
   "source": [
    "# Mock SQL"
   ]
  },
  {
   "cell_type": "code",
   "execution_count": 35,
   "metadata": {
    "collapsed": true
   },
   "outputs": [],
   "source": [
    "import numpy as np\n",
    "from collections import defaultdict"
   ]
  },
  {
   "cell_type": "code",
   "execution_count": 59,
   "metadata": {
    "collapsed": true
   },
   "outputs": [],
   "source": [
    "class Table:\n",
    "    \n",
    "    def __init__(self, columns):\n",
    "        self.columns = columns # i.e. a list of column names.\n",
    "        self.rows = []\n",
    "    \n",
    "    def __repr__(self):\n",
    "        # pretty print.\n",
    "        return str(self.columns) + \"\\n\" + \"\\n\".join(map(str, self.rows))\n",
    "    \n",
    "    def insert(self, rowValues):\n",
    "        if len(rowValues) != len(self.columns):\n",
    "            raise TypeError(\"wrong number of elements\")\n",
    "        rowDict = dict(zip(self.columns, rowValues))\n",
    "        self.rows.append(rowDict)\n",
    "    \n",
    "    def update(self, updates, predicate):\n",
    "        for row in self.rows:\n",
    "            if predicate(row):\n",
    "                for column, newValue in updates.iteritems():\n",
    "                    row[column] = newValue\n",
    "    \n",
    "    def delete(self, predicate=lambda row:True):\n",
    "        self.rows = [row for row in self.rows if not(predicate(row))]\n",
    "        \n",
    "    def select(self, keepColumns=None, additionalColumns=None):\n",
    "        # keepColumns: select by column names; select all if = None.\n",
    "        # additionalColumns: containts new columns and how the values in the new columns should be computed.\n",
    "        if keepColumns is None:\n",
    "            keepColumns = self.columns\n",
    "        if additionalColumns is None:\n",
    "            additionalColumns = {}\n",
    "        resultTable = Table(keepColumns + additionalColumns.keys())\n",
    "        for row in self.rows:\n",
    "            newRow = [row[column] for column in keepColumns]\n",
    "            for columnName,calculation in additionalColumns.iteritems():\n",
    "                newRow.append(calculation(row))\n",
    "            resultTable.insert(newRow)\n",
    "        return resultTable\n",
    "    \n",
    "    def where(self, predicate=lambda row:True):\n",
    "        # return rows that satisfy the supplied predicate.\n",
    "        whereTable = Table(self.columns)\n",
    "        whereTable.rows = filter(predicate, self.rows)\n",
    "        return whereTable\n",
    "    \n",
    "    def limit(self, numRows):\n",
    "        # return only the first numRow rows.\n",
    "        limitTable = Table(self.columns)\n",
    "        limitTable.rows = self.rows[:numRows]\n",
    "        return limitTable\n",
    "    \n",
    "    def group_by(self, groupByColumns, aggregates, having=None):\n",
    "        groupedRows = defaultdict(list)\n",
    "        for row in self.rows:\n",
    "            key = tuple(row[column] for column in groupByColumns)\n",
    "            groupedRows[key].append(row)\n",
    "        resultTable = Table(groupByColumns + aggregates.keys())\n",
    "        for key,rows in groupedRows.iteritems():\n",
    "            if having is None or having(rows):\n",
    "                newRow = list(key)\n",
    "                for aggregateName,aggregate_fn in aggregates.iteritems():\n",
    "                    newRow.append(aggregate_fn(rows))\n",
    "                resultTable.insert(newRow)\n",
    "        return resultTable\n",
    "    \n",
    "    def order_by(self, order):\n",
    "        newTable = self.select()\n",
    "        newTable.rows.sort(key=order)\n",
    "        return newTable\n",
    "        "
   ]
  },
  {
   "cell_type": "code",
   "execution_count": 60,
   "metadata": {
    "collapsed": false
   },
   "outputs": [
    {
     "name": "stdout",
     "output_type": "stream",
     "text": [
      "['user_id', 'name', 'num_friends']\n",
      "{'user_id': 0, 'name': 'Hero', 'num_friends': 0}\n",
      "{'user_id': 1, 'name': 'Dunn', 'num_friends': 2}\n",
      "{'user_id': 2, 'name': 'Sue', 'num_friends': 3}\n",
      "{'user_id': 3, 'name': 'Chi', 'num_friends': 3}\n",
      "{'user_id': 4, 'name': 'Thor', 'num_friends': 3}\n",
      "{'user_id': 5, 'name': 'Clive', 'num_friends': 2}\n",
      "{'user_id': 6, 'name': 'Hicks', 'num_friends': 3}\n",
      "{'user_id': 7, 'name': 'Devin', 'num_friends': 2}\n",
      "{'user_id': 8, 'name': 'Kate', 'num_friends': 2}\n",
      "{'user_id': 9, 'name': 'Klein', 'num_friends': 3}\n",
      "{'user_id': 10, 'name': 'Jen', 'num_friends': 1}\n"
     ]
    }
   ],
   "source": [
    "# ADD ENTRIES\n",
    "users = Table([\"user_id\", \"name\", \"num_friends\"])\n",
    "users.insert([0, \"Hero\", 0])\n",
    "users.insert([1, \"Dunn\", 2])\n",
    "users.insert([2, \"Sue\", 3])\n",
    "users.insert([3, \"Chi\", 3])\n",
    "users.insert([4, \"Thor\", 3])\n",
    "users.insert([5, \"Clive\", 2])\n",
    "users.insert([6, \"Hicks\", 3])\n",
    "users.insert([7, \"Devin\", 2])\n",
    "users.insert([8, \"Kate\", 2])\n",
    "users.insert([9, \"Klein\", 3])\n",
    "users.insert([10, \"Jen\", 1])\n",
    "print users"
   ]
  },
  {
   "cell_type": "code",
   "execution_count": 39,
   "metadata": {
    "collapsed": false
   },
   "outputs": [
    {
     "name": "stdout",
     "output_type": "stream",
     "text": [
      "{'user_id': 1, 'name': 'Dunn', 'num_friends': 3}\n"
     ]
    }
   ],
   "source": [
    "# UPDATE DATABASE\n",
    "users.update({'num_friends': 3}, lambda row: row['user_id']==1) # user1, i.e. Dunn, acquires 1 new friend.\n",
    "print users.rows[1]"
   ]
  },
  {
   "cell_type": "code",
   "execution_count": 40,
   "metadata": {
    "collapsed": false
   },
   "outputs": [
    {
     "name": "stdout",
     "output_type": "stream",
     "text": [
      "['user_id', 'name', 'num_friends']\n",
      "{'user_id': 0, 'name': 'Hero', 'num_friends': 0}\n",
      "{'user_id': 2, 'name': 'Sue', 'num_friends': 3}\n",
      "{'user_id': 3, 'name': 'Chi', 'num_friends': 3}\n",
      "{'user_id': 4, 'name': 'Thor', 'num_friends': 3}\n",
      "{'user_id': 5, 'name': 'Clive', 'num_friends': 2}\n",
      "{'user_id': 6, 'name': 'Hicks', 'num_friends': 3}\n",
      "{'user_id': 7, 'name': 'Devin', 'num_friends': 2}\n",
      "{'user_id': 8, 'name': 'Kate', 'num_friends': 2}\n",
      "{'user_id': 9, 'name': 'Klein', 'num_friends': 3}\n",
      "{'user_id': 10, 'name': 'Jen', 'num_friends': 1}\n"
     ]
    }
   ],
   "source": [
    "# DELETE (ENTRIES FROM / DATABASE)\n",
    "users.delete(lambda row: row[\"user_id\"]==1) # delete user1, i.e. Dunn.\n",
    "# users.delete() # delete everything, dangerous.\n",
    "print users"
   ]
  },
  {
   "cell_type": "code",
   "execution_count": 41,
   "metadata": {
    "collapsed": false
   },
   "outputs": [
    {
     "data": {
      "text/plain": [
       "['name', 'num_friends', 'facebook_friends']\n",
       "{'facebook_friends': 0, 'name': 'Hero', 'num_friends': 0}\n",
       "{'facebook_friends': 12, 'name': 'Sue', 'num_friends': 3}\n",
       "{'facebook_friends': 9, 'name': 'Chi', 'num_friends': 3}\n",
       "{'facebook_friends': 7, 'name': 'Thor', 'num_friends': 3}\n",
       "{'facebook_friends': 7, 'name': 'Clive', 'num_friends': 2}\n",
       "{'facebook_friends': 8, 'name': 'Hicks', 'num_friends': 3}\n",
       "{'facebook_friends': 9, 'name': 'Devin', 'num_friends': 2}\n",
       "{'facebook_friends': 8, 'name': 'Kate', 'num_friends': 2}\n",
       "{'facebook_friends': 9, 'name': 'Klein', 'num_friends': 3}\n",
       "{'facebook_friends': 4, 'name': 'Jen', 'num_friends': 1}"
      ]
     },
     "execution_count": 41,
     "metadata": {},
     "output_type": "execute_result"
    }
   ],
   "source": [
    "# GET A NEW TABLE WITH MODIFICATION ON OLD\n",
    "users.select(keepColumns=[\"name\", \"num_friends\"],\n",
    "             additionalColumns = {\"facebook_friends\": lambda row: row[\"num_friends\"] + np.random.randint(10)})"
   ]
  },
  {
   "cell_type": "code",
   "execution_count": 42,
   "metadata": {
    "collapsed": false
   },
   "outputs": [
    {
     "data": {
      "text/plain": [
       "['user_id', 'name', 'num_friends']\n",
       "{'user_id': 2, 'name': 'Sue', 'num_friends': 3}\n",
       "{'user_id': 3, 'name': 'Chi', 'num_friends': 3}\n",
       "{'user_id': 4, 'name': 'Thor', 'num_friends': 3}\n",
       "{'user_id': 6, 'name': 'Hicks', 'num_friends': 3}\n",
       "{'user_id': 9, 'name': 'Klein', 'num_friends': 3}"
      ]
     },
     "execution_count": 42,
     "metadata": {},
     "output_type": "execute_result"
    }
   ],
   "source": [
    "users.where(lambda row: row[\"num_friends\"]>2) "
   ]
  },
  {
   "cell_type": "code",
   "execution_count": 47,
   "metadata": {
    "collapsed": false
   },
   "outputs": [
    {
     "data": {
      "text/plain": [
       "['user_id']\n",
       "{'user_id': 0}"
      ]
     },
     "execution_count": 47,
     "metadata": {},
     "output_type": "execute_result"
    }
   ],
   "source": [
    "users.where(lambda row: row[\"name\"]==\"Hero\").select(keepColumns=[\"user_id\"]) \n",
    "    # get the id of a user with the name \"Dunn\"."
   ]
  },
  {
   "cell_type": "code",
   "execution_count": 48,
   "metadata": {
    "collapsed": false
   },
   "outputs": [
    {
     "data": {
      "text/plain": [
       "['user_id', 'name', 'num_friends']\n",
       "{'user_id': 0, 'name': 'Hero', 'num_friends': 0}\n",
       "{'user_id': 2, 'name': 'Sue', 'num_friends': 3}\n",
       "{'user_id': 3, 'name': 'Chi', 'num_friends': 3}"
      ]
     },
     "execution_count": 48,
     "metadata": {},
     "output_type": "execute_result"
    }
   ],
   "source": [
    "users.limit(3)"
   ]
  },
  {
   "cell_type": "code",
   "execution_count": 58,
   "metadata": {
    "collapsed": false
   },
   "outputs": [
    {
     "data": {
      "text/plain": [
       "['name', 'first_letter_of_name']\n",
       "{'name': 'Thor', 'first_letter_of_name': ['T']}\n",
       "{'name': 'Devin', 'first_letter_of_name': ['D']}\n",
       "{'name': 'Jen', 'first_letter_of_name': ['J']}\n",
       "{'name': 'Sue', 'first_letter_of_name': ['S']}\n",
       "{'name': 'Kate', 'first_letter_of_name': ['K']}\n",
       "{'name': 'Chi', 'first_letter_of_name': ['C']}\n",
       "{'name': 'Hero', 'first_letter_of_name': ['H']}\n",
       "{'name': 'Klein', 'first_letter_of_name': ['K']}\n",
       "{'name': 'Clive', 'first_letter_of_name': ['C']}\n",
       "{'name': 'Hicks', 'first_letter_of_name': ['H']}"
      ]
     },
     "execution_count": 58,
     "metadata": {},
     "output_type": "execute_result"
    }
   ],
   "source": [
    "# GROUP BY\n",
    "users.group_by(groupByColumns=[\"name\"], \n",
    "               aggregates={\"first_letter_of_name\": lambda rows:[row[\"name\"][0] if row[\"name\"] else \"\" for row in rows]})\n"
   ]
  },
  {
   "cell_type": "code",
   "execution_count": 62,
   "metadata": {
    "collapsed": false
   },
   "outputs": [
    {
     "data": {
      "text/plain": [
       "['user_id', 'name', 'num_friends']\n",
       "{'user_id': 2, 'name': 'Sue', 'num_friends': 3}\n",
       "{'user_id': 3, 'name': 'Chi', 'num_friends': 3}\n",
       "{'user_id': 4, 'name': 'Thor', 'num_friends': 3}\n",
       "{'user_id': 6, 'name': 'Hicks', 'num_friends': 3}\n",
       "{'user_id': 9, 'name': 'Klein', 'num_friends': 3}\n",
       "{'user_id': 1, 'name': 'Dunn', 'num_friends': 2}\n",
       "{'user_id': 5, 'name': 'Clive', 'num_friends': 2}\n",
       "{'user_id': 7, 'name': 'Devin', 'num_friends': 2}\n",
       "{'user_id': 8, 'name': 'Kate', 'num_friends': 2}\n",
       "{'user_id': 10, 'name': 'Jen', 'num_friends': 1}\n",
       "{'user_id': 0, 'name': 'Hero', 'num_friends': 0}"
      ]
     },
     "execution_count": 62,
     "metadata": {},
     "output_type": "execute_result"
    }
   ],
   "source": [
    "# ORDER BY\n",
    "users.order_by(lambda row: -row[\"num_friends\"]) # for ascending, drop \"-\"."
   ]
  },
  {
   "cell_type": "code",
   "execution_count": null,
   "metadata": {
    "collapsed": true
   },
   "outputs": [],
   "source": []
  },
  {
   "cell_type": "code",
   "execution_count": 63,
   "metadata": {
    "collapsed": true
   },
   "outputs": [],
   "source": [
    "# SQL bores the heck out of me..."
   ]
  }
 ],
 "metadata": {
  "kernelspec": {
   "display_name": "Python 2",
   "language": "python",
   "name": "python2"
  },
  "language_info": {
   "codemirror_mode": {
    "name": "ipython",
    "version": 2
   },
   "file_extension": ".py",
   "mimetype": "text/x-python",
   "name": "python",
   "nbconvert_exporter": "python",
   "pygments_lexer": "ipython2",
   "version": "2.7.11"
  }
 },
 "nbformat": 4,
 "nbformat_minor": 0
}

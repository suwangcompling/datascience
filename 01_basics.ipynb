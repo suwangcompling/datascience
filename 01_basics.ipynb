{
 "cells": [
  {
   "cell_type": "markdown",
   "metadata": {
    "collapsed": true
   },
   "source": [
    "# REAL BASICS"
   ]
  },
  {
   "cell_type": "code",
   "execution_count": 8,
   "metadata": {
    "collapsed": false
   },
   "outputs": [
    {
     "data": {
      "text/plain": [
       "['carmpg.txt']"
      ]
     },
     "execution_count": 8,
     "metadata": {},
     "output_type": "execute_result"
    }
   ],
   "source": [
    "# import facilities\n",
    "import pandas as pd\n",
    "import numpy as np\n",
    "import os\n",
    "os.chdir('/Users/su/Desktop/IMPLEMENTATION_CAMP/CODE/BASIC_TOPICS/DATA_SCIENCE/DATA/')\n",
    "os.listdir(os.getcwd())"
   ]
  },
  {
   "cell_type": "code",
   "execution_count": 10,
   "metadata": {
    "collapsed": false
   },
   "outputs": [
    {
     "data": {
      "text/html": [
       "<div>\n",
       "<table border=\"1\" class=\"dataframe\">\n",
       "  <thead>\n",
       "    <tr style=\"text-align: right;\">\n",
       "      <th></th>\n",
       "      <th>mpg</th>\n",
       "      <th>cylinders</th>\n",
       "      <th>displacement</th>\n",
       "      <th>horsepower</th>\n",
       "      <th>weight</th>\n",
       "      <th>acceleration</th>\n",
       "      <th>model_year</th>\n",
       "      <th>origin</th>\n",
       "      <th>car_name</th>\n",
       "    </tr>\n",
       "  </thead>\n",
       "  <tbody>\n",
       "    <tr>\n",
       "      <th>0</th>\n",
       "      <td>18.0</td>\n",
       "      <td>8</td>\n",
       "      <td>307.0</td>\n",
       "      <td>130.0</td>\n",
       "      <td>3504.0</td>\n",
       "      <td>12.0</td>\n",
       "      <td>70</td>\n",
       "      <td>1</td>\n",
       "      <td>chevrolet chevelle malibu</td>\n",
       "    </tr>\n",
       "    <tr>\n",
       "      <th>1</th>\n",
       "      <td>15.0</td>\n",
       "      <td>8</td>\n",
       "      <td>350.0</td>\n",
       "      <td>165.0</td>\n",
       "      <td>3693.0</td>\n",
       "      <td>11.5</td>\n",
       "      <td>70</td>\n",
       "      <td>1</td>\n",
       "      <td>buick skylark 320</td>\n",
       "    </tr>\n",
       "    <tr>\n",
       "      <th>2</th>\n",
       "      <td>18.0</td>\n",
       "      <td>8</td>\n",
       "      <td>318.0</td>\n",
       "      <td>150.0</td>\n",
       "      <td>3436.0</td>\n",
       "      <td>11.0</td>\n",
       "      <td>70</td>\n",
       "      <td>1</td>\n",
       "      <td>plymouth satellite</td>\n",
       "    </tr>\n",
       "    <tr>\n",
       "      <th>3</th>\n",
       "      <td>16.0</td>\n",
       "      <td>8</td>\n",
       "      <td>304.0</td>\n",
       "      <td>150.0</td>\n",
       "      <td>3433.0</td>\n",
       "      <td>12.0</td>\n",
       "      <td>70</td>\n",
       "      <td>1</td>\n",
       "      <td>amc rebel sst</td>\n",
       "    </tr>\n",
       "    <tr>\n",
       "      <th>4</th>\n",
       "      <td>17.0</td>\n",
       "      <td>8</td>\n",
       "      <td>302.0</td>\n",
       "      <td>140.0</td>\n",
       "      <td>3449.0</td>\n",
       "      <td>10.5</td>\n",
       "      <td>70</td>\n",
       "      <td>1</td>\n",
       "      <td>ford torino</td>\n",
       "    </tr>\n",
       "  </tbody>\n",
       "</table>\n",
       "</div>"
      ],
      "text/plain": [
       "    mpg  cylinders  displacement  horsepower  weight  acceleration  \\\n",
       "0  18.0          8         307.0       130.0  3504.0          12.0   \n",
       "1  15.0          8         350.0       165.0  3693.0          11.5   \n",
       "2  18.0          8         318.0       150.0  3436.0          11.0   \n",
       "3  16.0          8         304.0       150.0  3433.0          12.0   \n",
       "4  17.0          8         302.0       140.0  3449.0          10.5   \n",
       "\n",
       "   model_year  origin                   car_name  \n",
       "0          70       1  chevrolet chevelle malibu  \n",
       "1          70       1          buick skylark 320  \n",
       "2          70       1         plymouth satellite  \n",
       "3          70       1              amc rebel sst  \n",
       "4          70       1                ford torino  "
      ]
     },
     "execution_count": 10,
     "metadata": {},
     "output_type": "execute_result"
    }
   ],
   "source": [
    "# load data\n",
    "names = np.array(['mpg', 'cylinders', 'displacement', 'horsepower', 'weight', 'acceleration', \\\n",
    "                  'model_year', 'origin', 'car_name'])\n",
    "cars = pd.read_table('carmpg.txt', sep=r'\\s+', names=names)\n",
    "cars.head()"
   ]
  },
  {
   "cell_type": "code",
   "execution_count": 13,
   "metadata": {
    "collapsed": false
   },
   "outputs": [
    {
     "data": {
      "text/plain": [
       "[(4, 204), (8, 103), (6, 84), (3, 4), (5, 3)]"
      ]
     },
     "execution_count": 13,
     "metadata": {},
     "output_type": "execute_result"
    }
   ],
   "source": [
    "# COUNTER\n",
    "from collections import Counter\n",
    "c = Counter(cars['cylinders'])\n",
    "c.most_common() # descending."
   ]
  },
  {
   "cell_type": "code",
   "execution_count": 15,
   "metadata": {
    "collapsed": false
   },
   "outputs": [
    {
     "data": {
      "text/plain": [
       "[(4, 204), (8, 103), (6, 84), (3, 4), (5, 3)]"
      ]
     },
     "execution_count": 15,
     "metadata": {},
     "output_type": "execute_result"
    }
   ],
   "source": [
    "# SORT\n",
    "sorted(c.items(), key=lambda (cyl, count): count, reverse=True) # sort by second arg (i.e. count)."
   ]
  },
  {
   "cell_type": "code",
   "execution_count": 17,
   "metadata": {
    "collapsed": false
   },
   "outputs": [
    {
     "name": "stdout",
     "output_type": "stream",
     "text": [
      "0\n",
      "1\n",
      "4\n",
      "9\n",
      "16\n"
     ]
    }
   ],
   "source": [
    "# GENERATOR/ITERATOR\n",
    "def lazy(n):\n",
    "    i = 0\n",
    "    while i < n:\n",
    "        yield i\n",
    "        i += 1\n",
    "for i in lazy(5):\n",
    "    print i**2"
   ]
  },
  {
   "cell_type": "code",
   "execution_count": 36,
   "metadata": {
    "collapsed": false
   },
   "outputs": [
    {
     "name": "stdout",
     "output_type": "stream",
     "text": [
      "randomly chosen from [0,10]: 9\n",
      "randomly chosen from [3,6]: 5\n",
      "shuffled list of range(10): [0, 5, 3, 4, 9, 7, 2, 6, 8, 1]\n",
      "randomly chosen from list ['a','b','c','d']: c\n",
      "randomly (w/o repl) sampled 6 numbers from [0,60]: [10, 1, 56, 49, 48, 29]\n",
      "randomly (w/ repl) sampled 6 numbers from [0,60]: [59, 23, 59, 49, 14, 59]\n"
     ]
    }
   ],
   "source": [
    "# RANDOM\n",
    "import random\n",
    "random.random() # generate a number uniformly from 0 to 1.\n",
    "print 'randomly chosen from [0,10]: %s' % random.randrange(10) # randomly choosing from 0 to 10.\n",
    "print 'randomly chosen from [3,6]: %s' % random.randrange(3, 6) # ... from 3 to 6.\n",
    "upToTen = range(10)\n",
    "random.shuffle(upToTen) # randomly shuffle the list\n",
    "print 'shuffled list of range(10): %s' % upToTen\n",
    "print 'randomly chosen from list [\\'a\\',\\'b\\',\\'c\\',\\'d\\']: %s' % random.choice(['a','b','c','d']) # randomly choosing from list\n",
    "print 'randomly (w/o repl) sampled 6 numbers from [0,60]: %s' % random.sample(range(60), 6)\n",
    "print 'randomly (w/ repl) sampled 6 numbers from [0,60]: %s' % [random.choice(range(60)) for _ in range(6)]"
   ]
  },
  {
   "cell_type": "code",
   "execution_count": 52,
   "metadata": {
    "collapsed": false
   },
   "outputs": [
    {
     "name": "stdout",
     "output_type": "stream",
     "text": [
      "'cat' doesn't start with a: True\n",
      "'cat' has an 'a' in it: True\n",
      "re.split(arg1,arg2) splits arg2 on separators in arg1: ['c', 'r', 's']\n",
      "re.sub(arg1,arg2,arg3) replaces arg1 with arg2 in arg3: R-D-\n"
     ]
    }
   ],
   "source": [
    "# REGEX\n",
    "import re\n",
    "print '\\'cat\\' doesn\\'t start with a: %s' % (not re.match('a','cat'))\n",
    "print '\\'cat\\' has an \\'a\\' in it:',  \n",
    "if re.search('a','cat'): print True \n",
    "print 're.split(arg1,arg2) splits arg2 on separators in arg1: %s' % re.split('[ab]','carbs')\n",
    "print 're.sub(arg1,arg2,arg3) replaces arg1 with arg2 in arg3: %s' % re.sub('[0-9]','-','R2D2')"
   ]
  },
  {
   "cell_type": "code",
   "execution_count": 71,
   "metadata": {
    "collapsed": false
   },
   "outputs": [
    {
     "name": "stdout",
     "output_type": "stream",
     "text": [
      "Set([1, 2, 3, 4, 5])\n",
      "add 4: Set([1, 2, 3, 4, 5])\n",
      "remove 3: Set([1, 2, 4, 5])\n",
      "contain 3? False\n"
     ]
    }
   ],
   "source": [
    "# SET\n",
    "from sets import Set\n",
    "s = Set([1,2,3,4,5])\n",
    "print s\n",
    "s.add(4)\n",
    "print 'add 4: %s' % s\n",
    "s.remove(3)\n",
    "print 'remove 3: %s' % s\n",
    "print 'contain 3? %s' % (3 in s)"
   ]
  },
  {
   "cell_type": "code",
   "execution_count": 72,
   "metadata": {
    "collapsed": false
   },
   "outputs": [
    {
     "data": {
      "text/plain": [
       "[4, 10]"
      ]
     },
     "execution_count": 72,
     "metadata": {},
     "output_type": "execute_result"
    }
   ],
   "source": [
    "# MAP\n",
    "map(lambda x,y: x*y, [1,2], [4,5]) # 1*4, 2*5."
   ]
  },
  {
   "cell_type": "code",
   "execution_count": 75,
   "metadata": {
    "collapsed": false
   },
   "outputs": [
    {
     "data": {
      "text/plain": [
       "[0, 2, 4, 6, 8]"
      ]
     },
     "execution_count": 75,
     "metadata": {},
     "output_type": "execute_result"
    }
   ],
   "source": [
    "# FILTER\n",
    "l = range(10)\n",
    "filter(lambda x: x%2==0, l) # filter by even-qualifier (only let even number through)."
   ]
  },
  {
   "cell_type": "code",
   "execution_count": 79,
   "metadata": {
    "collapsed": false
   },
   "outputs": [
    {
     "data": {
      "text/plain": [
       "45"
      ]
     },
     "execution_count": 79,
     "metadata": {},
     "output_type": "execute_result"
    }
   ],
   "source": [
    "# REDUCE\n",
    "l = range(10)\n",
    "reduce(lambda x,y: x+y, l) # operating on elements one by one using function."
   ]
  },
  {
   "cell_type": "code",
   "execution_count": 78,
   "metadata": {
    "collapsed": false
   },
   "outputs": [
    {
     "data": {
      "text/plain": [
       "45"
      ]
     },
     "execution_count": 78,
     "metadata": {},
     "output_type": "execute_result"
    }
   ],
   "source": [
    "# PARTIAL\n",
    "from functools import partial\n",
    "l = range(10)\n",
    "f = partial(reduce, lambda x,y: x+y)\n",
    "    # partial(func, arg): use func which is fed with arg\n",
    "f(l)"
   ]
  },
  {
   "cell_type": "code",
   "execution_count": 85,
   "metadata": {
    "collapsed": false
   },
   "outputs": [
    {
     "name": "stdout",
     "output_type": "stream",
     "text": [
      "the 1th letter is a\n",
      "the 2th letter is b\n",
      "the 3th letter is c\n",
      "the 4th letter is d\n"
     ]
    }
   ],
   "source": [
    "# ENUMERATE\n",
    "l = ['a','b','c','d']\n",
    "for i, letter in enumerate(l):\n",
    "    print 'the %dth letter is %s' % (i+1, letter)"
   ]
  },
  {
   "cell_type": "code",
   "execution_count": 90,
   "metadata": {
    "collapsed": false
   },
   "outputs": [
    {
     "name": "stdout",
     "output_type": "stream",
     "text": [
      "zipping 2 lists: [(1, 'a'), (2, 'b'), (3, 'c'), (4, 'd')]\n",
      "zipping 3 lists: [(1, 'a', 'yi1'), (2, 'b', 'er4'), (3, 'c', 'san1'), (4, 'd', 'si4')]\n",
      "unpacking zipped result: (1, 2, 3, 4) ('a', 'b', 'c', 'd') ('yi1', 'er4', 'san1', 'si4')\n"
     ]
    }
   ],
   "source": [
    "# ZIP\n",
    "l1 = [1,2,3,4]\n",
    "l2 = ['a','b','c','d']\n",
    "l3 = ['yi1','er4','san1','si4']\n",
    "print 'zipping 2 lists: %s' % zip(l1,l2)\n",
    "print 'zipping 3 lists: %s' % zip(l1,l2,l3)\n",
    "integer, letter, chineseNum = zip(*zip(l1,l2,l3))\n",
    "print 'unpacking zipped result: %s %s %s' % (integer, letter, chineseNum)"
   ]
  },
  {
   "cell_type": "code",
   "execution_count": 94,
   "metadata": {
    "collapsed": false
   },
   "outputs": [
    {
     "name": "stdout",
     "output_type": "stream",
     "text": [
      "args:  (1, 2, 3, 4)\n",
      "keyword args:  {'key2': 'b', 'key1': 'a'}\n"
     ]
    }
   ],
   "source": [
    "# *ARGS, **KWARGS\n",
    "def foo(*args, **kwargs):\n",
    "    print 'args: ', args\n",
    "    print 'keyword args: ', kwargs\n",
    "foo(1,2,3,4,key1='a',key2='b')"
   ]
  },
  {
   "cell_type": "code",
   "execution_count": null,
   "metadata": {
    "collapsed": true
   },
   "outputs": [],
   "source": [
    ""
   ]
  },
  {
   "cell_type": "code",
   "execution_count": null,
   "metadata": {
    "collapsed": true
   },
   "outputs": [],
   "source": [
    ""
   ]
  },
  {
   "cell_type": "code",
   "execution_count": null,
   "metadata": {
    "collapsed": true
   },
   "outputs": [],
   "source": [
    ""
   ]
  },
  {
   "cell_type": "code",
   "execution_count": null,
   "metadata": {
    "collapsed": true
   },
   "outputs": [],
   "source": [
    ""
   ]
  },
  {
   "cell_type": "code",
   "execution_count": null,
   "metadata": {
    "collapsed": true
   },
   "outputs": [],
   "source": [
    ""
   ]
  },
  {
   "cell_type": "code",
   "execution_count": null,
   "metadata": {
    "collapsed": true
   },
   "outputs": [],
   "source": [
    ""
   ]
  },
  {
   "cell_type": "code",
   "execution_count": null,
   "metadata": {
    "collapsed": true
   },
   "outputs": [],
   "source": [
    ""
   ]
  },
  {
   "cell_type": "code",
   "execution_count": null,
   "metadata": {
    "collapsed": true
   },
   "outputs": [],
   "source": [
    ""
   ]
  },
  {
   "cell_type": "code",
   "execution_count": null,
   "metadata": {
    "collapsed": true
   },
   "outputs": [],
   "source": [
    ""
   ]
  },
  {
   "cell_type": "code",
   "execution_count": null,
   "metadata": {
    "collapsed": true
   },
   "outputs": [],
   "source": [
    ""
   ]
  },
  {
   "cell_type": "code",
   "execution_count": null,
   "metadata": {
    "collapsed": true
   },
   "outputs": [],
   "source": [
    ""
   ]
  },
  {
   "cell_type": "code",
   "execution_count": null,
   "metadata": {
    "collapsed": true
   },
   "outputs": [],
   "source": [
    ""
   ]
  },
  {
   "cell_type": "code",
   "execution_count": null,
   "metadata": {
    "collapsed": true
   },
   "outputs": [],
   "source": [
    ""
   ]
  },
  {
   "cell_type": "code",
   "execution_count": null,
   "metadata": {
    "collapsed": true
   },
   "outputs": [],
   "source": [
    ""
   ]
  },
  {
   "cell_type": "code",
   "execution_count": null,
   "metadata": {
    "collapsed": true
   },
   "outputs": [],
   "source": [
    ""
   ]
  }
 ],
 "metadata": {
  "kernelspec": {
   "display_name": "Python 2",
   "language": "python",
   "name": "python2"
  },
  "language_info": {
   "codemirror_mode": {
    "name": "ipython",
    "version": 2.0
   },
   "file_extension": ".py",
   "mimetype": "text/x-python",
   "name": "python",
   "nbconvert_exporter": "python",
   "pygments_lexer": "ipython2",
   "version": "2.7.11"
  }
 },
 "nbformat": 4,
 "nbformat_minor": 0
}
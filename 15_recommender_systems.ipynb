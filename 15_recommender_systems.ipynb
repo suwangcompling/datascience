{
 "cells": [
  {
   "cell_type": "markdown",
   "metadata": {},
   "source": [
    "# Most-Popular Recommender\n",
    "\n",
    "**Idea: Recommending what's most popular and also not already in \"interested inventory\" of user**\n",
    "\n",
    "**Caveat: \"most-popular\" doesn't take into consideration user's personal interests**"
   ]
  },
  {
   "cell_type": "code",
   "execution_count": 2,
   "metadata": {
    "collapsed": true
   },
   "outputs": [],
   "source": [
    "from collections import Counter\n",
    "from operator import itemgetter"
   ]
  },
  {
   "cell_type": "code",
   "execution_count": 10,
   "metadata": {
    "collapsed": true
   },
   "outputs": [],
   "source": [
    "usersInterests = [\n",
    "    [\"Hadoop\", \"Big Data\", \"HBase\", \"Java\", \"Spark\", \"Storm\", \"Cassandra\"],\n",
    "    [\"NoSQL\", \"MongoDB\", \"Cassandra\", \"HBase\", \"Postgres\"],\n",
    "    [\"Python\", \"scikit-learn\", \"scipy\", \"numpy\", \"statsmodels\", \"pandas\"],\n",
    "    [\"R\", \"Python\", \"statistics\", \"regression\", \"probability\"],\n",
    "    [\"machine learning\", \"regression\", \"decision trees\", \"libsvm\"],\n",
    "    [\"Python\", \"R\", \"Java\", \"C++\", \"Haskell\", \"programming languages\"],\n",
    "    [\"statistics\", \"probability\", \"mathematics\", \"theory\"],\n",
    "    [\"machine learning\", \"scikit-learn\", \"Mahout\", \"neural networks\"],\n",
    "    [\"neural networks\", \"deep learning\", \"Big Data\", \"artificial intelligence\"],\n",
    "    [\"Hadoop\", \"Java\", \"MapReduce\", \"Big Data\"],\n",
    "    [\"statistics\", \"R\", \"statsmodels\"],\n",
    "    [\"C++\", \"deep learning\", \"artificial intelligence\", \"probability\"],\n",
    "    [\"pandas\", \"R\", \"Python\"],\n",
    "    [\"databases\", \"HBase\", \"Postgres\", \"MySQL\", \"MongoDB\"],\n",
    "    [\"libsvm\", \"regression\", \"support vector machines\"]\n",
    "]"
   ]
  },
  {
   "cell_type": "code",
   "execution_count": 29,
   "metadata": {
    "collapsed": false
   },
   "outputs": [
    {
     "name": "stdout",
     "output_type": "stream",
     "text": [
      "Counter({'Python': 4, 'R': 4, 'Java': 3, 'regression': 3, 'statistics': 3, 'probability': 3, 'HBase': 3, 'Big Data': 3, 'neural networks': 2, 'Hadoop': 2, 'deep learning': 2, 'pandas': 2, 'artificial intelligence': 2, 'libsvm': 2, 'C++': 2, 'Postgres': 2, 'MongoDB': 2, 'scikit-learn': 2, 'machine learning': 2, 'statsmodels': 2, 'Cassandra': 2, 'NoSQL': 1, 'Mahout': 1, 'Storm': 1, 'MySQL': 1, 'programming languages': 1, 'Haskell': 1, 'mathematics': 1, 'Spark': 1, 'numpy': 1, 'theory': 1, 'decision trees': 1, 'MapReduce': 1, 'scipy': 1, 'databases': 1, 'support vector machines': 1})\n"
     ]
    }
   ],
   "source": [
    "# MOST-POPULAR RANKING: SIMPLE COUNTER\n",
    "popularInterests = Counter(interest for userInterests in usersInterests for interest in userInterests)\n",
    "    #                       ^\n",
    "    #                       |\n",
    "    #          the list compr. flattens the list of lists.\n",
    "print popularInterests # Counter returns a descending dict by count."
   ]
  },
  {
   "cell_type": "code",
   "execution_count": 30,
   "metadata": {
    "collapsed": false
   },
   "outputs": [
    {
     "name": "stdout",
     "output_type": "stream",
     "text": [
      "[('Python', 4), ('R', 4), ('Java', 3), ('regression', 3), ('statistics', 3), ('probability', 3), ('HBase', 3), ('Big Data', 3), ('neural networks', 2), ('Hadoop', 2), ('deep learning', 2), ('pandas', 2), ('artificial intelligence', 2), ('libsvm', 2), ('C++', 2), ('Postgres', 2), ('MongoDB', 2), ('scikit-learn', 2), ('machine learning', 2), ('statsmodels', 2), ('Cassandra', 2), ('NoSQL', 1), ('Mahout', 1), ('Storm', 1), ('MySQL', 1), ('programming languages', 1), ('Haskell', 1), ('mathematics', 1), ('Spark', 1), ('numpy', 1), ('theory', 1), ('decision trees', 1), ('MapReduce', 1), ('scipy', 1), ('databases', 1), ('support vector machines', 1)]\n"
     ]
    }
   ],
   "source": [
    "popularInterests = sorted(popularInterests.items(), key=itemgetter(1), reverse=True)\n",
    "print popularInterests # turn Counter dict into a list (also descending) for the convenience of search."
   ]
  },
  {
   "cell_type": "code",
   "execution_count": 31,
   "metadata": {
    "collapsed": false
   },
   "outputs": [
    {
     "data": {
      "text/plain": [
       "[('Python', 4),\n",
       " ('R', 4),\n",
       " ('regression', 3),\n",
       " ('statistics', 3),\n",
       " ('probability', 3)]"
      ]
     },
     "execution_count": 31,
     "metadata": {},
     "output_type": "execute_result"
    }
   ],
   "source": [
    "def most_popular_new_interests(userInterests, maxResults=5):\n",
    "    # return top maxResults most popular interests the user is not already interested in.\n",
    "    suggestions = [(interest, freq) for interest,freq in popularInterests\n",
    "                   if interest not in userInterests]\n",
    "    return suggestions[:maxResults]\n",
    "user0Interests = usersInterests[0]\n",
    "most_popular_new_interests(user0Interests)"
   ]
  },
  {
   "cell_type": "markdown",
   "metadata": {},
   "source": [
    "# User-Based Collaborative Filtering\n",
    "\n",
    "**Idea: Find similar users to a user and recommend things those guys are interested in**\n",
    "\n",
    "**Caveat: Doesn't work well when # of items gets large **"
   ]
  },
  {
   "cell_type": "code",
   "execution_count": 99,
   "metadata": {
    "collapsed": true
   },
   "outputs": [],
   "source": [
    "import numpy as np\n",
    "import theano.tensor as T\n",
    "from theano import function\n",
    "from collections import defaultdict"
   ]
  },
  {
   "cell_type": "code",
   "execution_count": 59,
   "metadata": {
    "collapsed": false
   },
   "outputs": [],
   "source": [
    "# SIMILARITY MEASURE: COSINE\n",
    "v = T.vector('v')\n",
    "w = T.vector('w')\n",
    "vwCosine = T.dot(v,w) / T.sqrt(T.dot(v,v)*T.dot(w,w))\n",
    "cosine_similarity = function([v,w], vwCosine)"
   ]
  },
  {
   "cell_type": "code",
   "execution_count": 44,
   "metadata": {
    "collapsed": false
   },
   "outputs": [
    {
     "name": "stdout",
     "output_type": "stream",
     "text": [
      "['Big Data', 'C++', 'Cassandra', 'HBase', 'Hadoop', 'Haskell', 'Java', 'Mahout', 'MapReduce', 'MongoDB', 'MySQL', 'NoSQL', 'Postgres', 'Python', 'R', 'Spark', 'Storm', 'artificial intelligence', 'databases', 'decision trees', 'deep learning', 'libsvm', 'machine learning', 'mathematics', 'neural networks', 'numpy', 'pandas', 'probability', 'programming languages', 'regression', 'scikit-learn', 'scipy', 'statistics', 'statsmodels', 'support vector machines', 'theory']\n"
     ]
    }
   ],
   "source": [
    "uniqueInterests = sorted(list({interest for userInterests in usersInterests for interest in userInterests}))\n",
    "    # a list of unique interests sorted alphabetically.\n",
    "    # {..} is set compr.\n",
    "print uniqueInterests"
   ]
  },
  {
   "cell_type": "code",
   "execution_count": 47,
   "metadata": {
    "collapsed": true
   },
   "outputs": [],
   "source": [
    "def make_user_interest_vector(userInterests):\n",
    "    # return a vector (len=uniqueInterest vector) where\n",
    "    #  a cell = 1 if the user is interested in the corresponding, 0 otherwise.\n",
    "    return [1 if interest in userInterests else 0 for interest in uniqueInterests]"
   ]
  },
  {
   "cell_type": "code",
   "execution_count": 51,
   "metadata": {
    "collapsed": false
   },
   "outputs": [
    {
     "name": "stdout",
     "output_type": "stream",
     "text": [
      "[1, 0, 1, 1, 1, 0, 1, 0, 0, 0, 0, 0, 0, 0, 0, 1, 1, 0, 0, 0, 0, 0, 0, 0, 0, 0, 0, 0, 0, 0, 0, 0, 0, 0, 0, 0]\n",
      "[0, 0, 1, 1, 0, 0, 0, 0, 0, 1, 0, 1, 1, 0, 0, 0, 0, 0, 0, 0, 0, 0, 0, 0, 0, 0, 0, 0, 0, 0, 0, 0, 0, 0, 0, 0]\n",
      "[0, 0, 0, 0, 0, 0, 0, 0, 0, 0, 0, 0, 0, 1, 0, 0, 0, 0, 0, 0, 0, 0, 0, 0, 0, 1, 1, 0, 0, 0, 1, 1, 0, 1, 0, 0]\n",
      "[0, 0, 0, 0, 0, 0, 0, 0, 0, 0, 0, 0, 0, 1, 1, 0, 0, 0, 0, 0, 0, 0, 0, 0, 0, 0, 0, 1, 0, 1, 0, 0, 1, 0, 0, 0]\n",
      "[0, 0, 0, 0, 0, 0, 0, 0, 0, 0, 0, 0, 0, 0, 0, 0, 0, 0, 0, 1, 0, 1, 1, 0, 0, 0, 0, 0, 0, 1, 0, 0, 0, 0, 0, 0]\n",
      "[0, 1, 0, 0, 0, 1, 1, 0, 0, 0, 0, 0, 0, 1, 1, 0, 0, 0, 0, 0, 0, 0, 0, 0, 0, 0, 0, 0, 1, 0, 0, 0, 0, 0, 0, 0]\n",
      "[0, 0, 0, 0, 0, 0, 0, 0, 0, 0, 0, 0, 0, 0, 0, 0, 0, 0, 0, 0, 0, 0, 0, 1, 0, 0, 0, 1, 0, 0, 0, 0, 1, 0, 0, 1]\n",
      "[0, 0, 0, 0, 0, 0, 0, 1, 0, 0, 0, 0, 0, 0, 0, 0, 0, 0, 0, 0, 0, 0, 1, 0, 1, 0, 0, 0, 0, 0, 1, 0, 0, 0, 0, 0]\n",
      "[1, 0, 0, 0, 0, 0, 0, 0, 0, 0, 0, 0, 0, 0, 0, 0, 0, 1, 0, 0, 1, 0, 0, 0, 1, 0, 0, 0, 0, 0, 0, 0, 0, 0, 0, 0]\n",
      "[1, 0, 0, 0, 1, 0, 1, 0, 1, 0, 0, 0, 0, 0, 0, 0, 0, 0, 0, 0, 0, 0, 0, 0, 0, 0, 0, 0, 0, 0, 0, 0, 0, 0, 0, 0]\n",
      "[0, 0, 0, 0, 0, 0, 0, 0, 0, 0, 0, 0, 0, 0, 1, 0, 0, 0, 0, 0, 0, 0, 0, 0, 0, 0, 0, 0, 0, 0, 0, 0, 1, 1, 0, 0]\n",
      "[0, 1, 0, 0, 0, 0, 0, 0, 0, 0, 0, 0, 0, 0, 0, 0, 0, 1, 0, 0, 1, 0, 0, 0, 0, 0, 0, 1, 0, 0, 0, 0, 0, 0, 0, 0]\n",
      "[0, 0, 0, 0, 0, 0, 0, 0, 0, 0, 0, 0, 0, 1, 1, 0, 0, 0, 0, 0, 0, 0, 0, 0, 0, 0, 1, 0, 0, 0, 0, 0, 0, 0, 0, 0]\n",
      "[0, 0, 0, 1, 0, 0, 0, 0, 0, 1, 1, 0, 1, 0, 0, 0, 0, 0, 1, 0, 0, 0, 0, 0, 0, 0, 0, 0, 0, 0, 0, 0, 0, 0, 0, 0]\n",
      "[0, 0, 0, 0, 0, 0, 0, 0, 0, 0, 0, 0, 0, 0, 0, 0, 0, 0, 0, 0, 0, 1, 0, 0, 0, 0, 0, 0, 0, 1, 0, 0, 0, 0, 1, 0]\n"
     ]
    }
   ],
   "source": [
    "userInterestMatrix = map(make_user_interest_vector, usersInterests)\n",
    "for userInterests in userInterestMatrix:\n",
    "    print userInterests"
   ]
  },
  {
   "cell_type": "markdown",
   "metadata": {},
   "source": [
    "================================================================================================"
   ]
  },
  {
   "cell_type": "markdown",
   "metadata": {},
   "source": [
    "### A. Naive Pairwise Cosine (for small data)"
   ]
  },
  {
   "cell_type": "code",
   "execution_count": 91,
   "metadata": {
    "collapsed": false
   },
   "outputs": [
    {
     "name": "stdout",
     "output_type": "stream",
     "text": [
      "[1.0, 0.3380617018914066, 0.0, 0.0, 0.0, 0.1543033499620919, 0.0, 0.0, 0.1889822365046136, 0.5669467095138409, 0.0, 0.0, 0.0, 0.1690308509457033, 0.0]\n",
      "[0.3380617018914066, 1.0, 0.0, 0.0, 0.0, 0.0, 0.0, 0.0, 0.0, 0.0, 0.0, 0.0, 0.0, 0.6, 0.0]\n",
      "[0.0, 0.0, 1.0, 0.18257418583505536, 0.0, 0.16666666666666666, 0.0, 0.20412414523193154, 0.0, 0.0, 0.23570226039551587, 0.0, 0.47140452079103173, 0.0, 0.0]\n",
      "[0.0, 0.0, 0.18257418583505536, 1.0, 0.22360679774997896, 0.3651483716701107, 0.4472135954999579, 0.0, 0.0, 0.0, 0.5163977794943222, 0.22360679774997896, 0.5163977794943222, 0.0, 0.2581988897471611]\n",
      "[0.0, 0.0, 0.0, 0.22360679774997896, 1.0, 0.0, 0.0, 0.25, 0.0, 0.0, 0.0, 0.0, 0.0, 0.0, 0.5773502691896258]\n",
      "[0.1543033499620919, 0.0, 0.16666666666666666, 0.3651483716701107, 0.0, 1.0, 0.0, 0.0, 0.0, 0.20412414523193154, 0.23570226039551587, 0.20412414523193154, 0.47140452079103173, 0.0, 0.0]\n",
      "[0.0, 0.0, 0.0, 0.4472135954999579, 0.0, 0.0, 1.0, 0.0, 0.0, 0.0, 0.2886751345948129, 0.25, 0.0, 0.0, 0.0]\n",
      "[0.0, 0.0, 0.20412414523193154, 0.0, 0.25, 0.0, 0.0, 1.0, 0.25, 0.0, 0.0, 0.0, 0.0, 0.0, 0.0]\n",
      "[0.1889822365046136, 0.0, 0.0, 0.0, 0.0, 0.0, 0.0, 0.25, 1.0, 0.25, 0.0, 0.5, 0.0, 0.0, 0.0]\n",
      "[0.5669467095138409, 0.0, 0.0, 0.0, 0.0, 0.20412414523193154, 0.0, 0.0, 0.25, 1.0, 0.0, 0.0, 0.0, 0.0, 0.0]\n",
      "[0.0, 0.0, 0.23570226039551587, 0.5163977794943222, 0.0, 0.23570226039551587, 0.2886751345948129, 0.0, 0.0, 0.0, 1.0, 0.0, 0.3333333333333333, 0.0, 0.0]\n",
      "[0.0, 0.0, 0.0, 0.22360679774997896, 0.0, 0.20412414523193154, 0.25, 0.0, 0.5, 0.0, 0.0, 1.0, 0.0, 0.0, 0.0]\n",
      "[0.0, 0.0, 0.47140452079103173, 0.5163977794943222, 0.0, 0.47140452079103173, 0.0, 0.0, 0.0, 0.0, 0.3333333333333333, 0.0, 1.0, 0.0, 0.0]\n",
      "[0.1690308509457033, 0.6, 0.0, 0.0, 0.0, 0.0, 0.0, 0.0, 0.0, 0.0, 0.0, 0.0, 0.0, 1.0, 0.0]\n",
      "[0.0, 0.0, 0.0, 0.2581988897471611, 0.5773502691896258, 0.0, 0.0, 0.0, 0.0, 0.0, 0.0, 0.0, 0.0, 0.0, 1.0]\n",
      "CPU times: user 11.1 ms, sys: 2.57 ms, total: 13.7 ms\n",
      "Wall time: 11.4 ms\n"
     ]
    }
   ],
   "source": [
    "%%time\n",
    "userSimilarities = [[cosine_similarity(interestVector_i, interestVector_j).item() \n",
    "                     for interestVector_j in userInterestMatrix] \n",
    "                    for interestVector_i in userInterestMatrix]\n",
    "    # .item(): cosine_similarity produces array(val), calling to get val.\n",
    "for userSimilarityVector in userSimilarities:\n",
    "    print userSimilarityVector"
   ]
  },
  {
   "cell_type": "markdown",
   "metadata": {},
   "source": [
    "### B. Efficient Cosine Similarity Matrix Computation"
   ]
  },
  {
   "cell_type": "code",
   "execution_count": 92,
   "metadata": {
    "collapsed": false
   },
   "outputs": [],
   "source": [
    "userInterestMatrix = np.asarray(userInterestMatrix)\n",
    "def cosine(interestMatrix):\n",
    "    interestMatrix_norm = interestMatrix / np.apply_along_axis(lambda r: np.sqrt(np.dot(r,r)), \n",
    "                                                               1, interestMatrix)[:,np.newaxis]\n",
    "        # each r is a userInterestVector.\n",
    "        # procedure: normalize each row => divide each row by corresponding row-norm.\n",
    "    return np.dot(interestMatrix_norm, interestMatrix_norm.T)"
   ]
  },
  {
   "cell_type": "code",
   "execution_count": 94,
   "metadata": {
    "collapsed": false
   },
   "outputs": [
    {
     "name": "stdout",
     "output_type": "stream",
     "text": [
      "[[ 1.          0.3380617   0.          0.          0.          0.15430335\n",
      "   0.          0.          0.18898224  0.56694671  0.          0.          0.\n",
      "   0.16903085  0.        ]\n",
      " [ 0.3380617   1.          0.          0.          0.          0.          0.\n",
      "   0.          0.          0.          0.          0.          0.          0.6\n",
      "   0.        ]\n",
      " [ 0.          0.          1.          0.18257419  0.          0.16666667\n",
      "   0.          0.20412415  0.          0.          0.23570226  0.\n",
      "   0.47140452  0.          0.        ]\n",
      " [ 0.          0.          0.18257419  1.          0.2236068   0.36514837\n",
      "   0.4472136   0.          0.          0.          0.51639778  0.2236068\n",
      "   0.51639778  0.          0.25819889]\n",
      " [ 0.          0.          0.          0.2236068   1.          0.          0.\n",
      "   0.25        0.          0.          0.          0.          0.          0.\n",
      "   0.57735027]\n",
      " [ 0.15430335  0.          0.16666667  0.36514837  0.          1.          0.\n",
      "   0.          0.          0.20412415  0.23570226  0.20412415  0.47140452\n",
      "   0.          0.        ]\n",
      " [ 0.          0.          0.          0.4472136   0.          0.          1.\n",
      "   0.          0.          0.          0.28867513  0.25        0.          0.\n",
      "   0.        ]\n",
      " [ 0.          0.          0.20412415  0.          0.25        0.          0.\n",
      "   1.          0.25        0.          0.          0.          0.          0.\n",
      "   0.        ]\n",
      " [ 0.18898224  0.          0.          0.          0.          0.          0.\n",
      "   0.25        1.          0.25        0.          0.5         0.          0.\n",
      "   0.        ]\n",
      " [ 0.56694671  0.          0.          0.          0.          0.20412415\n",
      "   0.          0.          0.25        1.          0.          0.          0.\n",
      "   0.          0.        ]\n",
      " [ 0.          0.          0.23570226  0.51639778  0.          0.23570226\n",
      "   0.28867513  0.          0.          0.          1.          0.\n",
      "   0.33333333  0.          0.        ]\n",
      " [ 0.          0.          0.          0.2236068   0.          0.20412415\n",
      "   0.25        0.          0.5         0.          0.          1.          0.\n",
      "   0.          0.        ]\n",
      " [ 0.          0.          0.47140452  0.51639778  0.          0.47140452\n",
      "   0.          0.          0.          0.          0.33333333  0.          1.\n",
      "   0.          0.        ]\n",
      " [ 0.16903085  0.6         0.          0.          0.          0.          0.\n",
      "   0.          0.          0.          0.          0.          0.          1.\n",
      "   0.        ]\n",
      " [ 0.          0.          0.          0.25819889  0.57735027  0.          0.\n",
      "   0.          0.          0.          0.          0.          0.          0.\n",
      "   1.        ]]\n",
      "CPU times: user 4.43 ms, sys: 1.79 ms, total: 6.22 ms\n",
      "Wall time: 4.92 ms\n"
     ]
    }
   ],
   "source": [
    "%%time\n",
    "userSimilarities = cosine(userInterestMatrix)\n",
    "print userSimilarities"
   ]
  },
  {
   "cell_type": "markdown",
   "metadata": {},
   "source": [
    "================================================================================================"
   ]
  },
  {
   "cell_type": "code",
   "execution_count": 97,
   "metadata": {
    "collapsed": true
   },
   "outputs": [],
   "source": [
    "# FIND K-MOST SIMILAR OTHER USERS\n",
    "def most_similar_users_to(userID):\n",
    "    pairs = [(otherUserID, similarity) for otherUserID,similarity in enumerate(userSimilarities[userID])\n",
    "             if userID!=otherUserID and similarity>0]\n",
    "    return sorted(pairs, key=lambda (_,similarity):similarity, reverse=True)"
   ]
  },
  {
   "cell_type": "code",
   "execution_count": 98,
   "metadata": {
    "collapsed": false
   },
   "outputs": [
    {
     "data": {
      "text/plain": [
       "[(9, 0.56694670951384074),\n",
       " (1, 0.33806170189140661),\n",
       " (8, 0.1889822365046136),\n",
       " (13, 0.1690308509457033),\n",
       " (5, 0.15430334996209191)]"
      ]
     },
     "execution_count": 98,
     "metadata": {},
     "output_type": "execute_result"
    }
   ],
   "source": [
    "most_similar_users_to(0)"
   ]
  },
  {
   "cell_type": "code",
   "execution_count": 100,
   "metadata": {
    "collapsed": true
   },
   "outputs": [],
   "source": [
    "# MAKING RECOMMENDATION\n",
    "#  for each interest, add up the user similarities of the other users interested in it.\n",
    "#  NB: the interest pool is all the interests of users most similar to the current user.\n",
    "def user_based_suggestions(userID, includeCurrentInterests=False):\n",
    "    suggestions = defaultdict(float)\n",
    "    for otherUserID,similarity in most_similar_users_to(userID):\n",
    "        for interest in usersInterests[otherUserID]:\n",
    "            suggestions[interest] += similarity\n",
    "    suggestions = sorted(suggestions.items(), key=lambda (_,weight):weight, reverse=True)\n",
    "    if includeCurrentInterests: return suggestions\n",
    "    return [(suggestion,weight) for suggestion,weight in suggestions \n",
    "            if suggestion not in usersInterests[userID]]"
   ]
  },
  {
   "cell_type": "code",
   "execution_count": 101,
   "metadata": {
    "collapsed": false
   },
   "outputs": [
    {
     "data": {
      "text/plain": [
       "[('MapReduce', 0.56694670951384074),\n",
       " ('MongoDB', 0.50709255283710997),\n",
       " ('Postgres', 0.50709255283710997),\n",
       " ('NoSQL', 0.33806170189140661),\n",
       " ('neural networks', 0.1889822365046136),\n",
       " ('deep learning', 0.1889822365046136),\n",
       " ('artificial intelligence', 0.1889822365046136),\n",
       " ('databases', 0.1690308509457033),\n",
       " ('MySQL', 0.1690308509457033),\n",
       " ('programming languages', 0.15430334996209191),\n",
       " ('Python', 0.15430334996209191),\n",
       " ('Haskell', 0.15430334996209191),\n",
       " ('C++', 0.15430334996209191),\n",
       " ('R', 0.15430334996209191)]"
      ]
     },
     "execution_count": 101,
     "metadata": {},
     "output_type": "execute_result"
    }
   ],
   "source": [
    "user_based_suggestions(0)"
   ]
  },
  {
   "cell_type": "markdown",
   "metadata": {},
   "source": [
    "# Item-Based Collaborative Filtering"
   ]
  },
  {
   "cell_type": "code",
   "execution_count": null,
   "metadata": {
    "collapsed": true
   },
   "outputs": [],
   "source": []
  },
  {
   "cell_type": "code",
   "execution_count": 119,
   "metadata": {
    "collapsed": true
   },
   "outputs": [],
   "source": [
    "# INTEREST-USER MATRIX\n",
    "interestUserMatrix = [[userInterestVector[j] for userInterestVector in userInterestMatrix]\n",
    "                      for j,_ in enumerate(uniqueInterests)] # transposition."
   ]
  },
  {
   "cell_type": "code",
   "execution_count": 125,
   "metadata": {
    "collapsed": false
   },
   "outputs": [
    {
     "data": {
      "text/plain": [
       "array([[ 1.        ,  0.        ,  0.40824829, ...,  0.        ,\n",
       "         0.        ,  0.        ],\n",
       "       [ 0.        ,  1.        ,  0.        , ...,  0.        ,\n",
       "         0.        ,  0.        ],\n",
       "       [ 0.40824829,  0.        ,  1.        , ...,  0.        ,\n",
       "         0.        ,  0.        ],\n",
       "       ..., \n",
       "       [ 0.        ,  0.        ,  0.        , ...,  1.        ,\n",
       "         0.        ,  0.        ],\n",
       "       [ 0.        ,  0.        ,  0.        , ...,  0.        ,\n",
       "         1.        ,  0.        ],\n",
       "       [ 0.        ,  0.        ,  0.        , ...,  0.        ,\n",
       "         0.        ,  1.        ]])"
      ]
     },
     "execution_count": 125,
     "metadata": {},
     "output_type": "execute_result"
    }
   ],
   "source": [
    "interestSimilarities = cosine(interestUserMatrix)\n",
    "interestSimilarities"
   ]
  },
  {
   "cell_type": "code",
   "execution_count": 126,
   "metadata": {
    "collapsed": true
   },
   "outputs": [],
   "source": [
    "# FIND K-MOST SIMILAR OTHER INTERESTS\n",
    "def most_similar_interests_to(interestID):\n",
    "    pairs = [(uniqueInterests[otherInterestID], similarity) \n",
    "              for otherInterestID,similarity in enumerate(interestSimilarities[interestID])\n",
    "             if interestID!=otherInterestID and similarity>0]\n",
    "    return sorted(pairs, key=lambda (_,similarity):similarity, reverse=True)"
   ]
  },
  {
   "cell_type": "code",
   "execution_count": 127,
   "metadata": {
    "collapsed": false
   },
   "outputs": [
    {
     "data": {
      "text/plain": [
       "[('HBase', 0.81649658092772603),\n",
       " ('NoSQL', 0.70710678118654746),\n",
       " ('Spark', 0.70710678118654746),\n",
       " ('Storm', 0.70710678118654746),\n",
       " ('Hadoop', 0.49999999999999989),\n",
       " ('MongoDB', 0.49999999999999989),\n",
       " ('Postgres', 0.49999999999999989),\n",
       " ('Big Data', 0.40824829046386302),\n",
       " ('Java', 0.40824829046386302)]"
      ]
     },
     "execution_count": 127,
     "metadata": {},
     "output_type": "execute_result"
    }
   ],
   "source": [
    "most_similar_interests_to(2)"
   ]
  },
  {
   "cell_type": "code",
   "execution_count": 128,
   "metadata": {
    "collapsed": false
   },
   "outputs": [],
   "source": [
    "# MAKING RECOMMENDATION\n",
    "# scan through all interests of a user, for each interest i, find\n",
    "#  its closest interests, then for each of these close neighbors, \n",
    "#  add it and its weight (its similarity to i) to suggestion dictionary. \n",
    "def item_based_suggestions(userID, includeCurrentInterests=False):\n",
    "    suggestions = defaultdict(float)\n",
    "    userInterestVector = userInterestMatrix[userID]\n",
    "    for interestID,isInterested in enumerate(userInterestVector):\n",
    "        if isInterested: # isInterested checks out cells in userInterestVector, returns 1 if true.\n",
    "            similarInterests = most_similar_interests_to(interestID)\n",
    "            for interest,similarity in similarInterests:\n",
    "                suggestions[interest] += similarity\n",
    "    suggestions = sorted(suggestions.items(), key=lambda (_,similarity):similarity, reverse=True)\n",
    "    if includeCurrentInterests: return suggestions\n",
    "    return [(suggestion, weight) for suggestion,weight in suggestions\n",
    "            if suggestion not in usersInterests[userID]]"
   ]
  },
  {
   "cell_type": "code",
   "execution_count": 129,
   "metadata": {
    "collapsed": false
   },
   "outputs": [
    {
     "data": {
      "text/plain": [
       "[('MapReduce', 1.8618073195657989),\n",
       " ('Postgres', 1.3164965809277258),\n",
       " ('MongoDB', 1.3164965809277258),\n",
       " ('NoSQL', 1.2844570503761732),\n",
       " ('programming languages', 0.57735026918962584),\n",
       " ('MySQL', 0.57735026918962584),\n",
       " ('Haskell', 0.57735026918962584),\n",
       " ('databases', 0.57735026918962584),\n",
       " ('neural networks', 0.40824829046386302),\n",
       " ('deep learning', 0.40824829046386302),\n",
       " ('C++', 0.40824829046386302),\n",
       " ('artificial intelligence', 0.40824829046386302),\n",
       " ('Python', 0.28867513459481292),\n",
       " ('R', 0.28867513459481292)]"
      ]
     },
     "execution_count": 129,
     "metadata": {},
     "output_type": "execute_result"
    }
   ],
   "source": [
    "item_based_suggestions(0)"
   ]
  },
  {
   "cell_type": "code",
   "execution_count": null,
   "metadata": {
    "collapsed": true
   },
   "outputs": [],
   "source": []
  },
  {
   "cell_type": "code",
   "execution_count": null,
   "metadata": {
    "collapsed": true
   },
   "outputs": [],
   "source": []
  },
  {
   "cell_type": "code",
   "execution_count": null,
   "metadata": {
    "collapsed": true
   },
   "outputs": [],
   "source": []
  },
  {
   "cell_type": "code",
   "execution_count": null,
   "metadata": {
    "collapsed": true
   },
   "outputs": [],
   "source": []
  },
  {
   "cell_type": "code",
   "execution_count": null,
   "metadata": {
    "collapsed": true
   },
   "outputs": [],
   "source": []
  },
  {
   "cell_type": "code",
   "execution_count": null,
   "metadata": {
    "collapsed": true
   },
   "outputs": [],
   "source": []
  },
  {
   "cell_type": "code",
   "execution_count": null,
   "metadata": {
    "collapsed": true
   },
   "outputs": [],
   "source": []
  },
  {
   "cell_type": "code",
   "execution_count": null,
   "metadata": {
    "collapsed": true
   },
   "outputs": [],
   "source": []
  },
  {
   "cell_type": "code",
   "execution_count": null,
   "metadata": {
    "collapsed": true
   },
   "outputs": [],
   "source": []
  },
  {
   "cell_type": "code",
   "execution_count": null,
   "metadata": {
    "collapsed": true
   },
   "outputs": [],
   "source": []
  },
  {
   "cell_type": "code",
   "execution_count": null,
   "metadata": {
    "collapsed": true
   },
   "outputs": [],
   "source": []
  },
  {
   "cell_type": "code",
   "execution_count": null,
   "metadata": {
    "collapsed": true
   },
   "outputs": [],
   "source": []
  },
  {
   "cell_type": "code",
   "execution_count": null,
   "metadata": {
    "collapsed": true
   },
   "outputs": [],
   "source": []
  },
  {
   "cell_type": "code",
   "execution_count": null,
   "metadata": {
    "collapsed": true
   },
   "outputs": [],
   "source": []
  },
  {
   "cell_type": "code",
   "execution_count": null,
   "metadata": {
    "collapsed": true
   },
   "outputs": [],
   "source": []
  },
  {
   "cell_type": "code",
   "execution_count": null,
   "metadata": {
    "collapsed": true
   },
   "outputs": [],
   "source": []
  },
  {
   "cell_type": "code",
   "execution_count": null,
   "metadata": {
    "collapsed": true
   },
   "outputs": [],
   "source": []
  },
  {
   "cell_type": "code",
   "execution_count": null,
   "metadata": {
    "collapsed": true
   },
   "outputs": [],
   "source": []
  },
  {
   "cell_type": "code",
   "execution_count": null,
   "metadata": {
    "collapsed": true
   },
   "outputs": [],
   "source": []
  },
  {
   "cell_type": "code",
   "execution_count": null,
   "metadata": {
    "collapsed": true
   },
   "outputs": [],
   "source": []
  },
  {
   "cell_type": "code",
   "execution_count": null,
   "metadata": {
    "collapsed": true
   },
   "outputs": [],
   "source": []
  },
  {
   "cell_type": "code",
   "execution_count": null,
   "metadata": {
    "collapsed": true
   },
   "outputs": [],
   "source": []
  },
  {
   "cell_type": "code",
   "execution_count": null,
   "metadata": {
    "collapsed": true
   },
   "outputs": [],
   "source": []
  },
  {
   "cell_type": "code",
   "execution_count": null,
   "metadata": {
    "collapsed": true
   },
   "outputs": [],
   "source": []
  },
  {
   "cell_type": "code",
   "execution_count": null,
   "metadata": {
    "collapsed": true
   },
   "outputs": [],
   "source": []
  }
 ],
 "metadata": {
  "kernelspec": {
   "display_name": "Python 2",
   "language": "python",
   "name": "python2"
  },
  "language_info": {
   "codemirror_mode": {
    "name": "ipython",
    "version": 2
   },
   "file_extension": ".py",
   "mimetype": "text/x-python",
   "name": "python",
   "nbconvert_exporter": "python",
   "pygments_lexer": "ipython2",
   "version": "2.7.11"
  }
 },
 "nbformat": 4,
 "nbformat_minor": 0
}

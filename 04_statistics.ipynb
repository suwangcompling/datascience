{
 "cells": [
  {
   "cell_type": "code",
   "execution_count": 28,
   "metadata": {
    "collapsed": false
   },
   "outputs": [],
   "source": [
    "import numpy as np\n",
    "import random\n",
    "from collections import Counter\n",
    "from matplotlib import pyplot as plt\n",
    "%matplotlib inline"
   ]
  },
  {
   "cell_type": "code",
   "execution_count": 32,
   "metadata": {
    "collapsed": false
   },
   "outputs": [
    {
     "name": "stdout",
     "output_type": "stream",
     "text": [
      "[129, 118, 74, 53, 86, 72, 121, 59, 81, 95, 138, 85, 56, 118, 100, 52, 138, 147, 125, 137, 60, 114, 136, 108, 81, 33, 76, 99, 138, 145, 82, 132, 53, 124, 91, 21, 113, 71, 127, 106, 20, 84, 132, 51, 62, 133, 44, 93, 51, 145, 124, 78, 30, 61, 86, 141, 34, 91, 111, 91, 125, 90, 145, 98, 96, 77, 97, 70, 94, 57, 44, 44, 99, 105, 81, 31, 118, 133, 140, 129, 136, 140, 90, 70, 111, 55, 125, 130, 136, 96, 143, 95, 78, 105, 149, 139, 123, 30, 99, 83]\n",
      "Counter({136: 3, 138: 3, 145: 3, 44: 3, 81: 3, 91: 3, 99: 3, 118: 3, 125: 3, 129: 2, 132: 2, 133: 2, 140: 2, 30: 2, 51: 2, 53: 2, 70: 2, 78: 2, 86: 2, 90: 2, 95: 2, 96: 2, 105: 2, 111: 2, 124: 2, 149: 1, 130: 1, 137: 1, 139: 1, 141: 1, 143: 1, 147: 1, 20: 1, 21: 1, 31: 1, 33: 1, 34: 1, 52: 1, 55: 1, 56: 1, 57: 1, 59: 1, 60: 1, 61: 1, 62: 1, 71: 1, 72: 1, 74: 1, 76: 1, 77: 1, 82: 1, 83: 1, 84: 1, 85: 1, 93: 1, 94: 1, 97: 1, 98: 1, 100: 1, 106: 1, 108: 1, 113: 1, 114: 1, 121: 1, 123: 1, 127: 1})\n"
     ]
    },
    {
     "data": {
      "image/png": "[encoded data removed]",
      "text/plain": [
       "<matplotlib.figure.Figure at 0x10b458850>"
      ]
     },
     "metadata": {},
     "output_type": "display_data"
    }
   ],
   "source": [
    "# HISTOGRAM\n",
    "random.seed(0) # keep the same randomly generated number.\n",
    "numFriends = [random.choice(range(20,150)) for _ in range(100)] # randomly generate 100 friend numbers, w/ rep.\n",
    "print numFriends\n",
    "friendCounts = Counter(numFriends) # if friendCounts[190] (i.e. out of range), return 0.\n",
    "print friendCounts\n",
    "xs = range(150) # largest value is 150.\n",
    "ys = [friendCounts[x] for x in xs]\n",
    "plt.bar(xs, ys) # bar: left offset, height.\n",
    "plt.axis([0,150,0,5])\n",
    "plt.title('Histogram of Friend Counts')\n",
    "plt.xlabel('# of friends')\n",
    "plt.ylabel('# of people')\n",
    "plt.show()"
   ]
  },
  {
   "cell_type": "code",
   "execution_count": 46,
   "metadata": {
    "collapsed": false
   },
   "outputs": [
    {
     "name": "stdout",
     "output_type": "stream",
     "text": [
      "[129, 118, 74, 53, 86, 72, 121, 59, 81, 95, 138, 85, 56, 118, 100, 52, 138, 147, 125, 137, 60, 114, 136, 108, 81, 33, 76, 99, 138, 145, 82, 132, 53, 124, 91, 21, 113, 71, 127, 106, 20, 84, 132, 51, 62, 133, 44, 93, 51, 145, 124, 78, 30, 61, 86, 141, 34, 91, 111, 91, 125, 90, 145, 98, 96, 77, 97, 70, 94, 57, 44, 44, 99, 105, 81, 31, 118, 133, 140, 129, 136, 140, 90, 70, 111, 55, 125, 130, 136, 96, 143, 95, 78, 105, 149, 139, 123, 30, 99, 83]\n",
      "Central Tendency: numFriends\n",
      "mean:  95.62\n",
      "median:  96.0\n",
      ".25 quantile:  71.75 ; .75 quantile:  125.5\n",
      "mode:  3\n"
     ]
    }
   ],
   "source": [
    "# CENTRAL TENDENCY\n",
    "print numFriends\n",
    "print 'Central Tendency: %s' % 'numFriends'\n",
    "print 'mean: ', np.mean(numFriends)\n",
    "print 'median: ', np.median(numFriends)\n",
    "print '.25 quartile: ', np.percentile(numFriends, 25), '; .75 quartile: ', np.percentile(numFriends, 75) \n",
    "def mode(x):\n",
    "    return max(Counter(x).values())\n",
    "print 'mode: ', mode(numFriends) # most frequent #-of-friends: 3"
   ]
  },
  {
   "cell_type": "code",
   "execution_count": 51,
   "metadata": {
    "collapsed": false
   },
   "outputs": [
    {
     "name": "stdout",
     "output_type": "stream",
     "text": [
      "[129, 118, 74, 53, 86, 72, 121, 59, 81, 95, 138, 85, 56, 118, 100, 52, 138, 147, 125, 137, 60, 114, 136, 108, 81, 33, 76, 99, 138, 145, 82, 132, 53, 124, 91, 21, 113, 71, 127, 106, 20, 84, 132, 51, 62, 133, 44, 93, 51, 145, 124, 78, 30, 61, 86, 141, 34, 91, 111, 91, 125, 90, 145, 98, 96, 77, 97, 70, 94, 57, 44, 44, 99, 105, 81, 31, 118, 133, 140, 129, 136, 140, 90, 70, 111, 55, 125, 130, 136, 96, 143, 95, 78, 105, 149, 139, 123, 30, 99, 83]\n",
      "Dispersion: numFriends\n",
      "range:  129\n",
      "variance:  1182.7356\n",
      "standard deviation:  34.3909232211\n",
      "interquartile range:  53.75\n"
     ]
    }
   ],
   "source": [
    "# DISPERSION\n",
    "print numFriends\n",
    "print 'Dispersion: %s' % 'numFriends'\n",
    "print 'range: ', max(numFriends) - min(numFriends)\n",
    "print 'variance: ', np.var(numFriends)\n",
    "print 'standard deviation: ', np.std(numFriends)\n",
    "print 'interquartile range: ', np.percentile(numFriends, 75) - np.percentile(numFriends, 25)"
   ]
  },
  {
   "cell_type": "code",
   "execution_count": 62,
   "metadata": {
    "collapsed": false
   },
   "outputs": [
    {
     "name": "stdout",
     "output_type": "stream",
     "text": [
      "v:  [1 2 3 4 5 6]\n",
      "w:  [   1   20   40   90  100 1000]\n",
      "Correlation: v and w\n",
      "covariance:  [[  3.50000000e+00   5.28500000e+02]\n",
      " [  5.28500000e+02   1.51853500e+05]]\n",
      "correlation (Pearson product-moment correlation coefficients):  [[ 1.          0.72493416]\n",
      " [ 0.72493416  1.        ]]\n"
     ]
    },
    {
     "data": {
      "text/plain": [
       "<matplotlib.collections.PathCollection at 0x10b290510>"
      ]
     },
     "execution_count": 62,
     "metadata": {},
     "output_type": "execute_result"
    },
    {
     "data": {
      "image/png": "[encoded data removed]",
      "text/plain": [
       "<matplotlib.figure.Figure at 0x10bc17610>"
      ]
     },
     "metadata": {},
     "output_type": "display_data"
    }
   ],
   "source": [
    "# CORRELATION\n",
    "v = np.array([1,2,3,4,5,6])\n",
    "w = np.array([1,20,40,90,100,1000])\n",
    "print 'v: ', v\n",
    "print 'w: ', w\n",
    "print 'Correlation: %s' % 'v and w'\n",
    "print 'covariance: ', np.cov(v,w)\n",
    "print 'correlation (Pearson product-moment correlation coefficients): ', np.corrcoef(v,w)\n",
    "plt.scatter(v,w)"
   ]
  },
  {
   "cell_type": "code",
   "execution_count": null,
   "metadata": {
    "collapsed": true
   },
   "outputs": [],
   "source": [
    ""
   ]
  },
  {
   "cell_type": "code",
   "execution_count": null,
   "metadata": {
    "collapsed": true
   },
   "outputs": [],
   "source": [
    ""
   ]
  },
  {
   "cell_type": "code",
   "execution_count": null,
   "metadata": {
    "collapsed": true
   },
   "outputs": [],
   "source": [
    ""
   ]
  },
  {
   "cell_type": "code",
   "execution_count": null,
   "metadata": {
    "collapsed": true
   },
   "outputs": [],
   "source": [
    ""
   ]
  },
  {
   "cell_type": "code",
   "execution_count": null,
   "metadata": {
    "collapsed": true
   },
   "outputs": [],
   "source": [
    ""
   ]
  },
  {
   "cell_type": "code",
   "execution_count": null,
   "metadata": {
    "collapsed": true
   },
   "outputs": [],
   "source": [
    ""
   ]
  },
  {
   "cell_type": "code",
   "execution_count": null,
   "metadata": {
    "collapsed": true
   },
   "outputs": [],
   "source": [
    ""
   ]
  },
  {
   "cell_type": "code",
   "execution_count": null,
   "metadata": {
    "collapsed": true
   },
   "outputs": [],
   "source": [
    ""
   ]
  },
  {
   "cell_type": "code",
   "execution_count": null,
   "metadata": {
    "collapsed": true
   },
   "outputs": [],
   "source": [
    ""
   ]
  },
  {
   "cell_type": "code",
   "execution_count": null,
   "metadata": {
    "collapsed": true
   },
   "outputs": [],
   "source": [
    ""
   ]
  },
  {
   "cell_type": "code",
   "execution_count": null,
   "metadata": {
    "collapsed": true
   },
   "outputs": [],
   "source": [
    ""
   ]
  },
  {
   "cell_type": "code",
   "execution_count": null,
   "metadata": {
    "collapsed": true
   },
   "outputs": [],
   "source": [
    ""
   ]
  },
  {
   "cell_type": "code",
   "execution_count": null,
   "metadata": {
    "collapsed": true
   },
   "outputs": [],
   "source": [
    ""
   ]
  },
  {
   "cell_type": "code",
   "execution_count": null,
   "metadata": {
    "collapsed": true
   },
   "outputs": [],
   "source": [
    ""
   ]
  },
  {
   "cell_type": "code",
   "execution_count": null,
   "metadata": {
    "collapsed": true
   },
   "outputs": [],
   "source": [
    ""
   ]
  },
  {
   "cell_type": "code",
   "execution_count": null,
   "metadata": {
    "collapsed": true
   },
   "outputs": [],
   "source": [
    ""
   ]
  },
  {
   "cell_type": "code",
   "execution_count": null,
   "metadata": {
    "collapsed": true
   },
   "outputs": [],
   "source": [
    ""
   ]
  },
  {
   "cell_type": "code",
   "execution_count": null,
   "metadata": {
    "collapsed": true
   },
   "outputs": [],
   "source": [
    ""
   ]
  },
  {
   "cell_type": "code",
   "execution_count": null,
   "metadata": {
    "collapsed": true
   },
   "outputs": [],
   "source": [
    ""
   ]
  },
  {
   "cell_type": "code",
   "execution_count": null,
   "metadata": {
    "collapsed": true
   },
   "outputs": [],
   "source": [
    ""
   ]
  },
  {
   "cell_type": "code",
   "execution_count": null,
   "metadata": {
    "collapsed": true
   },
   "outputs": [],
   "source": [
    ""
   ]
  },
  {
   "cell_type": "code",
   "execution_count": null,
   "metadata": {
    "collapsed": true
   },
   "outputs": [],
   "source": [
    ""
   ]
  },
  {
   "cell_type": "code",
   "execution_count": null,
   "metadata": {
    "collapsed": true
   },
   "outputs": [],
   "source": [
    ""
   ]
  },
  {
   "cell_type": "code",
   "execution_count": null,
   "metadata": {
    "collapsed": true
   },
   "outputs": [],
   "source": [
    ""
   ]
  },
  {
   "cell_type": "code",
   "execution_count": null,
   "metadata": {
    "collapsed": true
   },
   "outputs": [],
   "source": [
    ""
   ]
  },
  {
   "cell_type": "code",
   "execution_count": null,
   "metadata": {
    "collapsed": true
   },
   "outputs": [],
   "source": [
    ""
   ]
  },
  {
   "cell_type": "code",
   "execution_count": null,
   "metadata": {
    "collapsed": true
   },
   "outputs": [],
   "source": [
    ""
   ]
  },
  {
   "cell_type": "code",
   "execution_count": null,
   "metadata": {
    "collapsed": true
   },
   "outputs": [],
   "source": [
    ""
   ]
  },
  {
   "cell_type": "code",
   "execution_count": null,
   "metadata": {
    "collapsed": true
   },
   "outputs": [],
   "source": [
    ""
   ]
  },
  {
   "cell_type": "code",
   "execution_count": null,
   "metadata": {
    "collapsed": true
   },
   "outputs": [],
   "source": [
    ""
   ]
  }
 ],
 "metadata": {
  "kernelspec": {
   "display_name": "Python 2",
   "language": "python",
   "name": "python2"
  },
  "language_info": {
   "codemirror_mode": {
    "name": "ipython",
    "version": 2.0
   },
   "file_extension": ".py",
   "mimetype": "text/x-python",
   "name": "python",
   "nbconvert_exporter": "python",
   "pygments_lexer": "ipython2",
   "version": "2.7.11"
  }
 },
 "nbformat": 4,
 "nbformat_minor": 0
}